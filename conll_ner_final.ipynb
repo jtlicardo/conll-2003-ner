{
  "nbformat": 4,
  "nbformat_minor": 0,
  "metadata": {
    "colab": {
      "provenance": [],
      "collapsed_sections": []
    },
    "kernelspec": {
      "name": "python3",
      "display_name": "Python 3"
    },
    "language_info": {
      "name": "python"
    }
  },
  "cells": [
    {
      "cell_type": "markdown",
      "source": [
        "# Projekt\n",
        "\n",
        "**Tema**  \n",
        "Usporedba alata za označavanje teksta\n",
        "\n",
        "**Studij**  \n",
        "Preddiplomski studij informatike"
      ],
      "metadata": {
        "id": "RuOcJCRt7xYL"
      }
    },
    {
      "cell_type": "markdown",
      "source": [
        "# Uvod\n",
        "\n",
        "Alati za označavanje teksta se koriste za izradu tekstualnih skupova podataka koji se zatim koriste u treniranju modela strojnog ili dubokog učenja. Postoje razni problemi u [obradi prirodnog jezika](https://en.wikipedia.org/wiki/Natural_language_processing) koji se mogu riješiti pomoću umjetne inteligencije: prepoznavanje imenovanih entiteta, klasifikacija teksta, analiza sentimenta, prepoznavanje dijelova rečenice (npr. prepoznavanje imenica, glagola i pridjeva u nekoj rečenici). U sklopu ovog projekta odlučio sam se fokusirati na zadatak **prepoznavanja imenovanih entiteta**.\n",
        "\n",
        "[Prepoznavanje imenovanih entiteta](https://en.wikipedia.org/wiki/Named-entity_recognition) (*named entity recognition* ili skraćeno *NER*) je zadatak ekstrakcije informacija koji nastoji locirati i klasificirati imenovane entitete u nestrukturiranom tekstu. Imenovani entiteti mogu biti imena osoba, imena organizacija, geografske lokacije, količine, vremenski izrazi i slično. Prepoznavanje imenovanih entiteta ima veliku ulogu u sustavima za ekstrakciju informacija iz raznih dokumenata i tekstova."
      ],
      "metadata": {
        "id": "B_s9yzmL7JQa"
      }
    },
    {
      "cell_type": "markdown",
      "source": [
        "# Opis i preuzimanje podataka (CoNLL-2003)\n",
        "\n",
        "Podatke ćemo preuzeti sa https://deepai.org/dataset/conll-2003-english\n",
        "\n",
        "**CoNLL-2003** je skup podataka za prepoznavanje imenovanih entiteta.\n",
        "\n",
        "Primjer označene rečenice:  \n",
        "**`[ORG U.N.]`** official **`[PER Ekeus]`** head for **`[LOC Baghdad]`**.\n",
        "\n",
        "Gornja rečenica sadrži 3 imenovana entiteta: organizaciju (UN - United Nations), osobu (Ekeus - švedski diplomat Rolf Ekéus) i lokaciju (Baghdad).\n",
        "\n",
        "CoNLL-2003 skup podataka sadrži 4 vrste imenovanih entiteta: osobe (PER), lokacije (LOC), organizacije (ORG) i \"ostale\" entitete (MISC). Svaka riječ u rečenici koja ne pripada nijednoj od tih kategorija označena je slovom O. \n",
        "\n",
        "Također, svaka od 4 vrste imenovanih entiteta ima 2 podkategorije ovisno o tome da li označava početak imenovanog entiteta ili se nalazi unutar njega.  \n",
        "\n",
        "Primjer:  \n",
        "**`[B-PER Joe]`** **`[I-PER Biden]`** is the President of the **`[B-LOC United]`** **`[I-LOC States]`**.  \n",
        "\n",
        "U gornjoj rečenici imamo dva imenovana entiteta (*Joe Biden* i *United States*), no oni se sastoje od više riječi. Prefiks B- označava *početak* imenovanog entiteta, dok prefiks I- označava da se ta riječ nalazi *unutar* imenovanog entiteta.\n",
        "\n",
        "Dakle, možemo zaključiti da u CoNLL-2003 skupu podataka imamo 9 vrsta oznaka:  \n",
        "\n",
        "```\n",
        "B-PER -> početak imena osobe\n",
        "I-PER -> nastavak imena osobe\n",
        "B-LOC -> početak geografske lokacije\n",
        "I-LOC -> nastavak geografske lokacije\n",
        "B-ORG -> početak imena organizacije\n",
        "I-ORG -> nastavak imena organizacije\n",
        "B-MISC -> početak \"nerazvrstanog\" entiteta\n",
        "I-MISC -> nastavak \"nerazvrstanog\" entiteta\n",
        "O -> oznaka za riječ koja nije entitet\n",
        "```\n",
        "\n",
        "Originalni znanstveni rad koji je predstavio ovaj skup podataka možemo pronaći na linku: https://arxiv.org/pdf/cs/0306050v1.pdf. Rečenice koje se nalaze u tom skupu podataka preuzete su iz novinskih članaka agencije [Reuters](https://en.wikipedia.org/wiki/Reuters) u razdoblju od 1996. do 1997. godine."
      ],
      "metadata": {
        "id": "kUAxZKzX6QTZ"
      }
    },
    {
      "cell_type": "code",
      "execution_count": null,
      "metadata": {
        "colab": {
          "base_uri": "https://localhost:8080/"
        },
        "id": "ZKr_iRyoX57a",
        "outputId": "cd85676f-b5ac-4c1b-df3c-b15d6bdcd476"
      },
      "outputs": [
        {
          "output_type": "stream",
          "name": "stdout",
          "text": [
            "--2022-06-10 15:37:14--  https://data.deepai.org/conll2003.zip\n",
            "Resolving data.deepai.org (data.deepai.org)... 138.201.36.183\n",
            "Connecting to data.deepai.org (data.deepai.org)|138.201.36.183|:443... connected.\n",
            "HTTP request sent, awaiting response... 200 OK\n",
            "Length: 982975 (960K) [application/x-zip-compressed]\n",
            "Saving to: ‘conll2003.zip’\n",
            "\n",
            "conll2003.zip       100%[===================>] 959.94K  2.05MB/s    in 0.5s    \n",
            "\n",
            "2022-06-10 15:37:15 (2.05 MB/s) - ‘conll2003.zip’ saved [982975/982975]\n",
            "\n"
          ]
        }
      ],
      "source": [
        "# Preuzimanje podataka\n",
        "!wget https://data.deepai.org/conll2003.zip"
      ]
    },
    {
      "cell_type": "markdown",
      "source": [
        "# Vizualizacija podataka"
      ],
      "metadata": {
        "id": "373jQ3TT6VdP"
      }
    },
    {
      "cell_type": "code",
      "source": [
        "# Raspakiravanje .zip datoteke\n",
        "import zipfile\n",
        "zip_ref = zipfile.ZipFile(\"conll2003.zip\", \"r\")\n",
        "zip_ref.extractall()\n",
        "zip_ref.close()"
      ],
      "metadata": {
        "id": "gnD8fyxJYEKd"
      },
      "execution_count": null,
      "outputs": []
    },
    {
      "cell_type": "code",
      "source": [
        "# Funkcija za dohvaćanje linija teksta iz .txt datoteke\n",
        "def get_lines(filename):\n",
        "  with open(filename, \"r\") as f:\n",
        "    return f.readlines()"
      ],
      "metadata": {
        "id": "B02V3JJeYFaP"
      },
      "execution_count": null,
      "outputs": []
    },
    {
      "cell_type": "code",
      "source": [
        "# Dohvaćanje linija teksta\n",
        "train = get_lines(\"train.txt\")\n",
        "valid = get_lines(\"valid.txt\")\n",
        "test = get_lines(\"test.txt\")"
      ],
      "metadata": {
        "id": "LLxSFWXdYGg1"
      },
      "execution_count": null,
      "outputs": []
    },
    {
      "cell_type": "code",
      "source": [
        "print(\"Broj linija teksta u skupu za treniranje:\", len(train))\n",
        "print(\"Broj linija teksta u skupu za validaciju:\", len(valid))\n",
        "print(\"Broj linija teksta u skupu za testiranje:\", len(test))"
      ],
      "metadata": {
        "colab": {
          "base_uri": "https://localhost:8080/"
        },
        "id": "LqL0CFi4YHxl",
        "outputId": "429df20c-06c0-4538-f6cd-7b48a777d9f4"
      },
      "execution_count": null,
      "outputs": [
        {
          "output_type": "stream",
          "name": "stdout",
          "text": [
            "Broj linija teksta u skupu za treniranje: 219554\n",
            "Broj linija teksta u skupu za validaciju: 55044\n",
            "Broj linija teksta u skupu za testiranje: 50350\n"
          ]
        }
      ]
    },
    {
      "cell_type": "code",
      "source": [
        "# Prvih 30 linija teksta iz skupa za treniranje\n",
        "train[:30]"
      ],
      "metadata": {
        "colab": {
          "base_uri": "https://localhost:8080/"
        },
        "id": "HwPh1sNnI-jr",
        "outputId": "a0d07dd9-a4b7-4704-b67e-6855b2b55dbc"
      },
      "execution_count": null,
      "outputs": [
        {
          "output_type": "execute_result",
          "data": {
            "text/plain": [
              "['-DOCSTART- -X- -X- O\\n',\n",
              " '\\n',\n",
              " 'EU NNP B-NP B-ORG\\n',\n",
              " 'rejects VBZ B-VP O\\n',\n",
              " 'German JJ B-NP B-MISC\\n',\n",
              " 'call NN I-NP O\\n',\n",
              " 'to TO B-VP O\\n',\n",
              " 'boycott VB I-VP O\\n',\n",
              " 'British JJ B-NP B-MISC\\n',\n",
              " 'lamb NN I-NP O\\n',\n",
              " '. . O O\\n',\n",
              " '\\n',\n",
              " 'Peter NNP B-NP B-PER\\n',\n",
              " 'Blackburn NNP I-NP I-PER\\n',\n",
              " '\\n',\n",
              " 'BRUSSELS NNP B-NP B-LOC\\n',\n",
              " '1996-08-22 CD I-NP O\\n',\n",
              " '\\n',\n",
              " 'The DT B-NP O\\n',\n",
              " 'European NNP I-NP B-ORG\\n',\n",
              " 'Commission NNP I-NP I-ORG\\n',\n",
              " 'said VBD B-VP O\\n',\n",
              " 'on IN B-PP O\\n',\n",
              " 'Thursday NNP B-NP O\\n',\n",
              " 'it PRP B-NP O\\n',\n",
              " 'disagreed VBD B-VP O\\n',\n",
              " 'with IN B-PP O\\n',\n",
              " 'German JJ B-NP B-MISC\\n',\n",
              " 'advice NN I-NP O\\n',\n",
              " 'to TO B-PP O\\n']"
            ]
          },
          "metadata": {},
          "execution_count": 6
        }
      ]
    },
    {
      "cell_type": "code",
      "source": [
        "# Zadnjih 20 linija teksta iz skupa za treniranje\n",
        "train[-20:]"
      ],
      "metadata": {
        "colab": {
          "base_uri": "https://localhost:8080/"
        },
        "id": "etxAwc4_JBpS",
        "outputId": "25b9e57f-c16b-4904-eb75-fc6f53c414e8"
      },
      "execution_count": null,
      "outputs": [
        {
          "output_type": "execute_result",
          "data": {
            "text/plain": [
              "['on IN B-PP O\\n',\n",
              " 'Friday NNP B-NP O\\n',\n",
              " ': : O O\\n',\n",
              " '\\n',\n",
              " 'Division NN B-NP O\\n',\n",
              " 'two CD I-NP O\\n',\n",
              " '\\n',\n",
              " 'Plymouth NN B-NP B-ORG\\n',\n",
              " '2 CD I-NP O\\n',\n",
              " 'Preston NNP I-NP B-ORG\\n',\n",
              " '1 CD I-NP O\\n',\n",
              " '\\n',\n",
              " 'Division NN B-NP O\\n',\n",
              " 'three CD I-NP O\\n',\n",
              " '\\n',\n",
              " 'Swansea NN B-NP B-ORG\\n',\n",
              " '1 CD I-NP O\\n',\n",
              " 'Lincoln NNP I-NP B-ORG\\n',\n",
              " '2 CD I-NP O\\n',\n",
              " '\\n']"
            ]
          },
          "metadata": {},
          "execution_count": 7
        }
      ]
    },
    {
      "cell_type": "markdown",
      "source": [
        "Iz linija teksta u skupu za treniranje vidimo da su podaci strukturirani na sljedeći način:\n",
        "\n",
        "* na početku dokumenta stoji oznaka `-DOCSTART-`\n",
        "* početak nove (tj. kraj stare) rečenice je označen sa `\\n`\n",
        "* rečenice su podijeljene u riječi\n",
        "* linija za svaku riječ sadrži samu riječ, part-of-speech tag, chunk tag i NER tag (to možemo pročitati u dijelu 2.3. [znanstvenog rada](https://arxiv.org/pdf/cs/0306050v1.pdf))\n",
        "\n",
        "Nama je u sklopu ovog zadatka dovoljno imati samu riječ i NER tag koji označava o kojoj vrsti entiteta se radi."
      ],
      "metadata": {
        "id": "DQl4Nph9W2V3"
      }
    },
    {
      "cell_type": "markdown",
      "source": [
        "# Priprema podataka"
      ],
      "metadata": {
        "id": "K_NRpDLs6XqL"
      }
    },
    {
      "cell_type": "code",
      "source": [
        "# Funkcija za obradu podataka\n",
        "def preprocess_text (text):\n",
        "  \n",
        "  preprocessed_lines = []\n",
        "  sentence_num = -1\n",
        "\n",
        "  for line in text:\n",
        "    if line.startswith(\"-DOCSTART-\"): # početak dokumenta preskačemo\n",
        "      pass\n",
        "    elif line == \"\\n\": # kraj rečenice\n",
        "      sentence_num += 1\n",
        "    else: # obrada riječi (spremamo podatke u rječnik)\n",
        "      line_data = {}\n",
        "      line_split = line.split()\n",
        "      line_data[\"word\"] = line_split[0]\n",
        "      line_data[\"label\"] = line_split[-1]\n",
        "      line_data[\"sentence_num\"] = sentence_num\n",
        "      preprocessed_lines.append(line_data)\n",
        "  \n",
        "  return preprocessed_lines"
      ],
      "metadata": {
        "id": "blo6vkW2YJHo"
      },
      "execution_count": null,
      "outputs": []
    },
    {
      "cell_type": "code",
      "source": [
        "# Obrada skupova za treniranje, validaciju i testiranje\n",
        "preprocessed_train = preprocess_text(train)\n",
        "preprocessed_valid = preprocess_text(valid)\n",
        "preprocessed_test = preprocess_text(test)"
      ],
      "metadata": {
        "id": "CZvEJsD0YN-h"
      },
      "execution_count": null,
      "outputs": []
    },
    {
      "cell_type": "code",
      "source": [
        "# Kreiranje DataFrame-ove za vizualizaciju obrađenih podataka\n",
        "import pandas as pd\n",
        "train_df = pd.DataFrame(preprocessed_train)\n",
        "val_df = pd.DataFrame(preprocessed_valid)\n",
        "test_df = pd.DataFrame(preprocessed_test)\n",
        "\n",
        "# Prvih 20 riječi u skupu za treniranje\n",
        "train_df.head(20)"
      ],
      "metadata": {
        "colab": {
          "base_uri": "https://localhost:8080/",
          "height": 676
        },
        "id": "HKM1Lh8lYPM_",
        "outputId": "b4c4497c-1635-4f25-e9f1-99645228ca31"
      },
      "execution_count": null,
      "outputs": [
        {
          "output_type": "execute_result",
          "data": {
            "text/plain": [
              "          word   label  sentence_num\n",
              "0           EU   B-ORG             0\n",
              "1      rejects       O             0\n",
              "2       German  B-MISC             0\n",
              "3         call       O             0\n",
              "4           to       O             0\n",
              "5      boycott       O             0\n",
              "6      British  B-MISC             0\n",
              "7         lamb       O             0\n",
              "8            .       O             0\n",
              "9        Peter   B-PER             1\n",
              "10   Blackburn   I-PER             1\n",
              "11    BRUSSELS   B-LOC             2\n",
              "12  1996-08-22       O             2\n",
              "13         The       O             3\n",
              "14    European   B-ORG             3\n",
              "15  Commission   I-ORG             3\n",
              "16        said       O             3\n",
              "17          on       O             3\n",
              "18    Thursday       O             3\n",
              "19          it       O             3"
            ],
            "text/html": [
              "\n",
              "  <div id=\"df-88ebb18e-fce0-4b9c-a92a-8207a4444463\">\n",
              "    <div class=\"colab-df-container\">\n",
              "      <div>\n",
              "<style scoped>\n",
              "    .dataframe tbody tr th:only-of-type {\n",
              "        vertical-align: middle;\n",
              "    }\n",
              "\n",
              "    .dataframe tbody tr th {\n",
              "        vertical-align: top;\n",
              "    }\n",
              "\n",
              "    .dataframe thead th {\n",
              "        text-align: right;\n",
              "    }\n",
              "</style>\n",
              "<table border=\"1\" class=\"dataframe\">\n",
              "  <thead>\n",
              "    <tr style=\"text-align: right;\">\n",
              "      <th></th>\n",
              "      <th>word</th>\n",
              "      <th>label</th>\n",
              "      <th>sentence_num</th>\n",
              "    </tr>\n",
              "  </thead>\n",
              "  <tbody>\n",
              "    <tr>\n",
              "      <th>0</th>\n",
              "      <td>EU</td>\n",
              "      <td>B-ORG</td>\n",
              "      <td>0</td>\n",
              "    </tr>\n",
              "    <tr>\n",
              "      <th>1</th>\n",
              "      <td>rejects</td>\n",
              "      <td>O</td>\n",
              "      <td>0</td>\n",
              "    </tr>\n",
              "    <tr>\n",
              "      <th>2</th>\n",
              "      <td>German</td>\n",
              "      <td>B-MISC</td>\n",
              "      <td>0</td>\n",
              "    </tr>\n",
              "    <tr>\n",
              "      <th>3</th>\n",
              "      <td>call</td>\n",
              "      <td>O</td>\n",
              "      <td>0</td>\n",
              "    </tr>\n",
              "    <tr>\n",
              "      <th>4</th>\n",
              "      <td>to</td>\n",
              "      <td>O</td>\n",
              "      <td>0</td>\n",
              "    </tr>\n",
              "    <tr>\n",
              "      <th>5</th>\n",
              "      <td>boycott</td>\n",
              "      <td>O</td>\n",
              "      <td>0</td>\n",
              "    </tr>\n",
              "    <tr>\n",
              "      <th>6</th>\n",
              "      <td>British</td>\n",
              "      <td>B-MISC</td>\n",
              "      <td>0</td>\n",
              "    </tr>\n",
              "    <tr>\n",
              "      <th>7</th>\n",
              "      <td>lamb</td>\n",
              "      <td>O</td>\n",
              "      <td>0</td>\n",
              "    </tr>\n",
              "    <tr>\n",
              "      <th>8</th>\n",
              "      <td>.</td>\n",
              "      <td>O</td>\n",
              "      <td>0</td>\n",
              "    </tr>\n",
              "    <tr>\n",
              "      <th>9</th>\n",
              "      <td>Peter</td>\n",
              "      <td>B-PER</td>\n",
              "      <td>1</td>\n",
              "    </tr>\n",
              "    <tr>\n",
              "      <th>10</th>\n",
              "      <td>Blackburn</td>\n",
              "      <td>I-PER</td>\n",
              "      <td>1</td>\n",
              "    </tr>\n",
              "    <tr>\n",
              "      <th>11</th>\n",
              "      <td>BRUSSELS</td>\n",
              "      <td>B-LOC</td>\n",
              "      <td>2</td>\n",
              "    </tr>\n",
              "    <tr>\n",
              "      <th>12</th>\n",
              "      <td>1996-08-22</td>\n",
              "      <td>O</td>\n",
              "      <td>2</td>\n",
              "    </tr>\n",
              "    <tr>\n",
              "      <th>13</th>\n",
              "      <td>The</td>\n",
              "      <td>O</td>\n",
              "      <td>3</td>\n",
              "    </tr>\n",
              "    <tr>\n",
              "      <th>14</th>\n",
              "      <td>European</td>\n",
              "      <td>B-ORG</td>\n",
              "      <td>3</td>\n",
              "    </tr>\n",
              "    <tr>\n",
              "      <th>15</th>\n",
              "      <td>Commission</td>\n",
              "      <td>I-ORG</td>\n",
              "      <td>3</td>\n",
              "    </tr>\n",
              "    <tr>\n",
              "      <th>16</th>\n",
              "      <td>said</td>\n",
              "      <td>O</td>\n",
              "      <td>3</td>\n",
              "    </tr>\n",
              "    <tr>\n",
              "      <th>17</th>\n",
              "      <td>on</td>\n",
              "      <td>O</td>\n",
              "      <td>3</td>\n",
              "    </tr>\n",
              "    <tr>\n",
              "      <th>18</th>\n",
              "      <td>Thursday</td>\n",
              "      <td>O</td>\n",
              "      <td>3</td>\n",
              "    </tr>\n",
              "    <tr>\n",
              "      <th>19</th>\n",
              "      <td>it</td>\n",
              "      <td>O</td>\n",
              "      <td>3</td>\n",
              "    </tr>\n",
              "  </tbody>\n",
              "</table>\n",
              "</div>\n",
              "      <button class=\"colab-df-convert\" onclick=\"convertToInteractive('df-88ebb18e-fce0-4b9c-a92a-8207a4444463')\"\n",
              "              title=\"Convert this dataframe to an interactive table.\"\n",
              "              style=\"display:none;\">\n",
              "        \n",
              "  <svg xmlns=\"http://www.w3.org/2000/svg\" height=\"24px\"viewBox=\"0 0 24 24\"\n",
              "       width=\"24px\">\n",
              "    <path d=\"M0 0h24v24H0V0z\" fill=\"none\"/>\n",
              "    <path d=\"M18.56 5.44l.94 2.06.94-2.06 2.06-.94-2.06-.94-.94-2.06-.94 2.06-2.06.94zm-11 1L8.5 8.5l.94-2.06 2.06-.94-2.06-.94L8.5 2.5l-.94 2.06-2.06.94zm10 10l.94 2.06.94-2.06 2.06-.94-2.06-.94-.94-2.06-.94 2.06-2.06.94z\"/><path d=\"M17.41 7.96l-1.37-1.37c-.4-.4-.92-.59-1.43-.59-.52 0-1.04.2-1.43.59L10.3 9.45l-7.72 7.72c-.78.78-.78 2.05 0 2.83L4 21.41c.39.39.9.59 1.41.59.51 0 1.02-.2 1.41-.59l7.78-7.78 2.81-2.81c.8-.78.8-2.07 0-2.86zM5.41 20L4 18.59l7.72-7.72 1.47 1.35L5.41 20z\"/>\n",
              "  </svg>\n",
              "      </button>\n",
              "      \n",
              "  <style>\n",
              "    .colab-df-container {\n",
              "      display:flex;\n",
              "      flex-wrap:wrap;\n",
              "      gap: 12px;\n",
              "    }\n",
              "\n",
              "    .colab-df-convert {\n",
              "      background-color: #E8F0FE;\n",
              "      border: none;\n",
              "      border-radius: 50%;\n",
              "      cursor: pointer;\n",
              "      display: none;\n",
              "      fill: #1967D2;\n",
              "      height: 32px;\n",
              "      padding: 0 0 0 0;\n",
              "      width: 32px;\n",
              "    }\n",
              "\n",
              "    .colab-df-convert:hover {\n",
              "      background-color: #E2EBFA;\n",
              "      box-shadow: 0px 1px 2px rgba(60, 64, 67, 0.3), 0px 1px 3px 1px rgba(60, 64, 67, 0.15);\n",
              "      fill: #174EA6;\n",
              "    }\n",
              "\n",
              "    [theme=dark] .colab-df-convert {\n",
              "      background-color: #3B4455;\n",
              "      fill: #D2E3FC;\n",
              "    }\n",
              "\n",
              "    [theme=dark] .colab-df-convert:hover {\n",
              "      background-color: #434B5C;\n",
              "      box-shadow: 0px 1px 3px 1px rgba(0, 0, 0, 0.15);\n",
              "      filter: drop-shadow(0px 1px 2px rgba(0, 0, 0, 0.3));\n",
              "      fill: #FFFFFF;\n",
              "    }\n",
              "  </style>\n",
              "\n",
              "      <script>\n",
              "        const buttonEl =\n",
              "          document.querySelector('#df-88ebb18e-fce0-4b9c-a92a-8207a4444463 button.colab-df-convert');\n",
              "        buttonEl.style.display =\n",
              "          google.colab.kernel.accessAllowed ? 'block' : 'none';\n",
              "\n",
              "        async function convertToInteractive(key) {\n",
              "          const element = document.querySelector('#df-88ebb18e-fce0-4b9c-a92a-8207a4444463');\n",
              "          const dataTable =\n",
              "            await google.colab.kernel.invokeFunction('convertToInteractive',\n",
              "                                                     [key], {});\n",
              "          if (!dataTable) return;\n",
              "\n",
              "          const docLinkHtml = 'Like what you see? Visit the ' +\n",
              "            '<a target=\"_blank\" href=https://colab.research.google.com/notebooks/data_table.ipynb>data table notebook</a>'\n",
              "            + ' to learn more about interactive tables.';\n",
              "          element.innerHTML = '';\n",
              "          dataTable['output_type'] = 'display_data';\n",
              "          await google.colab.output.renderOutput(dataTable, element);\n",
              "          const docLink = document.createElement('div');\n",
              "          docLink.innerHTML = docLinkHtml;\n",
              "          element.appendChild(docLink);\n",
              "        }\n",
              "      </script>\n",
              "    </div>\n",
              "  </div>\n",
              "  "
            ]
          },
          "metadata": {},
          "execution_count": 10
        }
      ]
    },
    {
      "cell_type": "code",
      "source": [
        "# Koliki je ukupni broj riječi?\n",
        "total_words = list(train_df[\"word\"].values)\n",
        "print(f\"Ukupni broj riječi: {len(total_words)}\")"
      ],
      "metadata": {
        "colab": {
          "base_uri": "https://localhost:8080/"
        },
        "id": "LeOba9qkZlAb",
        "outputId": "c29090bb-749a-430e-b5ce-e42fa85906e5"
      },
      "execution_count": null,
      "outputs": [
        {
          "output_type": "stream",
          "name": "stdout",
          "text": [
            "Ukupni broj riječi: 203621\n"
          ]
        }
      ]
    },
    {
      "cell_type": "code",
      "source": [
        "# Koliko imamo jedinstvenih riječi i oznaka?\n",
        "words = list(set(train_df[\"word\"].values))\n",
        "labels = list(set(train_df[\"label\"].values))\n",
        "\n",
        "num_words, num_labels = len(words), len(labels)\n",
        "\n",
        "print(f\"Broj jedinstvenih riječi: {num_words}\")\n",
        "print(f\"Broj jedinstvenih oznaka: {num_labels}\")"
      ],
      "metadata": {
        "id": "OjTcZSloYYpN",
        "colab": {
          "base_uri": "https://localhost:8080/"
        },
        "outputId": "78c50bbf-ead2-45e3-bc1b-1bb06d87b198"
      },
      "execution_count": null,
      "outputs": [
        {
          "output_type": "stream",
          "name": "stdout",
          "text": [
            "Broj jedinstvenih riječi: 23623\n",
            "Broj jedinstvenih oznaka: 9\n"
          ]
        }
      ]
    },
    {
      "cell_type": "markdown",
      "source": [
        "Kao što smo i očekivali, broj jedinstvenih oznaka je 9."
      ],
      "metadata": {
        "id": "8ZePggJMaJzV"
      }
    },
    {
      "cell_type": "markdown",
      "source": [
        "## Kreiranje liste rečenica"
      ],
      "metadata": {
        "id": "HfGefRlG6bIw"
      }
    },
    {
      "cell_type": "code",
      "source": [
        "# Funkcija koja prima DataFrame sličan gornjem i vraća listu rečenica\n",
        "def get_sentences_list_from_df (df):\n",
        "\n",
        "  sentences = []\n",
        "  sentence = \"\"\n",
        "\n",
        "  for index, row in df.iterrows():\n",
        "    if index == 0:\n",
        "      sentence += row[\"word\"]\n",
        "    elif row[\"sentence_num\"] == df.iloc[index - 1][\"sentence_num\"]: # ista rečenica kao i prije\n",
        "      sentence += \" \" + row[\"word\"]\n",
        "    else: # nova rečenica\n",
        "      sentences.append(sentence)\n",
        "      sentence = \"\"\n",
        "      sentence += row[\"word\"]\n",
        "    \n",
        "  return sentences"
      ],
      "metadata": {
        "id": "jkQirxk3jaTX"
      },
      "execution_count": null,
      "outputs": []
    },
    {
      "cell_type": "code",
      "source": [
        "# Kreiranje liste rečenica\n",
        "train_sentences_list = get_sentences_list_from_df(train_df)\n",
        "val_sentences_list = get_sentences_list_from_df(val_df)\n",
        "test_sentences_list = get_sentences_list_from_df(test_df)"
      ],
      "metadata": {
        "id": "nV1VbMIxjk2d"
      },
      "execution_count": null,
      "outputs": []
    },
    {
      "cell_type": "code",
      "source": [
        "# Prvih 5 rečenica u skupu za treniranje\n",
        "for sent in train_sentences_list[:5]:\n",
        "  print(sent if len(sent) < 140 else sent[:140] + \"... (skraćeno)\")"
      ],
      "metadata": {
        "colab": {
          "base_uri": "https://localhost:8080/"
        },
        "id": "WvWlZ_MZbLr0",
        "outputId": "a0c07fa4-1aad-4dd5-8b3e-12c4fc2a6954"
      },
      "execution_count": null,
      "outputs": [
        {
          "output_type": "stream",
          "name": "stdout",
          "text": [
            "EU rejects German call to boycott British lamb .\n",
            "Peter Blackburn\n",
            "BRUSSELS 1996-08-22\n",
            "The European Commission said on Thursday it disagreed with German advice to consumers to shun British lamb until scientists determine whethe... (skraćeno)\n",
            "Germany 's representative to the European Union 's veterinary committee Werner Zwingmann said on Wednesday consumers should buy sheepmeat fr... (skraćeno)\n"
          ]
        }
      ]
    },
    {
      "cell_type": "markdown",
      "source": [
        "## Prosječna duljina rečenica"
      ],
      "metadata": {
        "id": "QSLI9UBEfAzq"
      }
    },
    {
      "cell_type": "code",
      "source": [
        "# Vizualizacija duljina svih rečenica\n",
        "import matplotlib.pyplot as plt\n",
        "plt.hist([len(s.split()) for s in train_sentences_list], bins=10)\n",
        "plt.show()"
      ],
      "metadata": {
        "colab": {
          "base_uri": "https://localhost:8080/",
          "height": 265
        },
        "id": "o8W2gODpf1Sw",
        "outputId": "1805af13-2f4e-4e74-b4dd-41f6b4c3a73d"
      },
      "execution_count": null,
      "outputs": [
        {
          "output_type": "display_data",
          "data": {
            "text/plain": [
              "<Figure size 432x288 with 1 Axes>"
            ],
            "image/png": "[encoded data removed]"
          },
          "metadata": {
            "needs_background": "light"
          }
        }
      ]
    },
    {
      "cell_type": "code",
      "source": [
        "# Kolika je prosječna duljina rečenica?\n",
        "\n",
        "sum = 0\n",
        "\n",
        "for sent in train_sentences_list:\n",
        "  sum += len(sent.split())\n",
        "\n",
        "print(\"Prosječna duljina rečenice:\", sum / len(train_sentences_list))"
      ],
      "metadata": {
        "colab": {
          "base_uri": "https://localhost:8080/"
        },
        "id": "gh2yiELVdsOr",
        "outputId": "49420608-7f90-4172-97f7-b30e1966f705"
      },
      "execution_count": null,
      "outputs": [
        {
          "output_type": "stream",
          "name": "stdout",
          "text": [
            "Prosječna duljina rečenice: 14.502635327635328\n"
          ]
        }
      ]
    },
    {
      "cell_type": "code",
      "source": [
        "# Kolika duljina rečenica \"pokriva\" 95% svih duljina?\n",
        "\n",
        "import numpy as np\n",
        "\n",
        "sent_lens = []\n",
        "\n",
        "for sent in train_sentences_list:\n",
        "  sent_lens.append(len(sent.split()))\n",
        "\n",
        "print(int(np.percentile(sent_lens, 95)))"
      ],
      "metadata": {
        "colab": {
          "base_uri": "https://localhost:8080/"
        },
        "id": "t5De_c9Sd_L8",
        "outputId": "89120fd9-02cf-4660-b123-0fcedb11abd4"
      },
      "execution_count": null,
      "outputs": [
        {
          "output_type": "stream",
          "name": "stdout",
          "text": [
            "37\n"
          ]
        }
      ]
    },
    {
      "cell_type": "markdown",
      "source": [
        "95% svih rečenica ima duljinu manju od 37."
      ],
      "metadata": {
        "id": "vafKPS4kfQC8"
      }
    },
    {
      "cell_type": "markdown",
      "source": [
        "## Vektorizacija teksta\n",
        "\n",
        "Vektorizacija teksta je proces pretvaranja teksta u numerički format. Keras sadrži sloj naziva `TextVectorization` pomoću kojeg možemo vektorizirati tekst."
      ],
      "metadata": {
        "id": "yOuEXPdF7v02"
      }
    },
    {
      "cell_type": "code",
      "source": [
        "print(f\"Broj jedinstvenih riječi: {num_words}\")"
      ],
      "metadata": {
        "colab": {
          "base_uri": "https://localhost:8080/"
        },
        "id": "3_TUMgTjf5Y9",
        "outputId": "836ef1f1-8697-48d7-de76-6c1ea55adb30"
      },
      "execution_count": null,
      "outputs": [
        {
          "output_type": "stream",
          "name": "stdout",
          "text": [
            "Broj jedinstvenih riječi: 23623\n"
          ]
        }
      ]
    },
    {
      "cell_type": "markdown",
      "source": [
        "Postaviti ćemo duljinu rečenica da bude jednaka 50 jer smo zaključili da to daje bolje rezultate od slučaja kada su duljine rečenica manje."
      ],
      "metadata": {
        "id": "Y3KZ5GXv7GUG"
      }
    },
    {
      "cell_type": "code",
      "source": [
        "from tensorflow.keras.layers import TextVectorization\n",
        "\n",
        "text_vectorizer = TextVectorization(max_tokens=23000, # maksimalni broj numeriranih riječi\n",
        "                                    output_sequence_length=50) # duljina sekvenci će biti 50"
      ],
      "metadata": {
        "id": "S5_ZU9cAi_98"
      },
      "execution_count": null,
      "outputs": []
    },
    {
      "cell_type": "markdown",
      "source": [
        "Pozivanjem `.adapt()` metode nad objektom klase `TextVectorization` mapiramo svaku riječ iz skupa rečenica na neki broj."
      ],
      "metadata": {
        "id": "To-L0pn3_PGA"
      }
    },
    {
      "cell_type": "code",
      "source": [
        "text_vectorizer.adapt(train_sentences_list)"
      ],
      "metadata": {
        "id": "Gb_wWffUjGHj"
      },
      "execution_count": null,
      "outputs": []
    },
    {
      "cell_type": "markdown",
      "source": [
        "Sada možemo koristiti taj objekt da bismo vektorizirali neku rečenicu."
      ],
      "metadata": {
        "id": "WDSCCUrN_8s3"
      }
    },
    {
      "cell_type": "code",
      "source": [
        "# Primjer vektorizacije rečenice\n",
        "index = 0\n",
        "sent = train_sentences_list[index]\n",
        "vec_sent = text_vectorizer([sent])\n",
        "\n",
        "print(f\"Rečenica:\\n{sent}\")\n",
        "print(f\"\\nVektorizirana rečenica:\\n{vec_sent[0]}\")\n",
        "print(f\"\\nDuljina vektorizirane rečenice: {len(vec_sent[0])}\")"
      ],
      "metadata": {
        "colab": {
          "base_uri": "https://localhost:8080/"
        },
        "id": "q9cH3ws2j7fV",
        "outputId": "a73eeac8-9717-4119-e648-8dd29a759ee7"
      },
      "execution_count": null,
      "outputs": [
        {
          "output_type": "stream",
          "name": "stdout",
          "text": [
            "Rečenica:\n",
            "EU rejects German call to boycott British lamb .\n",
            "\n",
            "Vektorizirana rečenica:\n",
            "[  996 12747   203   618     5  4445   212  6495     0     0     0     0\n",
            "     0     0     0     0     0     0     0     0     0     0     0     0\n",
            "     0     0     0     0     0     0     0     0     0     0     0     0\n",
            "     0     0     0     0     0     0     0     0     0     0     0     0\n",
            "     0     0]\n",
            "\n",
            "Duljina vektorizirane rečenice: 50\n"
          ]
        }
      ]
    },
    {
      "cell_type": "code",
      "source": [
        "# Vektorizacija svih rečenica\n",
        "train_sentences_vectorized = [text_vectorizer([x]) for x in train_sentences_list]\n",
        "val_sentences_vectorized = [text_vectorizer([x]) for x in val_sentences_list]\n",
        "test_sentences_vectorized = [text_vectorizer([x]) for x in test_sentences_list]"
      ],
      "metadata": {
        "id": "4WiAWAqEi5Lg"
      },
      "execution_count": null,
      "outputs": []
    },
    {
      "cell_type": "markdown",
      "source": [
        "## Numeriranje i popunjavanje (*padding*) oznaka\n",
        "\n",
        "Budući da nam vektorizirane rečenice imaju duljinu 50, i oznake također moraju imati istu duljinu.\n",
        "\n",
        "Prije svega ćemo kreirati rječnike za pretvaranje oznake u broj i obrnuto."
      ],
      "metadata": {
        "id": "_cK45GFR7yQl"
      }
    },
    {
      "cell_type": "code",
      "source": [
        "# Rječnik za pretvaranje oznake u broj\n",
        "label2idx = {t: i for i, t in enumerate(labels)} # labels = lista jedinstvenih oznaka\n",
        "label2idx"
      ],
      "metadata": {
        "colab": {
          "base_uri": "https://localhost:8080/"
        },
        "id": "fIeZNFDGk9QI",
        "outputId": "8f5490ee-19eb-48cf-d679-b9858e7adac2"
      },
      "execution_count": null,
      "outputs": [
        {
          "output_type": "execute_result",
          "data": {
            "text/plain": [
              "{'B-LOC': 5,\n",
              " 'B-MISC': 6,\n",
              " 'B-ORG': 2,\n",
              " 'B-PER': 3,\n",
              " 'I-LOC': 8,\n",
              " 'I-MISC': 4,\n",
              " 'I-ORG': 1,\n",
              " 'I-PER': 7,\n",
              " 'O': 0}"
            ]
          },
          "metadata": {},
          "execution_count": 24
        }
      ]
    },
    {
      "cell_type": "code",
      "source": [
        "# Rječnik za pretvaranje broja u oznaku\n",
        "idx2label = {value: key for (key, value) in label2idx.items()}\n",
        "idx2label"
      ],
      "metadata": {
        "colab": {
          "base_uri": "https://localhost:8080/"
        },
        "id": "jrcO-xgZlMPH",
        "outputId": "1ecfce27-fcde-4534-e740-ff1b324b6fd3"
      },
      "execution_count": null,
      "outputs": [
        {
          "output_type": "execute_result",
          "data": {
            "text/plain": [
              "{0: 'O',\n",
              " 1: 'I-ORG',\n",
              " 2: 'B-ORG',\n",
              " 3: 'B-PER',\n",
              " 4: 'I-MISC',\n",
              " 5: 'B-LOC',\n",
              " 6: 'B-MISC',\n",
              " 7: 'I-PER',\n",
              " 8: 'I-LOC'}"
            ]
          },
          "metadata": {},
          "execution_count": 25
        }
      ]
    },
    {
      "cell_type": "code",
      "source": [
        "# Funkcija koja grupira oznake u rečenice i tokenizira ih\n",
        "def tokenize_labels (df):\n",
        "\n",
        "  labels = list(df[\"label\"].values)\n",
        "  sentence_numbers = list(df[\"sentence_num\"].values)\n",
        "\n",
        "  current_sentence_labels = []\n",
        "  all_labels = []\n",
        "\n",
        "  for index, el in enumerate(labels):\n",
        "    if index == 0 or sentence_numbers[index] == sentence_numbers[index-1]: # ako je prva rečenica ili ista rečenica kao i prije\n",
        "      current_sentence_labels.append(el)\n",
        "    else: # nova rečenica\n",
        "      all_labels.append(current_sentence_labels)\n",
        "      current_sentence_labels = []\n",
        "      current_sentence_labels.append(el)\n",
        "\n",
        "  tokenized_labels = [[label2idx[label] for label in sentence] for sentence in all_labels]\n",
        "\n",
        "  return tokenized_labels"
      ],
      "metadata": {
        "id": "RgjiqD_MBTl0"
      },
      "execution_count": null,
      "outputs": []
    },
    {
      "cell_type": "code",
      "source": [
        "# Pretvaranje oznaka u numeričke vrijednosti\n",
        "train_labels_tokenized = tokenize_labels(train_df)\n",
        "val_labels_tokenized = tokenize_labels(val_df)\n",
        "test_labels_tokenized = tokenize_labels(test_df)"
      ],
      "metadata": {
        "id": "CFMdjr53EmBB"
      },
      "execution_count": null,
      "outputs": []
    },
    {
      "cell_type": "markdown",
      "source": [
        "Oznake trenutno imaju duljinu pripadajućih rečenica. No budući da smo pomoću vektorizacije teksta postigli da nam sve rečenice imaju duljinu 50, i oznake trebaju imati jednaku duljinu. To ćemo postići pomoću funkcije u TensorFlowu koja se zove `pad_sequences`."
      ],
      "metadata": {
        "id": "jx1Ilvyi8dyM"
      }
    },
    {
      "cell_type": "code",
      "source": [
        "# Primjer oznaka za prvu rečenicu u skupu za treniranje\n",
        "train_labels_tokenized[0]"
      ],
      "metadata": {
        "colab": {
          "base_uri": "https://localhost:8080/"
        },
        "id": "yECqu4Gw8bYc",
        "outputId": "0e74856f-774e-444b-8e72-f20cd62308e9"
      },
      "execution_count": null,
      "outputs": [
        {
          "output_type": "execute_result",
          "data": {
            "text/plain": [
              "[2, 0, 6, 0, 0, 0, 6, 0, 0]"
            ]
          },
          "metadata": {},
          "execution_count": 28
        }
      ]
    },
    {
      "cell_type": "code",
      "source": [
        "# Popunjavanje oznaka\n",
        "\n",
        "from tensorflow.keras.preprocessing.sequence import pad_sequences\n",
        "\n",
        "train_labels_padded = pad_sequences(maxlen=50, # oznake će imati duljinu 50\n",
        "                                    sequences=train_labels_tokenized,\n",
        "                                    padding=\"post\", # array sa oznakama će biti popunjen sa desne strane (na kraju svake sekvence)\n",
        "                                    value=label2idx[\"O\"]) # oznake ćemo popuniti sa slovom \"O\" koji označava da riječ nije entitet\n",
        "\n",
        "# Ponavljamo isto i za skupove za validaciju i testiranje\n",
        "val_labels_padded = pad_sequences(maxlen=50,\n",
        "                                  sequences=val_labels_tokenized,\n",
        "                                  padding=\"post\",\n",
        "                                  value=label2idx[\"O\"])\n",
        "\n",
        "test_labels_padded = pad_sequences(maxlen=50,\n",
        "                                   sequences=test_labels_tokenized,\n",
        "                                   padding=\"post\",\n",
        "                                   value=label2idx[\"O\"])"
      ],
      "metadata": {
        "id": "1GzewS9GkTyl"
      },
      "execution_count": null,
      "outputs": []
    },
    {
      "cell_type": "code",
      "source": [
        "# Primjer tokeniziranih oznaka\n",
        "print(f\"Rečenica: {train_sentences_list[0]}\")\n",
        "print(f\"Oznake: {[idx2label[x] for x in train_labels_tokenized[0]]}\")\n",
        "print(f\"\\nTokenizirane oznake: {train_labels_tokenized[0]}\")\n",
        "print(f\"Duljina tokeniziranih oznaka: {len(train_labels_tokenized[0])}\")\n",
        "print(f\"\\nPopunjene oznake: {train_labels_padded[0]}\")\n",
        "print(f\"Duljina popunjenih oznaka: {len(train_labels_padded[0])}\")"
      ],
      "metadata": {
        "colab": {
          "base_uri": "https://localhost:8080/"
        },
        "id": "ulYT3gMzkn9z",
        "outputId": "a6e21635-ebb0-4db9-a59b-d9037bd6d0f3"
      },
      "execution_count": null,
      "outputs": [
        {
          "output_type": "stream",
          "name": "stdout",
          "text": [
            "Rečenica: EU rejects German call to boycott British lamb .\n",
            "Oznake: ['B-ORG', 'O', 'B-MISC', 'O', 'O', 'O', 'B-MISC', 'O', 'O']\n",
            "\n",
            "Tokenizirane oznake: [2, 0, 6, 0, 0, 0, 6, 0, 0]\n",
            "Duljina tokeniziranih oznaka: 9\n",
            "\n",
            "Popunjene oznake: [2 0 6 0 0 0 6 0 0 0 0 0 0 0 0 0 0 0 0 0 0 0 0 0 0 0 0 0 0 0 0 0 0 0 0 0 0\n",
            " 0 0 0 0 0 0 0 0 0 0 0 0 0]\n",
            "Duljina popunjenih oznaka: 50\n"
          ]
        }
      ]
    },
    {
      "cell_type": "markdown",
      "source": [
        "## Dovođenje podataka u isti oblik"
      ],
      "metadata": {
        "id": "drSxaQA-HExz"
      }
    },
    {
      "cell_type": "markdown",
      "source": [
        "Prije proslijeđivanja podataka našem modelu, trebamo dovesti podatke i oznake u isti oblik. Rečenice su nam trenutno tip podatka `Tensor` oblike (1, 50), dok su oznake `NumPy array` oblika (50,)"
      ],
      "metadata": {
        "id": "GVQBRcoT9JUs"
      }
    },
    {
      "cell_type": "code",
      "source": [
        "# Primjer vektorizirane rečenice\n",
        "train_sentences_vectorized[0]"
      ],
      "metadata": {
        "colab": {
          "base_uri": "https://localhost:8080/"
        },
        "id": "3W0LnqrAnY0L",
        "outputId": "9a2be9f9-0e94-4c2d-fb56-dbf2ff59f485"
      },
      "execution_count": null,
      "outputs": [
        {
          "output_type": "execute_result",
          "data": {
            "text/plain": [
              "<tf.Tensor: shape=(1, 50), dtype=int64, numpy=\n",
              "array([[  996, 12747,   203,   618,     5,  4445,   212,  6495,     0,\n",
              "            0,     0,     0,     0,     0,     0,     0,     0,     0,\n",
              "            0,     0,     0,     0,     0,     0,     0,     0,     0,\n",
              "            0,     0,     0,     0,     0,     0,     0,     0,     0,\n",
              "            0,     0,     0,     0,     0,     0,     0,     0,     0,\n",
              "            0,     0,     0,     0,     0]])>"
            ]
          },
          "metadata": {},
          "execution_count": 31
        }
      ]
    },
    {
      "cell_type": "code",
      "source": [
        "# Primjer popunjene oznake\n",
        "train_labels_padded[0], train_labels_padded[0].shape"
      ],
      "metadata": {
        "colab": {
          "base_uri": "https://localhost:8080/"
        },
        "id": "unUS0SxPn2Zu",
        "outputId": "082a9e86-7c69-494e-923d-eaf32d00c2a4"
      },
      "execution_count": null,
      "outputs": [
        {
          "output_type": "execute_result",
          "data": {
            "text/plain": [
              "(array([2, 0, 6, 0, 0, 0, 6, 0, 0, 0, 0, 0, 0, 0, 0, 0, 0, 0, 0, 0, 0, 0,\n",
              "        0, 0, 0, 0, 0, 0, 0, 0, 0, 0, 0, 0, 0, 0, 0, 0, 0, 0, 0, 0, 0, 0,\n",
              "        0, 0, 0, 0, 0, 0], dtype=int32), (50,))"
            ]
          },
          "metadata": {},
          "execution_count": 32
        }
      ]
    },
    {
      "cell_type": "markdown",
      "source": [
        "Pretvoriti ćemo rečenice u NumPy arrayove."
      ],
      "metadata": {
        "id": "_6KYk-DV9aWM"
      }
    },
    {
      "cell_type": "code",
      "source": [
        "# Pretvaranje rečenica u NumPy arrayove\n",
        "import numpy as np\n",
        "train_sentences_arrays = [np.array(t) for t in train_sentences_vectorized]\n",
        "val_sentences_arrays = [np.array(t) for t in val_sentences_vectorized]\n",
        "test_sentences_arrays = [np.array(t) for t in test_sentences_vectorized]"
      ],
      "metadata": {
        "id": "T2Skc1yLvjgv"
      },
      "execution_count": null,
      "outputs": []
    },
    {
      "cell_type": "code",
      "source": [
        "# Smanjivanje dimenzionalosti rečenica - iz (1, 50) u (50,)\n",
        "train_sentences_arrays_squeezed = np.squeeze(train_sentences_arrays)\n",
        "val_sentences_arrays_squeezed = np.squeeze(val_sentences_arrays)\n",
        "test_sentences_arrays_squeezed = np.squeeze(test_sentences_arrays)"
      ],
      "metadata": {
        "id": "FB2Y4c3-w7O_"
      },
      "execution_count": null,
      "outputs": []
    },
    {
      "cell_type": "code",
      "source": [
        "print(f\"Oblik rečenica: {train_sentences_arrays_squeezed.shape}\")\n",
        "print(f\"Oblik oznaka: {train_labels_padded.shape}\")"
      ],
      "metadata": {
        "colab": {
          "base_uri": "https://localhost:8080/"
        },
        "id": "An5piPYUw-XC",
        "outputId": "c12d9d1d-b2a2-4663-c281-04d3baaee9c2"
      },
      "execution_count": null,
      "outputs": [
        {
          "output_type": "stream",
          "name": "stdout",
          "text": [
            "Oblik rečenica: (14040, 50)\n",
            "Oblik oznaka: (14040, 50)\n"
          ]
        }
      ]
    },
    {
      "cell_type": "code",
      "source": [
        "X_train, y_train = train_sentences_arrays_squeezed, train_labels_padded\n",
        "X_val, y_val = val_sentences_arrays_squeezed, val_labels_padded\n",
        "X_test, y_test = test_sentences_arrays_squeezed, test_labels_padded"
      ],
      "metadata": {
        "id": "NPDEWsKf-TT8"
      },
      "execution_count": null,
      "outputs": []
    },
    {
      "cell_type": "markdown",
      "source": [
        "# Kreiranje i treniranje modela"
      ],
      "metadata": {
        "id": "ZtH3u4qsHcMa"
      }
    },
    {
      "cell_type": "code",
      "source": [
        "# Pomoćna funkcija za prikaz tijeka treniranja\n",
        "def plot_results(history):\n",
        "  acc = history.history['accuracy']\n",
        "  val_acc = history.history['val_accuracy']\n",
        "  loss = history.history['loss']\n",
        "  val_loss = history.history['val_loss']\n",
        "\n",
        "\n",
        "  epoch = range(1, len(acc) + 1)\n",
        "\n",
        "  plt.plot(epoch, loss, 'r', label = 'Gubitak (trening)')\n",
        "  plt.plot(epoch, val_loss, 'b', label = 'Gubitak (validacija)')\n",
        "  plt.title('Vrijednost funkcije gubitka na skupu za treniranje i skupu za validaciju')\n",
        "  plt.xlabel('Epoha')\n",
        "  plt.ylabel('Gubitak')\n",
        "  plt.legend()\n",
        "  plt.show()\n",
        "\n",
        "  plt.plot(epoch, acc, 'r', label = 'Točnost (trening)')\n",
        "  plt.plot(epoch, val_acc, 'b', label = 'Točnost (validacija)')\n",
        "  plt.title('Točnost na skupu za treniranje i skupu za validaciju')\n",
        "  plt.xlabel('Epoha')\n",
        "  plt.ylabel('Točnost')\n",
        "  plt.legend()\n",
        "  plt.show()"
      ],
      "metadata": {
        "id": "yaW8uS9xy-7_"
      },
      "execution_count": null,
      "outputs": []
    },
    {
      "cell_type": "code",
      "source": [
        "import random\n",
        "import numpy as np\n",
        "import tensorflow as tf\n",
        "\n",
        "seed = 42\n",
        "random.seed(seed)\n",
        "np.random.seed(seed)\n",
        "tf.random.set_seed(seed)"
      ],
      "metadata": {
        "id": "d2NZCQSq-Qnm"
      },
      "execution_count": null,
      "outputs": []
    },
    {
      "cell_type": "markdown",
      "source": [
        "Koristiti ćemo sljedeću arhitekturu neuronske mreže:\n",
        "\n",
        "* `Input layer` koji prima rečenice i oznake duljine 50\n",
        "* `Embedding layer` koji pretvara tokenizirane riječi u vektore duljine 64\n",
        "* `Dropout layer`\n",
        "* `Bidirectional GRU layer` - Gated Recurrent Unit sa 100 skrivenih neurona i `relu` aktivacijskom funkcijom\n",
        "* `Dropout layer`\n",
        "* `Dense layer` sa 64 skrivena neurona\n",
        "* `Dropout layer`\n",
        "* `Dense layer` koji daje kao rezultat vjerojatnosti da se riječ nalazi u određenoj kategoriji\n",
        "\n",
        "Koristiti ćemo optimizacijsku funkciju `AdamW` koja je slična funkciji `Adam` uz jedinu razliku što `AdamW` primijenjuje regularizacijsku tehniku *weight decay* koja nastoji smanjiti overfitting.\n",
        "\n",
        "Funkcija gubitka će biti `SparseCategoricalCrossentropy` zbog toga što nam oznake nisu one-hot enkodirane već su predstavljene kao pozitivni brojevi od 0 do 8."
      ],
      "metadata": {
        "id": "by1AltTt9yCT"
      }
    },
    {
      "cell_type": "code",
      "source": [
        "!pip install tensorflow_addons # potrebno za AdamW optimizer"
      ],
      "metadata": {
        "colab": {
          "base_uri": "https://localhost:8080/"
        },
        "id": "KHer6UuQ9xnd",
        "outputId": "269eeb86-fbdb-4a1d-a9a4-cb140f0c4bee"
      },
      "execution_count": null,
      "outputs": [
        {
          "output_type": "stream",
          "name": "stdout",
          "text": [
            "Looking in indexes: https://pypi.org/simple, https://us-python.pkg.dev/colab-wheels/public/simple/\n",
            "Collecting tensorflow_addons\n",
            "  Downloading tensorflow_addons-0.17.0-cp37-cp37m-manylinux_2_17_x86_64.manylinux2014_x86_64.whl (1.1 MB)\n",
            "\u001b[K     |████████████████████████████████| 1.1 MB 23.1 MB/s \n",
            "\u001b[?25hRequirement already satisfied: typeguard>=2.7 in /usr/local/lib/python3.7/dist-packages (from tensorflow_addons) (2.7.1)\n",
            "Requirement already satisfied: packaging in /usr/local/lib/python3.7/dist-packages (from tensorflow_addons) (21.3)\n",
            "Requirement already satisfied: pyparsing!=3.0.5,>=2.0.2 in /usr/local/lib/python3.7/dist-packages (from packaging->tensorflow_addons) (3.0.9)\n",
            "Installing collected packages: tensorflow-addons\n",
            "Successfully installed tensorflow-addons-0.17.0\n"
          ]
        }
      ]
    },
    {
      "cell_type": "code",
      "source": [
        "from tensorflow.keras import layers\n",
        "import tensorflow_addons as tfa\n",
        "from keras.regularizers import l2"
      ],
      "metadata": {
        "id": "pIYRTodG-HPb"
      },
      "execution_count": null,
      "outputs": []
    },
    {
      "cell_type": "code",
      "source": [
        "step = tf.Variable(0, trainable=False)\n",
        "schedule = tf.optimizers.schedules.PiecewiseConstantDecay([5000, 10000, 15000], [1e-1, 1e-2, 1e-3, 1e-4])\n",
        "lr = 1e-1 * schedule(step)\n",
        "wd = lambda: 1e-4 * schedule(step)\n",
        "\n",
        "inputs = tf.keras.Input(shape=(50,))\n",
        "x = layers.Embedding(input_dim=num_words,\n",
        "                     output_dim=64,\n",
        "                     input_length=50)(inputs)\n",
        "x = layers.Dropout(0.2)(x)\n",
        "x = layers.Bidirectional(layers.GRU(units=100,\n",
        "                                    activation=\"relu\",\n",
        "                                    return_sequences=True,\n",
        "                                    dropout=0.4,\n",
        "                                    kernel_initializer=\"he_normal\",\n",
        "                                    kernel_regularizer=l2(0.001)))(x)\n",
        "x = layers.Dropout(0.2)(x)\n",
        "x = layers.Dense(64)(x)\n",
        "x = layers.Dropout(0.4)(x)\n",
        "outputs = layers.Dense(num_labels,\n",
        "                       activation=\"softmax\")(x)\n",
        "\n",
        "model = tf.keras.Model(inputs,\n",
        "                       outputs)\n",
        "\n",
        "model.summary()"
      ],
      "metadata": {
        "colab": {
          "base_uri": "https://localhost:8080/"
        },
        "id": "w8S4UD7z-FKm",
        "outputId": "5bced713-864a-493c-8f65-a9e1a0f46df9"
      },
      "execution_count": null,
      "outputs": [
        {
          "output_type": "stream",
          "name": "stdout",
          "text": [
            "Model: \"model\"\n",
            "_________________________________________________________________\n",
            " Layer (type)                Output Shape              Param #   \n",
            "=================================================================\n",
            " input_1 (InputLayer)        [(None, 50)]              0         \n",
            "                                                                 \n",
            " embedding (Embedding)       (None, 50, 64)            1511872   \n",
            "                                                                 \n",
            " dropout (Dropout)           (None, 50, 64)            0         \n",
            "                                                                 \n",
            " bidirectional (Bidirectiona  (None, 50, 200)          99600     \n",
            " l)                                                              \n",
            "                                                                 \n",
            " dropout_1 (Dropout)         (None, 50, 200)           0         \n",
            "                                                                 \n",
            " dense (Dense)               (None, 50, 64)            12864     \n",
            "                                                                 \n",
            " dropout_2 (Dropout)         (None, 50, 64)            0         \n",
            "                                                                 \n",
            " dense_1 (Dense)             (None, 50, 9)             585       \n",
            "                                                                 \n",
            "=================================================================\n",
            "Total params: 1,624,921\n",
            "Trainable params: 1,624,921\n",
            "Non-trainable params: 0\n",
            "_________________________________________________________________\n"
          ]
        }
      ]
    },
    {
      "cell_type": "code",
      "source": [
        "# Grafički prikaz arhitekture mreže\n",
        "from tensorflow.keras.utils import plot_model\n",
        "plot_model(model, show_shapes=True)"
      ],
      "metadata": {
        "colab": {
          "base_uri": "https://localhost:8080/",
          "height": 865
        },
        "id": "WjQNbEJUBGY7",
        "outputId": "00f00578-5bdd-4ec4-9e2c-450b545436fd"
      },
      "execution_count": null,
      "outputs": [
        {
          "output_type": "execute_result",
          "data": {
            "text/plain": [
              "<IPython.core.display.Image object>"
            ],
            "image/png": "[encoded data removed]"
          },
          "metadata": {},
          "execution_count": 42
        }
      ]
    },
    {
      "cell_type": "code",
      "source": [
        "model.compile(optimizer=tfa.optimizers.AdamW(learning_rate=lr, weight_decay=wd),\n",
        "              loss=tf.keras.losses.SparseCategoricalCrossentropy(),\n",
        "              metrics=[\"accuracy\"])"
      ],
      "metadata": {
        "id": "8ds7jxoLA6m8"
      },
      "execution_count": null,
      "outputs": []
    },
    {
      "cell_type": "code",
      "source": [
        "model_history = model.fit(X_train,\n",
        "                          y_train,\n",
        "                          validation_data=(X_val,\n",
        "                                           y_val), \n",
        "                          epochs=5)"
      ],
      "metadata": {
        "colab": {
          "base_uri": "https://localhost:8080/"
        },
        "id": "kSx-8WHSxRf_",
        "outputId": "f851da02-3474-412f-dffe-bdc4deaf07cc"
      },
      "execution_count": null,
      "outputs": [
        {
          "output_type": "stream",
          "name": "stdout",
          "text": [
            "Epoch 1/5\n",
            "439/439 [==============================] - 69s 147ms/step - loss: 0.2370 - accuracy: 0.9502 - val_loss: 0.1849 - val_accuracy: 0.9505\n",
            "Epoch 2/5\n",
            "439/439 [==============================] - 46s 105ms/step - loss: 0.1491 - accuracy: 0.9589 - val_loss: 0.1567 - val_accuracy: 0.9577\n",
            "Epoch 3/5\n",
            "439/439 [==============================] - 48s 109ms/step - loss: 0.1305 - accuracy: 0.9652 - val_loss: 0.1629 - val_accuracy: 0.9595\n",
            "Epoch 4/5\n",
            "439/439 [==============================] - 47s 108ms/step - loss: 0.1180 - accuracy: 0.9677 - val_loss: 0.1516 - val_accuracy: 0.9625\n",
            "Epoch 5/5\n",
            "439/439 [==============================] - 49s 111ms/step - loss: 0.1102 - accuracy: 0.9694 - val_loss: 0.1569 - val_accuracy: 0.9623\n"
          ]
        }
      ]
    },
    {
      "cell_type": "code",
      "source": [
        "plot_results(model_history)"
      ],
      "metadata": {
        "colab": {
          "base_uri": "https://localhost:8080/",
          "height": 573
        },
        "id": "nxns78gEzB-k",
        "outputId": "e2024e11-8f92-4605-e7bb-c3a421d8bfed"
      },
      "execution_count": null,
      "outputs": [
        {
          "output_type": "display_data",
          "data": {
            "text/plain": [
              "<Figure size 432x288 with 1 Axes>"
            ],
            "image/png": "[encoded data removed]"
          },
          "metadata": {
            "needs_background": "light"
          }
        },
        {
          "output_type": "display_data",
          "data": {
            "text/plain": [
              "<Figure size 432x288 with 1 Axes>"
            ],
            "image/png": "[encoded data removed]"
          },
          "metadata": {
            "needs_background": "light"
          }
        }
      ]
    },
    {
      "cell_type": "markdown",
      "source": [
        "# Kreiranje funkcija za detaljnu evaluaciju modela"
      ],
      "metadata": {
        "id": "YlFuJ6SnCvCC"
      }
    },
    {
      "cell_type": "code",
      "source": [
        "# Kreiranje liste sa točnim oznakama\n",
        "true_labels = []\n",
        "\n",
        "for sentence in y_val:\n",
        "  for label in sentence:\n",
        "    true_labels.append(label)\n",
        "\n",
        "# Prikaz prvih 10 točnih oznaka u skupu za validaciju\n",
        "true_labels[:10]"
      ],
      "metadata": {
        "colab": {
          "base_uri": "https://localhost:8080/"
        },
        "id": "eyAij6asCxUi",
        "outputId": "7c5ee965-8a35-4cce-c670-bc7153a7b788"
      },
      "execution_count": null,
      "outputs": [
        {
          "output_type": "execute_result",
          "data": {
            "text/plain": [
              "[0, 0, 2, 0, 0, 0, 0, 0, 0, 0]"
            ]
          },
          "metadata": {},
          "execution_count": 46
        }
      ]
    },
    {
      "cell_type": "code",
      "source": [
        "# Predviđanja modela\n",
        "model_pred_probs = model.predict(X_val)"
      ],
      "metadata": {
        "id": "FZ3dXVgfD7uX"
      },
      "execution_count": null,
      "outputs": []
    },
    {
      "cell_type": "code",
      "source": [
        "# Funkcija koja prima vjerojatnosti (predviđanja modela) i vraća oznake sa najvećom vjerojatnosti\n",
        "def get_labels_from_probs (pred_probs):\n",
        "  \n",
        "  predicted_labels = []\n",
        "\n",
        "  for sentence in pred_probs:\n",
        "    for label in sentence:\n",
        "      predicted_labels.append(np.argmax(label)) # dodaj indeks oznake sa najvećom vjerojatnošću\n",
        "\n",
        "  return predicted_labels"
      ],
      "metadata": {
        "id": "zbpoTE7CDz9n"
      },
      "execution_count": null,
      "outputs": []
    },
    {
      "cell_type": "code",
      "source": [
        "predicted_labels = get_labels_from_probs(model_pred_probs)\n",
        "\n",
        "# Prikaz prvih 10 predviđanja modela u skupu za validaciju\n",
        "predicted_labels[:10]"
      ],
      "metadata": {
        "colab": {
          "base_uri": "https://localhost:8080/"
        },
        "id": "qcMAbUsYD3iI",
        "outputId": "dc517983-63f1-406e-9d13-fd03f0e75b4e"
      },
      "execution_count": null,
      "outputs": [
        {
          "output_type": "execute_result",
          "data": {
            "text/plain": [
              "[0, 0, 0, 0, 0, 0, 0, 0, 0, 0]"
            ]
          },
          "metadata": {},
          "execution_count": 49
        }
      ]
    },
    {
      "cell_type": "markdown",
      "source": [
        "Kreirati ćemo funkciju koja prima listu sa točnim oznakama i predviđanja modela (vjerojatnosti), a vraća točnost (*accuracy*), preciznost, recall i F1-score.\n",
        "\n",
        "Ispod možemo viditi formule za svaku od tih metrika.\n",
        "\n",
        "<br>\n",
        "\n",
        "**TP = True Positives** (npr. model je točno predvidio da čovjek ima bolest)  \n",
        "**TN = True Negatives** (npr. model je točno predvidio da čovjek *nema* bolest)  \n",
        "**FP = False Positives** (npr. model je predvidio da čovjek ima bolest, a zapravo ju nema)  \n",
        "**FN = False Negatives** (npr. model je predvidio da čovjek nema bolest, a zapravo ju ima)  \n",
        "\n",
        "<br>\n",
        "\n",
        "\\begin{align}\n",
        "Accuracy = \\frac{TP + TN}{TP + TN + FP + FN}\n",
        "\\end{align}\n",
        "<br>\n",
        "\\begin{align}\n",
        "Precision = \\frac{TP}{TP + FP}\n",
        "\\end{align}\n",
        "<br>\n",
        "\\begin{align}\n",
        "Recall = \\frac{TP}{TP + FN}\n",
        "\\end{align}\n",
        "<br>\n",
        "\\begin{align}\n",
        "F1 = \\frac{2 \\cdot Precision \\cdot Recall}{Precision + Recall}\n",
        "\\end{align}\n",
        "<br>\n"
      ],
      "metadata": {
        "id": "6MlhbPO9EQM7"
      }
    },
    {
      "cell_type": "code",
      "source": [
        "from sklearn.metrics import accuracy_score, precision_recall_fscore_support\n",
        "\n",
        "def calculate_results (y_true, pred_probs):\n",
        "  \n",
        "  y_pred = get_labels_from_probs(pred_probs)\n",
        "  \n",
        "  accuracy = accuracy_score(y_true, y_pred)\n",
        "\n",
        "  precision, recall, f1, _ = precision_recall_fscore_support(y_true, y_pred, average=\"weighted\")\n",
        "  \n",
        "  results = {\"accuracy\": accuracy,\n",
        "              \"precision\": precision,\n",
        "              \"recall\": recall,\n",
        "              \"f1-score\": f1}\n",
        "\n",
        "  return results\n",
        "\n",
        "# Primjer korištenja funkcije\n",
        "model_1_results = calculate_results(true_labels, model_pred_probs)\n",
        "model_1_results"
      ],
      "metadata": {
        "colab": {
          "base_uri": "https://localhost:8080/"
        },
        "id": "Hx23i7DoEJnf",
        "outputId": "ecce3fef-f622-47e0-a84e-0c29cad182c3"
      },
      "execution_count": null,
      "outputs": [
        {
          "output_type": "execute_result",
          "data": {
            "text/plain": [
              "{'accuracy': 0.9623391812865497,\n",
              " 'f1-score': 0.9559228446292635,\n",
              " 'precision': 0.956146902635353,\n",
              " 'recall': 0.9623391812865497}"
            ]
          },
          "metadata": {},
          "execution_count": 50
        }
      ]
    },
    {
      "cell_type": "markdown",
      "source": [
        "Sljedeća funkcija će kreirati detaljno tekstualno izvješće koje prikazuje metrike za svaku od oznaka."
      ],
      "metadata": {
        "id": "UP5ft8ngMtW-"
      }
    },
    {
      "cell_type": "code",
      "source": [
        "from sklearn.metrics import classification_report\n",
        "\n",
        "def class_report (y_true, pred_probs, title):\n",
        "\n",
        "  y_pred = get_labels_from_probs(pred_probs)\n",
        "\n",
        "  print(f\"\\t\\t\\t-------------------\\n\\t\\t\\t{title}\\n\\t\\t\\t-------------------\\n\")\n",
        "  print(classification_report(y_true, y_pred, target_names=list(idx2label.values())))\n",
        "\n",
        "# Primjer korištenja funkcije\n",
        "class_report(true_labels, model_pred_probs, \"Rezultati modela\")"
      ],
      "metadata": {
        "colab": {
          "base_uri": "https://localhost:8080/"
        },
        "id": "PEXAMK4WEfoZ",
        "outputId": "180b49d6-3eec-4259-ca3c-266768b22aa0"
      },
      "execution_count": null,
      "outputs": [
        {
          "output_type": "stream",
          "name": "stdout",
          "text": [
            "\t\t\t-------------------\n",
            "\t\t\tRezultati modela\n",
            "\t\t\t-------------------\n",
            "\n",
            "              precision    recall  f1-score   support\n",
            "\n",
            "           O       0.97      0.99      0.98    153968\n",
            "       I-ORG       0.75      0.28      0.41       750\n",
            "       B-ORG       0.73      0.45      0.55      1340\n",
            "       B-PER       0.68      0.34      0.45      1793\n",
            "      I-MISC       0.82      0.11      0.19       339\n",
            "       B-LOC       0.72      0.52      0.61      1830\n",
            "      B-MISC       0.71      0.32      0.44       918\n",
            "       I-PER       0.68      0.34      0.45      1257\n",
            "       I-LOC       0.75      0.31      0.43       255\n",
            "\n",
            "    accuracy                           0.96    162450\n",
            "   macro avg       0.76      0.41      0.50    162450\n",
            "weighted avg       0.96      0.96      0.96    162450\n",
            "\n"
          ]
        }
      ]
    },
    {
      "cell_type": "markdown",
      "source": [
        "# Evaluacija na testnom skupu"
      ],
      "metadata": {
        "id": "z34O2JGV4pHl"
      }
    },
    {
      "cell_type": "code",
      "source": [
        "model.evaluate(X_test, y_test)"
      ],
      "metadata": {
        "id": "LGhJDj9F4qqx",
        "colab": {
          "base_uri": "https://localhost:8080/"
        },
        "outputId": "457095e5-ba6b-442e-93b8-e4a43d6ac7b2"
      },
      "execution_count": null,
      "outputs": [
        {
          "output_type": "stream",
          "name": "stdout",
          "text": [
            "108/108 [==============================] - 2s 20ms/step - loss: 0.1467 - accuracy: 0.9651\n"
          ]
        },
        {
          "output_type": "execute_result",
          "data": {
            "text/plain": [
              "[0.146652951836586, 0.9650521278381348]"
            ]
          },
          "metadata": {},
          "execution_count": 52
        }
      ]
    },
    {
      "cell_type": "markdown",
      "source": [
        "Na skupu za testiranje dobivamo točnost od oko 96%."
      ],
      "metadata": {
        "id": "2rZOeDe3NAVn"
      }
    },
    {
      "cell_type": "markdown",
      "source": [
        "# Predviđanja na primjerima rečenica\n",
        "\n",
        "Na kraju ćemo kreirati funkciju za predviđanja na našim testnim rečenicama. Moramo dovesti rečenice u isti format na kojem se model trenirao."
      ],
      "metadata": {
        "id": "8kTbxP5s4ZmG"
      }
    },
    {
      "cell_type": "code",
      "source": [
        "def predict_on_sentence (sentence, model):\n",
        "  \n",
        "  sentence_length = len(sentence.split())\n",
        "  \n",
        "  # Vektorizacija\n",
        "  x = text_vectorizer([sentence])\n",
        "  arr = np.array(x)\n",
        "\n",
        "  # Predviđanja modela\n",
        "  preds = get_labels_from_probs(model.predict(arr))\n",
        "\n",
        "  # Predviđanja u tekstualnom formatu\n",
        "  text_preds = [idx2label[x] for x in preds]\n",
        "\n",
        "  # Kreiranje DataFrame-a za vizualizaciju\n",
        "  dictionary = {\"sentence\": sentence.split(),\n",
        "                \"predictions\": text_preds[:sentence_length]}\n",
        "  df = pd.DataFrame(dictionary)\n",
        "\n",
        "  return df.transpose()"
      ],
      "metadata": {
        "id": "Wdaepfp48n09"
      },
      "execution_count": null,
      "outputs": []
    },
    {
      "cell_type": "code",
      "source": [
        "sample_sentences = [\"Ann went to the United States\",\n",
        "                    \"Charles Michel is the president of the European Council\",\n",
        "                    \"China is threatening to invade Taiwan\",\n",
        "                    \"Robbie Williams: Fame 'intoxicating but isolating'\",\n",
        "                    \"Wimbledon is one of the four Grand Slam tennis tournaments\"]"
      ],
      "metadata": {
        "id": "1ebJ3ju5BG6U"
      },
      "execution_count": null,
      "outputs": []
    },
    {
      "cell_type": "code",
      "source": [
        "pred = predict_on_sentence(sample_sentences[0], model)\n",
        "pred"
      ],
      "metadata": {
        "colab": {
          "base_uri": "https://localhost:8080/",
          "height": 112
        },
        "id": "-e-LPqHBBW49",
        "outputId": "0ae3be9e-10af-40f4-dced-be671e59c426"
      },
      "execution_count": null,
      "outputs": [
        {
          "output_type": "execute_result",
          "data": {
            "text/plain": [
              "                 0     1   2    3       4       5\n",
              "sentence       Ann  went  to  the  United  States\n",
              "predictions  B-PER     O   O    O   B-LOC   I-LOC"
            ],
            "text/html": [
              "\n",
              "  <div id=\"df-e4c09c55-4b15-4bf1-9cc0-8cfd6d5da36c\">\n",
              "    <div class=\"colab-df-container\">\n",
              "      <div>\n",
              "<style scoped>\n",
              "    .dataframe tbody tr th:only-of-type {\n",
              "        vertical-align: middle;\n",
              "    }\n",
              "\n",
              "    .dataframe tbody tr th {\n",
              "        vertical-align: top;\n",
              "    }\n",
              "\n",
              "    .dataframe thead th {\n",
              "        text-align: right;\n",
              "    }\n",
              "</style>\n",
              "<table border=\"1\" class=\"dataframe\">\n",
              "  <thead>\n",
              "    <tr style=\"text-align: right;\">\n",
              "      <th></th>\n",
              "      <th>0</th>\n",
              "      <th>1</th>\n",
              "      <th>2</th>\n",
              "      <th>3</th>\n",
              "      <th>4</th>\n",
              "      <th>5</th>\n",
              "    </tr>\n",
              "  </thead>\n",
              "  <tbody>\n",
              "    <tr>\n",
              "      <th>sentence</th>\n",
              "      <td>Ann</td>\n",
              "      <td>went</td>\n",
              "      <td>to</td>\n",
              "      <td>the</td>\n",
              "      <td>United</td>\n",
              "      <td>States</td>\n",
              "    </tr>\n",
              "    <tr>\n",
              "      <th>predictions</th>\n",
              "      <td>B-PER</td>\n",
              "      <td>O</td>\n",
              "      <td>O</td>\n",
              "      <td>O</td>\n",
              "      <td>B-LOC</td>\n",
              "      <td>I-LOC</td>\n",
              "    </tr>\n",
              "  </tbody>\n",
              "</table>\n",
              "</div>\n",
              "      <button class=\"colab-df-convert\" onclick=\"convertToInteractive('df-e4c09c55-4b15-4bf1-9cc0-8cfd6d5da36c')\"\n",
              "              title=\"Convert this dataframe to an interactive table.\"\n",
              "              style=\"display:none;\">\n",
              "        \n",
              "  <svg xmlns=\"http://www.w3.org/2000/svg\" height=\"24px\"viewBox=\"0 0 24 24\"\n",
              "       width=\"24px\">\n",
              "    <path d=\"M0 0h24v24H0V0z\" fill=\"none\"/>\n",
              "    <path d=\"M18.56 5.44l.94 2.06.94-2.06 2.06-.94-2.06-.94-.94-2.06-.94 2.06-2.06.94zm-11 1L8.5 8.5l.94-2.06 2.06-.94-2.06-.94L8.5 2.5l-.94 2.06-2.06.94zm10 10l.94 2.06.94-2.06 2.06-.94-2.06-.94-.94-2.06-.94 2.06-2.06.94z\"/><path d=\"M17.41 7.96l-1.37-1.37c-.4-.4-.92-.59-1.43-.59-.52 0-1.04.2-1.43.59L10.3 9.45l-7.72 7.72c-.78.78-.78 2.05 0 2.83L4 21.41c.39.39.9.59 1.41.59.51 0 1.02-.2 1.41-.59l7.78-7.78 2.81-2.81c.8-.78.8-2.07 0-2.86zM5.41 20L4 18.59l7.72-7.72 1.47 1.35L5.41 20z\"/>\n",
              "  </svg>\n",
              "      </button>\n",
              "      \n",
              "  <style>\n",
              "    .colab-df-container {\n",
              "      display:flex;\n",
              "      flex-wrap:wrap;\n",
              "      gap: 12px;\n",
              "    }\n",
              "\n",
              "    .colab-df-convert {\n",
              "      background-color: #E8F0FE;\n",
              "      border: none;\n",
              "      border-radius: 50%;\n",
              "      cursor: pointer;\n",
              "      display: none;\n",
              "      fill: #1967D2;\n",
              "      height: 32px;\n",
              "      padding: 0 0 0 0;\n",
              "      width: 32px;\n",
              "    }\n",
              "\n",
              "    .colab-df-convert:hover {\n",
              "      background-color: #E2EBFA;\n",
              "      box-shadow: 0px 1px 2px rgba(60, 64, 67, 0.3), 0px 1px 3px 1px rgba(60, 64, 67, 0.15);\n",
              "      fill: #174EA6;\n",
              "    }\n",
              "\n",
              "    [theme=dark] .colab-df-convert {\n",
              "      background-color: #3B4455;\n",
              "      fill: #D2E3FC;\n",
              "    }\n",
              "\n",
              "    [theme=dark] .colab-df-convert:hover {\n",
              "      background-color: #434B5C;\n",
              "      box-shadow: 0px 1px 3px 1px rgba(0, 0, 0, 0.15);\n",
              "      filter: drop-shadow(0px 1px 2px rgba(0, 0, 0, 0.3));\n",
              "      fill: #FFFFFF;\n",
              "    }\n",
              "  </style>\n",
              "\n",
              "      <script>\n",
              "        const buttonEl =\n",
              "          document.querySelector('#df-e4c09c55-4b15-4bf1-9cc0-8cfd6d5da36c button.colab-df-convert');\n",
              "        buttonEl.style.display =\n",
              "          google.colab.kernel.accessAllowed ? 'block' : 'none';\n",
              "\n",
              "        async function convertToInteractive(key) {\n",
              "          const element = document.querySelector('#df-e4c09c55-4b15-4bf1-9cc0-8cfd6d5da36c');\n",
              "          const dataTable =\n",
              "            await google.colab.kernel.invokeFunction('convertToInteractive',\n",
              "                                                     [key], {});\n",
              "          if (!dataTable) return;\n",
              "\n",
              "          const docLinkHtml = 'Like what you see? Visit the ' +\n",
              "            '<a target=\"_blank\" href=https://colab.research.google.com/notebooks/data_table.ipynb>data table notebook</a>'\n",
              "            + ' to learn more about interactive tables.';\n",
              "          element.innerHTML = '';\n",
              "          dataTable['output_type'] = 'display_data';\n",
              "          await google.colab.output.renderOutput(dataTable, element);\n",
              "          const docLink = document.createElement('div');\n",
              "          docLink.innerHTML = docLinkHtml;\n",
              "          element.appendChild(docLink);\n",
              "        }\n",
              "      </script>\n",
              "    </div>\n",
              "  </div>\n",
              "  "
            ]
          },
          "metadata": {},
          "execution_count": 55
        }
      ]
    },
    {
      "cell_type": "markdown",
      "source": [
        "# Zaključak\n",
        "\n",
        "U sklopu ovog projekta čija je tema bila **usporedba alata za označavanje teksta** nastojao sam prikazati praktičan primjer u kodu na koji način se mogu iskoristiti podaci dobiveni takvim alatima. Odabrao sam problem prepoznavanja imenovanih entiteta te kreirao model koji je sposoban do određene mjere u rečenicama prepoznavati imena osoba, geografskih lokacija i organizacija."
      ],
      "metadata": {
        "id": "n9XtW09sH45S"
      }
    },
    {
      "cell_type": "markdown",
      "source": [
        "# Popis referenci\n",
        "\n",
        "[Named-Entity Recognition (NER) using Keras Bidirectional LSTM - Towards Data Science](https://towardsdatascience.com/named-entity-recognition-ner-using-keras-bidirectional-lstm-28cd3f301f54)  \n",
        "[TensorFlow dokumentacija za AdamW](https://www.tensorflow.org/addons/api_docs/python/tfa/optimizers/AdamW)  \n",
        "[Natural Language Processing - Wikipedia](https://en.wikipedia.org/wiki/Natural_language_processing)  \n",
        "[Named-entity recognition - Wikipedia](https://en.wikipedia.org/wiki/Named-entity_recognition)  \n",
        "[Korišteni dataset - CoNLL 2003 English](https://deepai.org/dataset/conll-2003-english)  \n",
        "[Introduction to the CoNLL-2003 Shared Task: Language-Independent Named Entity Recognition](https://arxiv.org/pdf/cs/0306050v1.pdf)  \n",
        "[Understanding GRU Networks - Towards Data Science](https://towardsdatascience.com/understanding-gru-networks-2ef37df6c9be)  "
      ],
      "metadata": {
        "id": "W-OuIO66H6mY"
      }
    }
  ]
}