{
  "nbformat": 4,
  "nbformat_minor": 0,
  "metadata": {
    "colab": {
      "provenance": [],
      "collapsed_sections": []
    },
    "kernelspec": {
      "name": "python3",
      "display_name": "Python 3"
    },
    "language_info": {
      "name": "python"
    }
  },
  "cells": [
    {
      "cell_type": "markdown",
      "source": [
        "# Projekt\n",
        "\n",
        "**Tema**  \n",
        "Usporedba alata za označavanje teksta\n",
        "\n",
        "**Studij**  \n",
        "Preddiplomski studij informatike"
      ],
      "metadata": {
        "id": "RuOcJCRt7xYL"
      }
    },
    {
      "cell_type": "markdown",
      "source": [
        "# Uvod\n",
        "\n",
        "U ovom notebooku biti će prikazani svi eksperimenti koji su se provodili da bi se došlo do konačnog rezultata. Detaljnija objašnjenja pojedinih koraka i vizualizacije podataka mogu se pronaći u drugom notebooku (finalnoj verziji)."
      ],
      "metadata": {
        "id": "B_s9yzmL7JQa"
      }
    },
    {
      "cell_type": "markdown",
      "source": [
        "# Preuzimanje i priprema podataka"
      ],
      "metadata": {
        "id": "kUAxZKzX6QTZ"
      }
    },
    {
      "cell_type": "markdown",
      "source": [
        "Podatke preuzimamo sa stranice https://deepai.org/dataset/conll-2003-english. Na stranici se nalazi naredba koju moramo pokrenuti unutar Colab-a da bi se podaci preuzeli."
      ],
      "metadata": {
        "id": "y8Gb4vyYgZuJ"
      }
    },
    {
      "cell_type": "code",
      "execution_count": null,
      "metadata": {
        "colab": {
          "base_uri": "https://localhost:8080/"
        },
        "id": "ZKr_iRyoX57a",
        "outputId": "3be09443-8a92-47d9-aaf6-725a0aaacbc6"
      },
      "outputs": [
        {
          "output_type": "stream",
          "name": "stdout",
          "text": [
            "--2022-06-10 13:08:55--  https://data.deepai.org/conll2003.zip\n",
            "Resolving data.deepai.org (data.deepai.org)... 138.201.36.183\n",
            "Connecting to data.deepai.org (data.deepai.org)|138.201.36.183|:443... connected.\n",
            "HTTP request sent, awaiting response... 200 OK\n",
            "Length: 982975 (960K) [application/x-zip-compressed]\n",
            "Saving to: ‘conll2003.zip.2’\n",
            "\n",
            "\rconll2003.zip.2       0%[                    ]       0  --.-KB/s               \rconll2003.zip.2     100%[===================>] 959.94K  --.-KB/s    in 0.07s   \n",
            "\n",
            "2022-06-10 13:08:55 (14.0 MB/s) - ‘conll2003.zip.2’ saved [982975/982975]\n",
            "\n"
          ]
        }
      ],
      "source": [
        "!wget https://data.deepai.org/conll2003.zip"
      ]
    },
    {
      "cell_type": "code",
      "source": [
        "# Raspakiravanje podataka\n",
        "import zipfile\n",
        "zip_ref = zipfile.ZipFile(\"conll2003.zip\", \"r\")\n",
        "zip_ref.extractall()\n",
        "zip_ref.close()"
      ],
      "metadata": {
        "id": "gnD8fyxJYEKd"
      },
      "execution_count": null,
      "outputs": []
    },
    {
      "cell_type": "code",
      "source": [
        "# Dohvaćanje linija teksta iz .txt datoteka\n",
        "def get_lines(filename):\n",
        "  with open(filename, \"r\") as f:\n",
        "    return f.readlines()\n",
        "\n",
        "train = get_lines(\"train.txt\")\n",
        "valid = get_lines(\"valid.txt\")\n",
        "test = get_lines(\"test.txt\")"
      ],
      "metadata": {
        "id": "B02V3JJeYFaP"
      },
      "execution_count": null,
      "outputs": []
    },
    {
      "cell_type": "code",
      "source": [
        "train[:5]"
      ],
      "metadata": {
        "colab": {
          "base_uri": "https://localhost:8080/"
        },
        "id": "6-XDeUjZF445",
        "outputId": "27dcd15b-b83b-4416-8b2f-e5b10c2dc365"
      },
      "execution_count": null,
      "outputs": [
        {
          "output_type": "execute_result",
          "data": {
            "text/plain": [
              "['-DOCSTART- -X- -X- O\\n',\n",
              " '\\n',\n",
              " 'EU NNP B-NP B-ORG\\n',\n",
              " 'rejects VBZ B-VP O\\n',\n",
              " 'German JJ B-NP B-MISC\\n']"
            ]
          },
          "metadata": {},
          "execution_count": 64
        }
      ]
    },
    {
      "cell_type": "code",
      "source": [
        "# Funkcija za obradu linija teksta koje smo dobili pomoću prethodne funkcije\n",
        "\n",
        "def preprocess_text (text):\n",
        "  \n",
        "  preprocessed_lines = []\n",
        "  sentence_num = -1\n",
        "\n",
        "  for line in text:\n",
        "    if line.startswith(\"-DOCSTART-\"):\n",
        "      pass\n",
        "    elif line == \"\\n\":\n",
        "      sentence_num += 1\n",
        "    else:\n",
        "      line_data = {}\n",
        "      line_split = line.split()\n",
        "      line_data[\"word\"] = line_split[0]\n",
        "      line_data[\"label\"] = line_split[-1]\n",
        "      line_data[\"sentence_num\"] = sentence_num\n",
        "      preprocessed_lines.append(line_data)\n",
        "  \n",
        "  return preprocessed_lines\n",
        "\n",
        "preprocessed_train = preprocess_text(train)\n",
        "preprocessed_valid = preprocess_text(valid)\n",
        "preprocessed_test = preprocess_text(test)"
      ],
      "metadata": {
        "id": "blo6vkW2YJHo"
      },
      "execution_count": null,
      "outputs": []
    },
    {
      "cell_type": "code",
      "source": [
        "preprocessed_train[0]"
      ],
      "metadata": {
        "colab": {
          "base_uri": "https://localhost:8080/"
        },
        "id": "oT3SH2-pF9xt",
        "outputId": "f8b27e05-5cf4-46dc-a554-53a6bc6d0242"
      },
      "execution_count": null,
      "outputs": [
        {
          "output_type": "execute_result",
          "data": {
            "text/plain": [
              "{'label': 'B-ORG', 'sentence_num': 0, 'word': 'EU'}"
            ]
          },
          "metadata": {},
          "execution_count": 66
        }
      ]
    },
    {
      "cell_type": "markdown",
      "source": [
        "## Kreiranje DataFrameova"
      ],
      "metadata": {
        "id": "1oyU8t37MSZL"
      }
    },
    {
      "cell_type": "code",
      "source": [
        "import pandas as pd\n",
        "train_df = pd.DataFrame(preprocessed_train)\n",
        "val_df = pd.DataFrame(preprocessed_valid)\n",
        "test_df = pd.DataFrame(preprocessed_test)\n",
        "train_df.head(15)"
      ],
      "metadata": {
        "colab": {
          "base_uri": "https://localhost:8080/",
          "height": 520
        },
        "id": "HKM1Lh8lYPM_",
        "outputId": "9c445138-d076-4a40-9e6c-92b8928c446e"
      },
      "execution_count": null,
      "outputs": [
        {
          "output_type": "execute_result",
          "data": {
            "text/plain": [
              "          word   label  sentence_num\n",
              "0           EU   B-ORG             0\n",
              "1      rejects       O             0\n",
              "2       German  B-MISC             0\n",
              "3         call       O             0\n",
              "4           to       O             0\n",
              "5      boycott       O             0\n",
              "6      British  B-MISC             0\n",
              "7         lamb       O             0\n",
              "8            .       O             0\n",
              "9        Peter   B-PER             1\n",
              "10   Blackburn   I-PER             1\n",
              "11    BRUSSELS   B-LOC             2\n",
              "12  1996-08-22       O             2\n",
              "13         The       O             3\n",
              "14    European   B-ORG             3"
            ],
            "text/html": [
              "\n",
              "  <div id=\"df-c5e4098e-ad24-449a-9446-c3bf3e1bb864\">\n",
              "    <div class=\"colab-df-container\">\n",
              "      <div>\n",
              "<style scoped>\n",
              "    .dataframe tbody tr th:only-of-type {\n",
              "        vertical-align: middle;\n",
              "    }\n",
              "\n",
              "    .dataframe tbody tr th {\n",
              "        vertical-align: top;\n",
              "    }\n",
              "\n",
              "    .dataframe thead th {\n",
              "        text-align: right;\n",
              "    }\n",
              "</style>\n",
              "<table border=\"1\" class=\"dataframe\">\n",
              "  <thead>\n",
              "    <tr style=\"text-align: right;\">\n",
              "      <th></th>\n",
              "      <th>word</th>\n",
              "      <th>label</th>\n",
              "      <th>sentence_num</th>\n",
              "    </tr>\n",
              "  </thead>\n",
              "  <tbody>\n",
              "    <tr>\n",
              "      <th>0</th>\n",
              "      <td>EU</td>\n",
              "      <td>B-ORG</td>\n",
              "      <td>0</td>\n",
              "    </tr>\n",
              "    <tr>\n",
              "      <th>1</th>\n",
              "      <td>rejects</td>\n",
              "      <td>O</td>\n",
              "      <td>0</td>\n",
              "    </tr>\n",
              "    <tr>\n",
              "      <th>2</th>\n",
              "      <td>German</td>\n",
              "      <td>B-MISC</td>\n",
              "      <td>0</td>\n",
              "    </tr>\n",
              "    <tr>\n",
              "      <th>3</th>\n",
              "      <td>call</td>\n",
              "      <td>O</td>\n",
              "      <td>0</td>\n",
              "    </tr>\n",
              "    <tr>\n",
              "      <th>4</th>\n",
              "      <td>to</td>\n",
              "      <td>O</td>\n",
              "      <td>0</td>\n",
              "    </tr>\n",
              "    <tr>\n",
              "      <th>5</th>\n",
              "      <td>boycott</td>\n",
              "      <td>O</td>\n",
              "      <td>0</td>\n",
              "    </tr>\n",
              "    <tr>\n",
              "      <th>6</th>\n",
              "      <td>British</td>\n",
              "      <td>B-MISC</td>\n",
              "      <td>0</td>\n",
              "    </tr>\n",
              "    <tr>\n",
              "      <th>7</th>\n",
              "      <td>lamb</td>\n",
              "      <td>O</td>\n",
              "      <td>0</td>\n",
              "    </tr>\n",
              "    <tr>\n",
              "      <th>8</th>\n",
              "      <td>.</td>\n",
              "      <td>O</td>\n",
              "      <td>0</td>\n",
              "    </tr>\n",
              "    <tr>\n",
              "      <th>9</th>\n",
              "      <td>Peter</td>\n",
              "      <td>B-PER</td>\n",
              "      <td>1</td>\n",
              "    </tr>\n",
              "    <tr>\n",
              "      <th>10</th>\n",
              "      <td>Blackburn</td>\n",
              "      <td>I-PER</td>\n",
              "      <td>1</td>\n",
              "    </tr>\n",
              "    <tr>\n",
              "      <th>11</th>\n",
              "      <td>BRUSSELS</td>\n",
              "      <td>B-LOC</td>\n",
              "      <td>2</td>\n",
              "    </tr>\n",
              "    <tr>\n",
              "      <th>12</th>\n",
              "      <td>1996-08-22</td>\n",
              "      <td>O</td>\n",
              "      <td>2</td>\n",
              "    </tr>\n",
              "    <tr>\n",
              "      <th>13</th>\n",
              "      <td>The</td>\n",
              "      <td>O</td>\n",
              "      <td>3</td>\n",
              "    </tr>\n",
              "    <tr>\n",
              "      <th>14</th>\n",
              "      <td>European</td>\n",
              "      <td>B-ORG</td>\n",
              "      <td>3</td>\n",
              "    </tr>\n",
              "  </tbody>\n",
              "</table>\n",
              "</div>\n",
              "      <button class=\"colab-df-convert\" onclick=\"convertToInteractive('df-c5e4098e-ad24-449a-9446-c3bf3e1bb864')\"\n",
              "              title=\"Convert this dataframe to an interactive table.\"\n",
              "              style=\"display:none;\">\n",
              "        \n",
              "  <svg xmlns=\"http://www.w3.org/2000/svg\" height=\"24px\"viewBox=\"0 0 24 24\"\n",
              "       width=\"24px\">\n",
              "    <path d=\"M0 0h24v24H0V0z\" fill=\"none\"/>\n",
              "    <path d=\"M18.56 5.44l.94 2.06.94-2.06 2.06-.94-2.06-.94-.94-2.06-.94 2.06-2.06.94zm-11 1L8.5 8.5l.94-2.06 2.06-.94-2.06-.94L8.5 2.5l-.94 2.06-2.06.94zm10 10l.94 2.06.94-2.06 2.06-.94-2.06-.94-.94-2.06-.94 2.06-2.06.94z\"/><path d=\"M17.41 7.96l-1.37-1.37c-.4-.4-.92-.59-1.43-.59-.52 0-1.04.2-1.43.59L10.3 9.45l-7.72 7.72c-.78.78-.78 2.05 0 2.83L4 21.41c.39.39.9.59 1.41.59.51 0 1.02-.2 1.41-.59l7.78-7.78 2.81-2.81c.8-.78.8-2.07 0-2.86zM5.41 20L4 18.59l7.72-7.72 1.47 1.35L5.41 20z\"/>\n",
              "  </svg>\n",
              "      </button>\n",
              "      \n",
              "  <style>\n",
              "    .colab-df-container {\n",
              "      display:flex;\n",
              "      flex-wrap:wrap;\n",
              "      gap: 12px;\n",
              "    }\n",
              "\n",
              "    .colab-df-convert {\n",
              "      background-color: #E8F0FE;\n",
              "      border: none;\n",
              "      border-radius: 50%;\n",
              "      cursor: pointer;\n",
              "      display: none;\n",
              "      fill: #1967D2;\n",
              "      height: 32px;\n",
              "      padding: 0 0 0 0;\n",
              "      width: 32px;\n",
              "    }\n",
              "\n",
              "    .colab-df-convert:hover {\n",
              "      background-color: #E2EBFA;\n",
              "      box-shadow: 0px 1px 2px rgba(60, 64, 67, 0.3), 0px 1px 3px 1px rgba(60, 64, 67, 0.15);\n",
              "      fill: #174EA6;\n",
              "    }\n",
              "\n",
              "    [theme=dark] .colab-df-convert {\n",
              "      background-color: #3B4455;\n",
              "      fill: #D2E3FC;\n",
              "    }\n",
              "\n",
              "    [theme=dark] .colab-df-convert:hover {\n",
              "      background-color: #434B5C;\n",
              "      box-shadow: 0px 1px 3px 1px rgba(0, 0, 0, 0.15);\n",
              "      filter: drop-shadow(0px 1px 2px rgba(0, 0, 0, 0.3));\n",
              "      fill: #FFFFFF;\n",
              "    }\n",
              "  </style>\n",
              "\n",
              "      <script>\n",
              "        const buttonEl =\n",
              "          document.querySelector('#df-c5e4098e-ad24-449a-9446-c3bf3e1bb864 button.colab-df-convert');\n",
              "        buttonEl.style.display =\n",
              "          google.colab.kernel.accessAllowed ? 'block' : 'none';\n",
              "\n",
              "        async function convertToInteractive(key) {\n",
              "          const element = document.querySelector('#df-c5e4098e-ad24-449a-9446-c3bf3e1bb864');\n",
              "          const dataTable =\n",
              "            await google.colab.kernel.invokeFunction('convertToInteractive',\n",
              "                                                     [key], {});\n",
              "          if (!dataTable) return;\n",
              "\n",
              "          const docLinkHtml = 'Like what you see? Visit the ' +\n",
              "            '<a target=\"_blank\" href=https://colab.research.google.com/notebooks/data_table.ipynb>data table notebook</a>'\n",
              "            + ' to learn more about interactive tables.';\n",
              "          element.innerHTML = '';\n",
              "          dataTable['output_type'] = 'display_data';\n",
              "          await google.colab.output.renderOutput(dataTable, element);\n",
              "          const docLink = document.createElement('div');\n",
              "          docLink.innerHTML = docLinkHtml;\n",
              "          element.appendChild(docLink);\n",
              "        }\n",
              "      </script>\n",
              "    </div>\n",
              "  </div>\n",
              "  "
            ]
          },
          "metadata": {},
          "execution_count": 67
        }
      ]
    },
    {
      "cell_type": "markdown",
      "source": [
        "## Kreiranje liste rečenica"
      ],
      "metadata": {
        "id": "HfGefRlG6bIw"
      }
    },
    {
      "cell_type": "code",
      "source": [
        "def get_sentences_list_from_df (df):\n",
        "\n",
        "  sentences = []\n",
        "  sentence = \"\"\n",
        "\n",
        "  for index, row in df.iterrows():\n",
        "    if index == 0:\n",
        "      sentence += row[\"word\"]\n",
        "    elif row[\"sentence_num\"] == df.iloc[index - 1][\"sentence_num\"]:\n",
        "      sentence += \" \" + row[\"word\"]\n",
        "    else:\n",
        "      sentences.append(sentence)\n",
        "      sentence = \"\"\n",
        "      sentence += row[\"word\"]\n",
        "    \n",
        "  return sentences"
      ],
      "metadata": {
        "id": "jkQirxk3jaTX"
      },
      "execution_count": null,
      "outputs": []
    },
    {
      "cell_type": "code",
      "source": [
        "train_sentences_list = get_sentences_list_from_df(train_df)\n",
        "val_sentences_list = get_sentences_list_from_df(val_df)\n",
        "test_sentences_list = get_sentences_list_from_df(test_df)"
      ],
      "metadata": {
        "id": "nV1VbMIxjk2d"
      },
      "execution_count": null,
      "outputs": []
    },
    {
      "cell_type": "markdown",
      "source": [
        "## Duljina rečenica\n",
        "\n",
        "Trebamo odrediti koliko će nam biti dugi ulazni podaci. Sve rečenice koje ulaze u naš model trebaju biti iste duljine. Izračunati ćemo 95. percentil (duljinu koju ima barem 95% svih rečenica) te uzeti tu vrijednost za duljinu ulaznih podataka.\n",
        "\n"
      ],
      "metadata": {
        "id": "QSLI9UBEfAzq"
      }
    },
    {
      "cell_type": "code",
      "source": [
        "import numpy as np\n",
        "\n",
        "sent_lens = []\n",
        "\n",
        "for sent in train_sentences_list:\n",
        "  sent_lens.append(len(sent.split()))\n",
        "\n",
        "len_percentile = int(np.percentile(sent_lens, 95))\n",
        "len_percentile"
      ],
      "metadata": {
        "colab": {
          "base_uri": "https://localhost:8080/"
        },
        "id": "t5De_c9Sd_L8",
        "outputId": "383642b7-c280-4319-d7bf-beba4c6f840b"
      },
      "execution_count": null,
      "outputs": [
        {
          "output_type": "execute_result",
          "data": {
            "text/plain": [
              "37"
            ]
          },
          "metadata": {},
          "execution_count": 70
        }
      ]
    },
    {
      "cell_type": "markdown",
      "source": [
        "## Vektorizacija teksta"
      ],
      "metadata": {
        "id": "yOuEXPdF7v02"
      }
    },
    {
      "cell_type": "code",
      "source": [
        "words = list(set(train_df[\"word\"].values))\n",
        "num_words = len(words)\n",
        "\n",
        "print(f\"Broj jedinstvenih riječi: {num_words}\")"
      ],
      "metadata": {
        "colab": {
          "base_uri": "https://localhost:8080/"
        },
        "id": "3_TUMgTjf5Y9",
        "outputId": "4c18393e-0015-45ef-ab31-7eb3f6904845"
      },
      "execution_count": null,
      "outputs": [
        {
          "output_type": "stream",
          "name": "stdout",
          "text": [
            "Broj jedinstvenih riječi: 23623\n"
          ]
        }
      ]
    },
    {
      "cell_type": "code",
      "source": [
        "from tensorflow.keras.layers import TextVectorization\n",
        "\n",
        "text_vectorizer = TextVectorization(max_tokens=23000,\n",
        "                                    output_sequence_length=len_percentile) # koristimo vrijednost koju smo dobili gore"
      ],
      "metadata": {
        "id": "S5_ZU9cAi_98"
      },
      "execution_count": null,
      "outputs": []
    },
    {
      "cell_type": "code",
      "source": [
        "text_vectorizer.adapt(train_sentences_list)"
      ],
      "metadata": {
        "id": "Gb_wWffUjGHj"
      },
      "execution_count": null,
      "outputs": []
    },
    {
      "cell_type": "code",
      "source": [
        "# Vektorizacija svih rečenica\n",
        "train_sentences_vectorized = [text_vectorizer([x]) for x in train_sentences_list]\n",
        "val_sentences_vectorized = [text_vectorizer([x]) for x in val_sentences_list]\n",
        "test_sentences_vectorized = [text_vectorizer([x]) for x in test_sentences_list]"
      ],
      "metadata": {
        "id": "4WiAWAqEi5Lg"
      },
      "execution_count": null,
      "outputs": []
    },
    {
      "cell_type": "markdown",
      "source": [
        "## Numeriranje i popunjavanje (*padding*) oznaka"
      ],
      "metadata": {
        "id": "_cK45GFR7yQl"
      }
    },
    {
      "cell_type": "code",
      "source": [
        "labels = list(set(train_df[\"label\"].values))\n",
        "\n",
        "label2idx = {t: i for i, t in enumerate(labels)}\n",
        "idx2label = {value: key for (key, value) in label2idx.items()}"
      ],
      "metadata": {
        "id": "fIeZNFDGk9QI"
      },
      "execution_count": null,
      "outputs": []
    },
    {
      "cell_type": "code",
      "source": [
        "def tokenize_labels (df):\n",
        "\n",
        "  labels = list(df[\"label\"].values)\n",
        "  sentence_numbers = list(df[\"sentence_num\"].values)\n",
        "\n",
        "  current_sentence_labels = []\n",
        "  all_labels = []\n",
        "\n",
        "  for index, el in enumerate(labels):\n",
        "    if index == 0 or sentence_numbers[index] == sentence_numbers[index-1]:\n",
        "      current_sentence_labels.append(el)\n",
        "    else:\n",
        "      all_labels.append(current_sentence_labels)\n",
        "      current_sentence_labels = []\n",
        "      current_sentence_labels.append(el)\n",
        "\n",
        "  tokenized_labels = [[label2idx[label] for label in sentence] for sentence in all_labels]\n",
        "\n",
        "  return tokenized_labels"
      ],
      "metadata": {
        "id": "RgjiqD_MBTl0"
      },
      "execution_count": null,
      "outputs": []
    },
    {
      "cell_type": "code",
      "source": [
        "train_labels_tokenized = tokenize_labels(train_df)\n",
        "val_labels_tokenized = tokenize_labels(val_df)\n",
        "test_labels_tokenized = tokenize_labels(test_df)"
      ],
      "metadata": {
        "id": "CFMdjr53EmBB"
      },
      "execution_count": null,
      "outputs": []
    },
    {
      "cell_type": "code",
      "source": [
        "from tensorflow.keras.preprocessing.sequence import pad_sequences\n",
        "\n",
        "train_labels_padded = pad_sequences(maxlen=len_percentile,\n",
        "                                    sequences=train_labels_tokenized,\n",
        "                                    padding=\"post\",\n",
        "                                    value=label2idx[\"O\"])\n",
        "\n",
        "val_labels_padded = pad_sequences(maxlen=len_percentile,\n",
        "                                  sequences=val_labels_tokenized,\n",
        "                                  padding=\"post\",\n",
        "                                  value=label2idx[\"O\"])\n",
        "\n",
        "test_labels_padded = pad_sequences(maxlen=len_percentile,\n",
        "                                   sequences=test_labels_tokenized,\n",
        "                                   padding=\"post\",\n",
        "                                   value=label2idx[\"O\"])"
      ],
      "metadata": {
        "id": "1GzewS9GkTyl"
      },
      "execution_count": null,
      "outputs": []
    },
    {
      "cell_type": "markdown",
      "source": [
        "## Dovođenje podataka u isti oblik\n",
        "\n",
        "Rečenice su nam trenutno tip podatka Tensor oblika (1, 37), dok su oznake NumPy array oblika (37,).\n",
        "\n",
        "Možemo pokušati trenirati na jednom i drugom tipu podatka i usporediti rezultate."
      ],
      "metadata": {
        "id": "drSxaQA-HExz"
      }
    },
    {
      "cell_type": "markdown",
      "source": [
        "### NumPy array"
      ],
      "metadata": {
        "id": "msDkEr0q0MD4"
      }
    },
    {
      "cell_type": "code",
      "source": [
        "# Primjer vektorizirane rečenice\n",
        "train_sentences_vectorized[0]"
      ],
      "metadata": {
        "colab": {
          "base_uri": "https://localhost:8080/"
        },
        "id": "3W0LnqrAnY0L",
        "outputId": "f383fb14-095b-4961-f8e3-f9b9383e6d01"
      },
      "execution_count": null,
      "outputs": [
        {
          "output_type": "execute_result",
          "data": {
            "text/plain": [
              "<tf.Tensor: shape=(1, 37), dtype=int64, numpy=\n",
              "array([[  996, 12747,   203,   618,     5,  4445,   212,  6495,     0,\n",
              "            0,     0,     0,     0,     0,     0,     0,     0,     0,\n",
              "            0,     0,     0,     0,     0,     0,     0,     0,     0,\n",
              "            0,     0,     0,     0,     0,     0,     0,     0,     0,\n",
              "            0]])>"
            ]
          },
          "metadata": {},
          "execution_count": 79
        }
      ]
    },
    {
      "cell_type": "code",
      "source": [
        "# Primjer popunjene oznake\n",
        "train_labels_padded[0], train_labels_padded[0].shape"
      ],
      "metadata": {
        "colab": {
          "base_uri": "https://localhost:8080/"
        },
        "id": "unUS0SxPn2Zu",
        "outputId": "f54d4350-b428-4d3b-e0e5-b17bcd832210"
      },
      "execution_count": null,
      "outputs": [
        {
          "output_type": "execute_result",
          "data": {
            "text/plain": [
              "(array([2, 8, 0, 8, 8, 8, 0, 8, 8, 8, 8, 8, 8, 8, 8, 8, 8, 8, 8, 8, 8, 8,\n",
              "        8, 8, 8, 8, 8, 8, 8, 8, 8, 8, 8, 8, 8, 8, 8], dtype=int32), (37,))"
            ]
          },
          "metadata": {},
          "execution_count": 80
        }
      ]
    },
    {
      "cell_type": "code",
      "source": [
        "# Pretvaranje rečenica u NumPy arrayove\n",
        "import numpy as np\n",
        "train_sentences_arrays = [np.array(t) for t in train_sentences_vectorized]\n",
        "val_sentences_arrays = [np.array(t) for t in val_sentences_vectorized]\n",
        "test_sentences_arrays = [np.array(t) for t in test_sentences_vectorized]"
      ],
      "metadata": {
        "id": "T2Skc1yLvjgv"
      },
      "execution_count": null,
      "outputs": []
    },
    {
      "cell_type": "code",
      "source": [
        "# Smanjivanje dimenzionalosti rečenica - iz (1, 37) u (37,)\n",
        "train_sentences_arrays_squeezed = np.squeeze(train_sentences_arrays)\n",
        "val_sentences_arrays_squeezed = np.squeeze(val_sentences_arrays)\n",
        "test_sentences_arrays_squeezed = np.squeeze(test_sentences_arrays)"
      ],
      "metadata": {
        "id": "FB2Y4c3-w7O_"
      },
      "execution_count": null,
      "outputs": []
    },
    {
      "cell_type": "code",
      "source": [
        "type(train_sentences_arrays_squeezed[0]), type(train_labels_padded[0])"
      ],
      "metadata": {
        "colab": {
          "base_uri": "https://localhost:8080/"
        },
        "id": "c9VoHIIh0mgn",
        "outputId": "770c28fc-36b6-4f05-a5ac-91f23e968655"
      },
      "execution_count": null,
      "outputs": [
        {
          "output_type": "execute_result",
          "data": {
            "text/plain": [
              "(numpy.ndarray, numpy.ndarray)"
            ]
          },
          "metadata": {},
          "execution_count": 83
        }
      ]
    },
    {
      "cell_type": "code",
      "source": [
        "print(f\"Oblik rečenica (tipa NumPy array): {train_sentences_arrays_squeezed.shape}\")\n",
        "print(f\"Oblik oznaka (tipa NumPy array): {train_labels_padded.shape}\")"
      ],
      "metadata": {
        "colab": {
          "base_uri": "https://localhost:8080/"
        },
        "id": "An5piPYUw-XC",
        "outputId": "18efd18b-b01d-4c2c-ee1b-bb0f86865302"
      },
      "execution_count": null,
      "outputs": [
        {
          "output_type": "stream",
          "name": "stdout",
          "text": [
            "Oblik rečenica (tipa NumPy array): (14040, 37)\n",
            "Oblik oznaka (tipa NumPy array): (14040, 37)\n"
          ]
        }
      ]
    },
    {
      "cell_type": "markdown",
      "source": [
        "### Tensor"
      ],
      "metadata": {
        "id": "WA--90iS0O1P"
      }
    },
    {
      "cell_type": "code",
      "source": [
        "# EKSPERIMENT: umjesto pretvaranja rečenica u NumPy array, pretvorimo oznake u Tensor\n",
        "import tensorflow as tf\n",
        "\n",
        "train_label_tensors = tf.convert_to_tensor(train_labels_padded)\n",
        "val_label_tensors = tf.convert_to_tensor(val_labels_padded)\n",
        "test_label_tensors = tf.convert_to_tensor(test_labels_padded)\n",
        "\n",
        "train_sentences_arrays_squeezed_tensors = tf.squeeze(train_sentences_vectorized)\n",
        "val_sentences_arrays_squeezed_tensors = tf.squeeze(val_sentences_vectorized)\n",
        "test_sentences_arrays_squeezed_tensors = tf.squeeze(test_sentences_vectorized)"
      ],
      "metadata": {
        "id": "1R6s8zfSnaov"
      },
      "execution_count": null,
      "outputs": []
    },
    {
      "cell_type": "code",
      "source": [
        "type(train_sentences_arrays_squeezed_tensors), type(train_label_tensors[0])"
      ],
      "metadata": {
        "colab": {
          "base_uri": "https://localhost:8080/"
        },
        "id": "-CeYQjYwyIdp",
        "outputId": "f36a2218-2daf-4c21-8fb5-2fc9d1509d51"
      },
      "execution_count": null,
      "outputs": [
        {
          "output_type": "execute_result",
          "data": {
            "text/plain": [
              "(tensorflow.python.framework.ops.EagerTensor,\n",
              " tensorflow.python.framework.ops.EagerTensor)"
            ]
          },
          "metadata": {},
          "execution_count": 86
        }
      ]
    },
    {
      "cell_type": "code",
      "source": [
        "print(f\"Oblik rečenica (tipa Tensor): {train_sentences_arrays_squeezed_tensors.shape}\")\n",
        "print(f\"Oblik oznaka (tipa Tensor): {train_label_tensors.shape}\")"
      ],
      "metadata": {
        "colab": {
          "base_uri": "https://localhost:8080/"
        },
        "id": "uS3v7w_yqYiO",
        "outputId": "260f9ee7-ca32-4f50-dc2d-22dbe475178b"
      },
      "execution_count": null,
      "outputs": [
        {
          "output_type": "stream",
          "name": "stdout",
          "text": [
            "Oblik rečenica (tipa Tensor): (14040, 37)\n",
            "Oblik oznaka (tipa Tensor): (14040, 37)\n"
          ]
        }
      ]
    },
    {
      "cell_type": "code",
      "source": [
        "# Pomoćna funkcija za prikaz tijeka treniranja\n",
        "import matplotlib.pyplot as plt\n",
        "\n",
        "def plot_results(history):\n",
        "  acc = history.history['accuracy']\n",
        "  val_acc = history.history['val_accuracy']\n",
        "  loss = history.history['loss']\n",
        "  val_loss = history.history['val_loss']\n",
        "\n",
        "\n",
        "  epoch = range(1, len(acc) + 1)\n",
        "\n",
        "  plt.plot(epoch, loss, 'r', label = 'Gubitak (trening)')\n",
        "  plt.plot(epoch, val_loss, 'b', label = 'Gubitak (validacija)')\n",
        "  plt.title('Vrijednost funkcije gubitka na skupu za treniranje i skupu za validaciju')\n",
        "  plt.xlabel('Epoha')\n",
        "  plt.ylabel('Gubitak')\n",
        "  plt.legend()\n",
        "  plt.show()\n",
        "\n",
        "  plt.plot(epoch, acc, 'r', label = 'Točnost (trening)')\n",
        "  plt.plot(epoch, val_acc, 'b', label = 'Točnost (validacija)')\n",
        "  plt.title('Točnost na skupu za treniranje i skupu za validaciju')\n",
        "  plt.xlabel('Epoha')\n",
        "  plt.ylabel('Točnost')\n",
        "  plt.legend()\n",
        "  plt.show()"
      ],
      "metadata": {
        "id": "yaW8uS9xy-7_"
      },
      "execution_count": null,
      "outputs": []
    },
    {
      "cell_type": "code",
      "source": [
        "# Trenirati ćemo na 50% podatka radi bržeg treniranja modela\n",
        "from sklearn.model_selection import train_test_split\n",
        "\n",
        "# NumPy arrayevi\n",
        "X_train, data_50_percent_array, y_train, labels_50_percent_array = train_test_split(train_sentences_arrays_squeezed,\n",
        "                                                                                    train_labels_padded,\n",
        "                                                                                    test_size=0.5,\n",
        "                                                                                    random_state=42)\n",
        "\n",
        "# Tenzori\n",
        "length = int(len(train_sentences_arrays_squeezed_tensors) * 0.5)\n",
        "data_50_percent_tensor = train_sentences_arrays_squeezed_tensors[:length]\n",
        "labels_50_percent_tensor = train_label_tensors[:length]"
      ],
      "metadata": {
        "id": "Ii5gZ3zq2Zwo"
      },
      "execution_count": null,
      "outputs": []
    },
    {
      "cell_type": "markdown",
      "source": [
        "# Eksperimenti sa raznim arhitekturama mreža i hiperparametrima"
      ],
      "metadata": {
        "id": "ZtH3u4qsHcMa"
      }
    },
    {
      "cell_type": "markdown",
      "source": [
        "## Model 1 (LSTM treniran na NumPy arrayevima)\n",
        "\n",
        "Za prvi model odabrao sam arhitekturu sa LSTM slojem. LSTM (*long short-term memory*) je vrsta ponavljajuće neuronske mreže (*recurrent neural network*) koja se koristi u procesiranju sekvenci podataka, te zbog toga nalazi primjenu u obradi prirodnog jezika i predviđanju vremenskih nizova. Više detalja o implementaciji LSTM sloja u TensorFlow-u može se pronaći u službenoj dokumentaciji: https://www.tensorflow.org/api_docs/python/tf/keras/layers/LSTM\n",
        "\n",
        "Također, prije prosljeđivanja ulaznih podataka LSTM sloju, podaci će proći kroz `Embedding` sloj koji pretvara tokenizirane rečenice (dakle, rečenice čije su riječi predstavljene kao pozitivni brojevi) u vektore određene duljine. Duljina vektora se određuje pomoću parametra `output_dim`. Embedding sloj obogaćuje numeričku reprezentaciju riječi na način da povećava dimenzionalnost podataka. Za ovaj model odabrao sam svaku riječ reprezentirati pomoću vektora duljine 50."
      ],
      "metadata": {
        "id": "PkD-Ur4_lGG_"
      }
    },
    {
      "cell_type": "code",
      "source": [
        "import random\n",
        "import numpy as np\n",
        "import tensorflow as tf\n",
        "\n",
        "seed = 42\n",
        "random.seed(seed)\n",
        "np.random.seed(seed)\n",
        "tf.random.set_seed(seed)"
      ],
      "metadata": {
        "id": "d2NZCQSq-Qnm"
      },
      "execution_count": null,
      "outputs": []
    },
    {
      "cell_type": "code",
      "source": [
        "labels = list(set(train_df[\"label\"].values))\n",
        "num_labels = len(labels)\n",
        "num_labels"
      ],
      "metadata": {
        "colab": {
          "base_uri": "https://localhost:8080/"
        },
        "id": "83oLgRqfnBe8",
        "outputId": "4aa5dd27-eedf-4d96-b7d8-5d37e3e80cbf"
      },
      "execution_count": null,
      "outputs": [
        {
          "output_type": "execute_result",
          "data": {
            "text/plain": [
              "9"
            ]
          },
          "metadata": {},
          "execution_count": 91
        }
      ]
    },
    {
      "cell_type": "code",
      "source": [
        "from tensorflow.keras import layers\n",
        "\n",
        "inputs = tf.keras.Input(shape=(37,))\n",
        "x = layers.Embedding(input_dim=num_words, # koliko riječi imamo u našem vokabularu\n",
        "                     output_dim=50, # svaka riječ će biti vektor duljine 50\n",
        "                     input_length=37)(inputs)\n",
        "x = layers.LSTM(units=100, # 100 skrivenih neurona\n",
        "                return_sequences=True)(x)\n",
        "outputs = layers.Dense(num_labels,\n",
        "                       activation=\"softmax\")(x) # završni sloj će za svaku riječ davati vjerojatnosti da se ona nalazi u određenoj kategoriji (ukupno 9 vjerojatnosti)\n",
        "\n",
        "model_1 = tf.keras.Model(inputs, outputs)\n",
        "\n",
        "model_1.summary()"
      ],
      "metadata": {
        "colab": {
          "base_uri": "https://localhost:8080/"
        },
        "id": "i8Z7XmX2odI3",
        "outputId": "25e0eaf6-7d37-4cbf-f725-67ade47073ba"
      },
      "execution_count": null,
      "outputs": [
        {
          "output_type": "stream",
          "name": "stdout",
          "text": [
            "Model: \"model_6\"\n",
            "_________________________________________________________________\n",
            " Layer (type)                Output Shape              Param #   \n",
            "=================================================================\n",
            " input_8 (InputLayer)        [(None, 37)]              0         \n",
            "                                                                 \n",
            " embedding_7 (Embedding)     (None, 37, 50)            1181150   \n",
            "                                                                 \n",
            " lstm_4 (LSTM)               (None, 37, 100)           60400     \n",
            "                                                                 \n",
            " dense_6 (Dense)             (None, 37, 9)             909       \n",
            "                                                                 \n",
            "=================================================================\n",
            "Total params: 1,242,459\n",
            "Trainable params: 1,242,459\n",
            "Non-trainable params: 0\n",
            "_________________________________________________________________\n"
          ]
        }
      ]
    },
    {
      "cell_type": "code",
      "source": [
        "model_1.compile(optimizer=tf.keras.optimizers.Adam(),\n",
        "                loss=\"sparse_categorical_crossentropy\",\n",
        "                metrics=[\"accuracy\"])\n",
        "\n",
        "history_1 = model_1.fit(x=data_50_percent_array,\n",
        "                        y=labels_50_percent_array,\n",
        "                        validation_data=(val_sentences_arrays_squeezed,\n",
        "                                         val_labels_padded), \n",
        "                        epochs=5)"
      ],
      "metadata": {
        "colab": {
          "base_uri": "https://localhost:8080/"
        },
        "id": "M3fNsYW8rwMH",
        "outputId": "27498345-6a85-49bb-d0de-9a74dad00672"
      },
      "execution_count": null,
      "outputs": [
        {
          "output_type": "stream",
          "name": "stdout",
          "text": [
            "Epoch 1/5\n",
            "220/220 [==============================] - 10s 38ms/step - loss: 0.4555 - accuracy: 0.9317 - val_loss: 0.3258 - val_accuracy: 0.9311\n",
            "Epoch 2/5\n",
            "220/220 [==============================] - 8s 37ms/step - loss: 0.2653 - accuracy: 0.9363 - val_loss: 0.2884 - val_accuracy: 0.9312\n",
            "Epoch 3/5\n",
            "220/220 [==============================] - 8s 36ms/step - loss: 0.2354 - accuracy: 0.9370 - val_loss: 0.2758 - val_accuracy: 0.9317\n",
            "Epoch 4/5\n",
            "220/220 [==============================] - 8s 36ms/step - loss: 0.2202 - accuracy: 0.9377 - val_loss: 0.2703 - val_accuracy: 0.9325\n",
            "Epoch 5/5\n",
            "220/220 [==============================] - 8s 35ms/step - loss: 0.2097 - accuracy: 0.9395 - val_loss: 0.2669 - val_accuracy: 0.9328\n"
          ]
        }
      ]
    },
    {
      "cell_type": "code",
      "source": [
        "plot_results(history_1)"
      ],
      "metadata": {
        "colab": {
          "base_uri": "https://localhost:8080/",
          "height": 573
        },
        "id": "nxns78gEzB-k",
        "outputId": "7955dfe2-d56c-4297-9c2e-06b8c79aa250"
      },
      "execution_count": null,
      "outputs": [
        {
          "output_type": "display_data",
          "data": {
            "text/plain": [
              "<Figure size 432x288 with 1 Axes>"
            ],
            "image/png": "[encoded data removed]"
          },
          "metadata": {
            "needs_background": "light"
          }
        },
        {
          "output_type": "display_data",
          "data": {
            "text/plain": [
              "<Figure size 432x288 with 1 Axes>"
            ],
            "image/png": "[encoded data removed]"
          },
          "metadata": {
            "needs_background": "light"
          }
        }
      ]
    },
    {
      "cell_type": "markdown",
      "source": [
        "Budući da nam se linije sve više počinju udaljavati, po tome možemo zaključiti da dolazi do blage pretreniranosti (overfittinga)."
      ],
      "metadata": {
        "id": "DlhJAwSx5ZTl"
      }
    },
    {
      "cell_type": "markdown",
      "source": [
        "# Kreiranje funkcija za detaljnu evaluaciju modela"
      ],
      "metadata": {
        "id": "RPBYELfd0n2R"
      }
    },
    {
      "cell_type": "code",
      "source": [
        "# Predviđanja modela\n",
        "model_1_pred_probs = model_1.predict(val_sentences_arrays_squeezed)\n",
        "model_1_pred_probs.shape"
      ],
      "metadata": {
        "colab": {
          "base_uri": "https://localhost:8080/"
        },
        "id": "QiumxIvWq-xt",
        "outputId": "ddde8a83-2ba7-4dfb-8c47-87a59cd505ab"
      },
      "execution_count": null,
      "outputs": [
        {
          "output_type": "execute_result",
          "data": {
            "text/plain": [
              "(3249, 37, 9)"
            ]
          },
          "metadata": {},
          "execution_count": 95
        }
      ]
    },
    {
      "cell_type": "markdown",
      "source": [
        "Gornji brojevi predstavljaju 3249 predikcija, 37 riječi po rečenici, te 9 mogućih oznaka (9 vjerojatnosti po riječi). Želimo za svaku riječ odrediti koja oznaka ima najveću vjerojatnost. Na kraju ćemo dobiti listu sa predviđenim oznakama."
      ],
      "metadata": {
        "id": "vRmPXEl80xgB"
      }
    },
    {
      "cell_type": "code",
      "source": [
        "# Prva rečenica u skupu za validaciju\n",
        "val_sentences_list[0]"
      ],
      "metadata": {
        "colab": {
          "base_uri": "https://localhost:8080/",
          "height": 36
        },
        "id": "I7gGJf1ytTRl",
        "outputId": "1c352163-f068-4bb0-bc1f-f3cc9ba2d51f"
      },
      "execution_count": null,
      "outputs": [
        {
          "output_type": "execute_result",
          "data": {
            "text/plain": [
              "'CRICKET - LEICESTERSHIRE TAKE OVER AT TOP AFTER INNINGS VICTORY .'"
            ],
            "application/vnd.google.colaboratory.intrinsic+json": {
              "type": "string"
            }
          },
          "metadata": {},
          "execution_count": 96
        }
      ]
    },
    {
      "cell_type": "code",
      "source": [
        "# Primjer predikcije za prvu riječ u gornjoj rečenici\n",
        "model_1_pred_probs[0][0]"
      ],
      "metadata": {
        "colab": {
          "base_uri": "https://localhost:8080/"
        },
        "id": "VNOjXFEas6jl",
        "outputId": "34a06464-48cb-443e-dec7-6f437decc7c3"
      },
      "execution_count": null,
      "outputs": [
        {
          "output_type": "execute_result",
          "data": {
            "text/plain": [
              "array([2.3282674e-04, 9.1323585e-05, 1.1926283e-03, 2.0160000e-03,\n",
              "       3.2421795e-04, 2.8111623e-04, 1.1965941e-03, 1.9063608e-04,\n",
              "       9.9447471e-01], dtype=float32)"
            ]
          },
          "metadata": {},
          "execution_count": 97
        }
      ]
    },
    {
      "cell_type": "code",
      "source": [
        "# Koji je indeks najveće vrijednosti?\n",
        "np.argmax(model_1_pred_probs[0][0])"
      ],
      "metadata": {
        "colab": {
          "base_uri": "https://localhost:8080/"
        },
        "id": "Fv3SpreUs-v-",
        "outputId": "4a3fe702-448e-41c7-a289-7e3fab00c96e"
      },
      "execution_count": null,
      "outputs": [
        {
          "output_type": "execute_result",
          "data": {
            "text/plain": [
              "8"
            ]
          },
          "metadata": {},
          "execution_count": 98
        }
      ]
    },
    {
      "cell_type": "code",
      "source": [
        "# Koja je to oznaka?\n",
        "idx2label[5]"
      ],
      "metadata": {
        "colab": {
          "base_uri": "https://localhost:8080/",
          "height": 36
        },
        "id": "8g75QAZltGA2",
        "outputId": "0486ed5e-cf8b-4d91-b796-fb1fe7d102fd"
      },
      "execution_count": null,
      "outputs": [
        {
          "output_type": "execute_result",
          "data": {
            "text/plain": [
              "'I-PER'"
            ],
            "application/vnd.google.colaboratory.intrinsic+json": {
              "type": "string"
            }
          },
          "metadata": {},
          "execution_count": 99
        }
      ]
    },
    {
      "cell_type": "code",
      "source": [
        "# Koja je točna oznaka?\n",
        "val_labels_padded[0][0]"
      ],
      "metadata": {
        "colab": {
          "base_uri": "https://localhost:8080/"
        },
        "id": "Pt1ZLP2jt11u",
        "outputId": "595386c7-8834-4507-a80f-112f52060282"
      },
      "execution_count": null,
      "outputs": [
        {
          "output_type": "execute_result",
          "data": {
            "text/plain": [
              "8"
            ]
          },
          "metadata": {},
          "execution_count": 100
        }
      ]
    },
    {
      "cell_type": "code",
      "source": [
        "# Oblik točnih oznaka (3249 rečenice, 37 oznaka - jedna oznaka za svaku riječ)\n",
        "val_labels_padded.shape"
      ],
      "metadata": {
        "colab": {
          "base_uri": "https://localhost:8080/"
        },
        "id": "IMSNPzGIwcG7",
        "outputId": "d6feea96-0c8c-4f68-807e-1c2a7a367c28"
      },
      "execution_count": null,
      "outputs": [
        {
          "output_type": "execute_result",
          "data": {
            "text/plain": [
              "(3249, 37)"
            ]
          },
          "metadata": {},
          "execution_count": 101
        }
      ]
    },
    {
      "cell_type": "code",
      "source": [
        "# Kreiranje liste sa točnim oznakama\n",
        "true_labels = []\n",
        "\n",
        "for sentence in val_labels_padded:\n",
        "  for label in sentence:\n",
        "    true_labels.append(label)\n",
        "\n",
        "# Prikaz prvih 10 točnih oznaka u skupu za validaciju\n",
        "true_labels[:10]"
      ],
      "metadata": {
        "colab": {
          "base_uri": "https://localhost:8080/"
        },
        "id": "nKpDl3MV3Ejw",
        "outputId": "657fcfc8-6185-4b2b-e0b9-4641cecd44bb"
      },
      "execution_count": null,
      "outputs": [
        {
          "output_type": "execute_result",
          "data": {
            "text/plain": [
              "[8, 8, 2, 8, 8, 8, 8, 8, 8, 8]"
            ]
          },
          "metadata": {},
          "execution_count": 102
        }
      ]
    },
    {
      "cell_type": "code",
      "source": [
        "# Funkcija koja prima vjerojatnosti (predviđanja modela) i vraća oznake sa najvećom vjerojatnosti\n",
        "def get_labels_from_probs (pred_probs):\n",
        "  \n",
        "  predicted_labels = []\n",
        "\n",
        "  for sentence in pred_probs:\n",
        "    for label in sentence:\n",
        "      predicted_labels.append(np.argmax(label)) # dodaj indeks oznake sa najvećom vjerojatnošću\n",
        "\n",
        "  return predicted_labels"
      ],
      "metadata": {
        "id": "nXbhwz55zcLY"
      },
      "execution_count": null,
      "outputs": []
    },
    {
      "cell_type": "code",
      "source": [
        "model_1_predicted_labels = get_labels_from_probs(model_1_pred_probs)\n",
        "\n",
        "# Prikaz prvih 10 predviđanja modela u skupu za validaciju\n",
        "model_1_predicted_labels[:10]"
      ],
      "metadata": {
        "colab": {
          "base_uri": "https://localhost:8080/"
        },
        "id": "X23bEjsT3VGf",
        "outputId": "3e5e336f-c130-4e18-8b9b-e7de5af95391"
      },
      "execution_count": null,
      "outputs": [
        {
          "output_type": "execute_result",
          "data": {
            "text/plain": [
              "[8, 8, 8, 8, 8, 8, 8, 8, 8, 8]"
            ]
          },
          "metadata": {},
          "execution_count": 104
        }
      ]
    },
    {
      "cell_type": "markdown",
      "source": [
        "Sada, nakon što imamo točne oznake i predviđene oznake u posebnim listama, možemo kreirati funkcije za detaljnu evaluaciju modela.\n",
        "\n",
        "Prva funkcija prima listu sa točnim oznakama i predviđanja modela (vjerojatnosti), a vraća točnost (accuracy), preciznost, recall i F1-score."
      ],
      "metadata": {
        "id": "xPwg_0mJ3wgf"
      }
    },
    {
      "cell_type": "code",
      "source": [
        "from sklearn.metrics import accuracy_score, precision_recall_fscore_support\n",
        "\n",
        "def calculate_results (y_true, pred_probs):\n",
        "  \n",
        "  y_pred = get_labels_from_probs(pred_probs)\n",
        "  \n",
        "  accuracy = accuracy_score(y_true, y_pred)\n",
        "\n",
        "  precision, recall, f1, _ = precision_recall_fscore_support(y_true, y_pred, average=\"weighted\")\n",
        "  \n",
        "  results = {\"accuracy\": accuracy,\n",
        "              \"precision\": precision,\n",
        "              \"recall\": recall,\n",
        "              \"f1-score\": f1}\n",
        "\n",
        "  return results\n",
        "\n",
        "# Primjer korištenja funkcije\n",
        "model_1_results = calculate_results(true_labels, model_1_pred_probs)\n",
        "model_1_results"
      ],
      "metadata": {
        "colab": {
          "base_uri": "https://localhost:8080/"
        },
        "id": "iM9CyTVnsXA2",
        "outputId": "a26db7a1-eabe-405e-a3de-d32469020198"
      },
      "execution_count": null,
      "outputs": [
        {
          "output_type": "stream",
          "name": "stderr",
          "text": [
            "/usr/local/lib/python3.7/dist-packages/sklearn/metrics/_classification.py:1318: UndefinedMetricWarning: Precision and F-score are ill-defined and being set to 0.0 in labels with no predicted samples. Use `zero_division` parameter to control this behavior.\n",
            "  _warn_prf(average, modifier, msg_start, len(result))\n"
          ]
        },
        {
          "output_type": "execute_result",
          "data": {
            "text/plain": [
              "{'accuracy': 0.9327776529992596,\n",
              " 'f1-score': 0.9079110727937507,\n",
              " 'precision': 0.8907472253521749,\n",
              " 'recall': 0.9327776529992596}"
            ]
          },
          "metadata": {},
          "execution_count": 105
        }
      ]
    },
    {
      "cell_type": "markdown",
      "source": [
        "Sljedeća funkcija će kreirati detaljno tekstualno izvješće koje prikazuje metrike za svaku od oznaka."
      ],
      "metadata": {
        "id": "mhCoPoUh6z-5"
      }
    },
    {
      "cell_type": "markdown",
      "source": [
        "### Classification report"
      ],
      "metadata": {
        "id": "Fy-xChILi-N5"
      }
    },
    {
      "cell_type": "code",
      "source": [
        "from sklearn.metrics import classification_report\n",
        "\n",
        "def class_report (y_true, pred_probs, title):\n",
        "\n",
        "  y_pred = get_labels_from_probs(pred_probs)\n",
        "\n",
        "  print(f\"\\t\\t\\t-------------------\\n\\t\\t\\t{title}\\n\\t\\t\\t-------------------\\n\")\n",
        "  print(classification_report(y_true, y_pred, target_names=list(idx2label.values())))\n",
        "\n",
        "# Primjer korištenja funkcije\n",
        "class_report(true_labels, model_1_pred_probs, \"Rezultati modela 1\")"
      ],
      "metadata": {
        "colab": {
          "base_uri": "https://localhost:8080/"
        },
        "id": "6Jleoy9byMtw",
        "outputId": "4c3acae4-c70b-4b84-e1b9-85b1ee896cd3"
      },
      "execution_count": null,
      "outputs": [
        {
          "output_type": "stream",
          "name": "stdout",
          "text": [
            "\t\t\t-------------------\n",
            "\t\t\tRezultati modela 1\n",
            "\t\t\t-------------------\n",
            "\n",
            "              precision    recall  f1-score   support\n",
            "\n",
            "      B-MISC       0.00      0.00      0.00       890\n",
            "       I-LOC       0.00      0.00      0.00       254\n",
            "       B-ORG       0.32      0.21      0.25      1306\n",
            "       B-LOC       0.00      0.00      0.00      1802\n",
            "       I-ORG       0.50      0.00      0.01       724\n",
            "       I-PER       0.30      0.09      0.14      1217\n",
            "       B-PER       0.29      0.07      0.12      1721\n",
            "      I-MISC       0.00      0.00      0.00       329\n",
            "           O       0.94      1.00      0.97    111970\n",
            "\n",
            "    accuracy                           0.93    120213\n",
            "   macro avg       0.26      0.15      0.16    120213\n",
            "weighted avg       0.89      0.93      0.91    120213\n",
            "\n"
          ]
        },
        {
          "output_type": "stream",
          "name": "stderr",
          "text": [
            "/usr/local/lib/python3.7/dist-packages/sklearn/metrics/_classification.py:1318: UndefinedMetricWarning: Precision and F-score are ill-defined and being set to 0.0 in labels with no predicted samples. Use `zero_division` parameter to control this behavior.\n",
            "  _warn_prf(average, modifier, msg_start, len(result))\n",
            "/usr/local/lib/python3.7/dist-packages/sklearn/metrics/_classification.py:1318: UndefinedMetricWarning: Precision and F-score are ill-defined and being set to 0.0 in labels with no predicted samples. Use `zero_division` parameter to control this behavior.\n",
            "  _warn_prf(average, modifier, msg_start, len(result))\n",
            "/usr/local/lib/python3.7/dist-packages/sklearn/metrics/_classification.py:1318: UndefinedMetricWarning: Precision and F-score are ill-defined and being set to 0.0 in labels with no predicted samples. Use `zero_division` parameter to control this behavior.\n",
            "  _warn_prf(average, modifier, msg_start, len(result))\n"
          ]
        }
      ]
    },
    {
      "cell_type": "markdown",
      "source": [
        "# Nastavak eksperimenata sa modelima"
      ],
      "metadata": {
        "id": "FpzUubcFB6GB"
      }
    },
    {
      "cell_type": "markdown",
      "source": [
        "## Model 2 (LSTM treniran na tenzorima)\n",
        "\n",
        "Koristimo istu arhitekturu kao i u prijašnjem modelu, jedina razlika je da ćemo ovaj put trenirati na tipu podatka `tf.Tensor` umjesto `np.array`."
      ],
      "metadata": {
        "id": "ReTdD-uRtvkC"
      }
    },
    {
      "cell_type": "code",
      "source": [
        "inputs = tf.keras.Input(shape=(37,))\n",
        "x = layers.Embedding(input_dim=num_words, output_dim=50, input_length=37)(inputs)\n",
        "x = layers.LSTM(100, return_sequences=True)(x)\n",
        "outputs = layers.Dense(num_labels, activation=\"softmax\")(x)\n",
        "\n",
        "model_2 = tf.keras.Model(inputs, outputs)"
      ],
      "metadata": {
        "id": "UfHFXYaYtwkO"
      },
      "execution_count": null,
      "outputs": []
    },
    {
      "cell_type": "code",
      "source": [
        "model_2.compile(optimizer=tf.keras.optimizers.Adam(),\n",
        "              loss=\"sparse_categorical_crossentropy\",\n",
        "              metrics=[\"accuracy\"])\n",
        "\n",
        "history_2 = model_2.fit(\n",
        "    x=data_50_percent_tensor,\n",
        "    y=labels_50_percent_tensor,\n",
        "    validation_data=(val_sentences_arrays_squeezed_tensors, # skup za validaciju moraju također biti tenzori\n",
        "                     val_label_tensors), \n",
        "    epochs=5)"
      ],
      "metadata": {
        "id": "yZksxM4-t0IS",
        "colab": {
          "base_uri": "https://localhost:8080/"
        },
        "outputId": "fa6d5d3d-fcfe-4762-c9ff-c8d11b53c0b8"
      },
      "execution_count": null,
      "outputs": [
        {
          "output_type": "stream",
          "name": "stdout",
          "text": [
            "Epoch 1/5\n",
            "220/220 [==============================] - 10s 38ms/step - loss: 0.4550 - accuracy: 0.9317 - val_loss: 0.3199 - val_accuracy: 0.9314\n",
            "Epoch 2/5\n",
            "220/220 [==============================] - 8s 35ms/step - loss: 0.2555 - accuracy: 0.9363 - val_loss: 0.2838 - val_accuracy: 0.9316\n",
            "Epoch 3/5\n",
            "220/220 [==============================] - 8s 35ms/step - loss: 0.2261 - accuracy: 0.9369 - val_loss: 0.2724 - val_accuracy: 0.9317\n",
            "Epoch 4/5\n",
            "220/220 [==============================] - 8s 35ms/step - loss: 0.2099 - accuracy: 0.9391 - val_loss: 0.2690 - val_accuracy: 0.9333\n",
            "Epoch 5/5\n",
            "220/220 [==============================] - 8s 35ms/step - loss: 0.1966 - accuracy: 0.9435 - val_loss: 0.2695 - val_accuracy: 0.9341\n"
          ]
        }
      ]
    },
    {
      "cell_type": "code",
      "source": [
        "plot_results(history_2)"
      ],
      "metadata": {
        "id": "rI-YtgTGzJVl",
        "colab": {
          "base_uri": "https://localhost:8080/",
          "height": 573
        },
        "outputId": "53fc76f3-05d3-406a-a57e-d7f0eed6e5c2"
      },
      "execution_count": null,
      "outputs": [
        {
          "output_type": "display_data",
          "data": {
            "text/plain": [
              "<Figure size 432x288 with 1 Axes>"
            ],
            "image/png": "[encoded data removed]"
          },
          "metadata": {
            "needs_background": "light"
          }
        },
        {
          "output_type": "display_data",
          "data": {
            "text/plain": [
              "<Figure size 432x288 with 1 Axes>"
            ],
            "image/png": "[encoded data removed]"
          },
          "metadata": {
            "needs_background": "light"
          }
        }
      ]
    },
    {
      "cell_type": "markdown",
      "source": [
        "Nema neke veće razlike između treniranja na NumPy arrayevima i na tenzorima. Zbog toga ćemo modele koji slijede trenirati samo na NumPy arrayevima."
      ],
      "metadata": {
        "id": "ZsdXCYSe_PVJ"
      }
    },
    {
      "cell_type": "code",
      "source": [
        "model_2_pred_probs = model_2.predict(val_sentences_arrays_squeezed)\n",
        "model_2_results = calculate_results(true_labels, model_2_pred_probs)\n",
        "model_2_results"
      ],
      "metadata": {
        "colab": {
          "base_uri": "https://localhost:8080/"
        },
        "id": "aRhQOZMAFSaV",
        "outputId": "211150e5-091c-4a91-e8e4-a341a9f38e13"
      },
      "execution_count": null,
      "outputs": [
        {
          "output_type": "stream",
          "name": "stderr",
          "text": [
            "/usr/local/lib/python3.7/dist-packages/sklearn/metrics/_classification.py:1318: UndefinedMetricWarning: Precision and F-score are ill-defined and being set to 0.0 in labels with no predicted samples. Use `zero_division` parameter to control this behavior.\n",
            "  _warn_prf(average, modifier, msg_start, len(result))\n"
          ]
        },
        {
          "output_type": "execute_result",
          "data": {
            "text/plain": [
              "{'accuracy': 0.9341003052914411,\n",
              " 'f1-score': 0.9102657208251921,\n",
              " 'precision': 0.8978361100386051,\n",
              " 'recall': 0.9341003052914411}"
            ]
          },
          "metadata": {},
          "execution_count": 110
        }
      ]
    },
    {
      "cell_type": "markdown",
      "source": [
        "## Model 3 (smanjenje broja neurona, Dropout sloj)\n",
        "\n",
        "U ovom modelu je cilj bio smanjiti overfitting na način da dodamo `Dropout` sloj koji nasumično \"isključuje\" određeni broj neurona u neuronskoj mreži te na taj način nastoji smanjiti pretreniranost mreže.\n",
        "\n",
        "Također, smanjen je broj neurona u LSTM sloju sa 100 na 64 čime se smanjuje kompleksnost neuronske mreže."
      ],
      "metadata": {
        "id": "7SeU7SO5xH-O"
      }
    },
    {
      "cell_type": "code",
      "source": [
        "inputs = tf.keras.Input(shape=(37,))\n",
        "x = layers.Embedding(input_dim=num_words,\n",
        "                     output_dim=50,\n",
        "                     input_length=37)(inputs)\n",
        "x = layers.Dropout(0.3)(x) # dodan Dropout sloj\n",
        "x = layers.LSTM(64, # 64 neurona umjesto 100\n",
        "                return_sequences=True)(x)\n",
        "outputs = layers.Dense(num_labels,\n",
        "                       activation=\"softmax\")(x)\n",
        "\n",
        "model_3 = tf.keras.Model(inputs, outputs)\n",
        "\n",
        "model_3.summary()"
      ],
      "metadata": {
        "id": "tov5htJfxJFl",
        "colab": {
          "base_uri": "https://localhost:8080/"
        },
        "outputId": "5370499a-ac14-42bc-ac4c-447c71645310"
      },
      "execution_count": null,
      "outputs": [
        {
          "output_type": "stream",
          "name": "stdout",
          "text": [
            "Model: \"model_8\"\n",
            "_________________________________________________________________\n",
            " Layer (type)                Output Shape              Param #   \n",
            "=================================================================\n",
            " input_10 (InputLayer)       [(None, 37)]              0         \n",
            "                                                                 \n",
            " embedding_9 (Embedding)     (None, 37, 50)            1181150   \n",
            "                                                                 \n",
            " dropout_1 (Dropout)         (None, 37, 50)            0         \n",
            "                                                                 \n",
            " lstm_6 (LSTM)               (None, 37, 64)            29440     \n",
            "                                                                 \n",
            " dense_8 (Dense)             (None, 37, 9)             585       \n",
            "                                                                 \n",
            "=================================================================\n",
            "Total params: 1,211,175\n",
            "Trainable params: 1,211,175\n",
            "Non-trainable params: 0\n",
            "_________________________________________________________________\n"
          ]
        }
      ]
    },
    {
      "cell_type": "code",
      "source": [
        "model_3.compile(optimizer=tf.keras.optimizers.Adam(),\n",
        "                loss=\"sparse_categorical_crossentropy\",\n",
        "                metrics=[\"accuracy\"])\n",
        "\n",
        "history_3 = model_3.fit(\n",
        "    x=data_50_percent_array,\n",
        "    y=labels_50_percent_array,\n",
        "    validation_data=(val_sentences_arrays_squeezed,\n",
        "                     val_labels_padded), \n",
        "    epochs=5)"
      ],
      "metadata": {
        "colab": {
          "base_uri": "https://localhost:8080/"
        },
        "id": "oq_0VVHJt914",
        "outputId": "4834c728-343e-4d64-8209-3e87ced9281b"
      },
      "execution_count": null,
      "outputs": [
        {
          "output_type": "stream",
          "name": "stdout",
          "text": [
            "Epoch 1/5\n",
            "220/220 [==============================] - 8s 30ms/step - loss: 0.5063 - accuracy: 0.9299 - val_loss: 0.3398 - val_accuracy: 0.9314\n",
            "Epoch 2/5\n",
            "220/220 [==============================] - 6s 28ms/step - loss: 0.2737 - accuracy: 0.9365 - val_loss: 0.2843 - val_accuracy: 0.9315\n",
            "Epoch 3/5\n",
            "220/220 [==============================] - 6s 28ms/step - loss: 0.2410 - accuracy: 0.9368 - val_loss: 0.2744 - val_accuracy: 0.9318\n",
            "Epoch 4/5\n",
            "220/220 [==============================] - 6s 28ms/step - loss: 0.2252 - accuracy: 0.9374 - val_loss: 0.2692 - val_accuracy: 0.9324\n",
            "Epoch 5/5\n",
            "220/220 [==============================] - 6s 28ms/step - loss: 0.2142 - accuracy: 0.9387 - val_loss: 0.2653 - val_accuracy: 0.9332\n"
          ]
        }
      ]
    },
    {
      "cell_type": "code",
      "source": [
        "plot_results(history_3)"
      ],
      "metadata": {
        "colab": {
          "base_uri": "https://localhost:8080/",
          "height": 573
        },
        "id": "b3uLBf0gBJU6",
        "outputId": "23d62292-7665-4ea5-9464-5392105e84f6"
      },
      "execution_count": null,
      "outputs": [
        {
          "output_type": "display_data",
          "data": {
            "text/plain": [
              "<Figure size 432x288 with 1 Axes>"
            ],
            "image/png": "[encoded data removed]"
          },
          "metadata": {
            "needs_background": "light"
          }
        },
        {
          "output_type": "display_data",
          "data": {
            "text/plain": [
              "<Figure size 432x288 with 1 Axes>"
            ],
            "image/png": "[encoded data removed]"
          },
          "metadata": {
            "needs_background": "light"
          }
        }
      ]
    },
    {
      "cell_type": "markdown",
      "source": [
        "Dodavanje dropout sloja i smanjenje broja neurona u LSTM sloju nije uspjelo smanjiti problem overfittinga."
      ],
      "metadata": {
        "id": "pGUoREqkCTl4"
      }
    },
    {
      "cell_type": "code",
      "source": [
        "model_3_pred_probs = model_3.predict(val_sentences_arrays_squeezed)\n",
        "model_3_results = calculate_results(true_labels, model_3_pred_probs)\n",
        "model_3_results"
      ],
      "metadata": {
        "colab": {
          "base_uri": "https://localhost:8080/"
        },
        "id": "13eSugq5FhS3",
        "outputId": "5e7b0696-458d-4138-fe51-b237f4e3c501"
      },
      "execution_count": null,
      "outputs": [
        {
          "output_type": "execute_result",
          "data": {
            "text/plain": [
              "{'accuracy': 0.933185262825152,\n",
              " 'f1-score': 0.9061251692588117,\n",
              " 'precision': 0.9086612020631244,\n",
              " 'recall': 0.933185262825152}"
            ]
          },
          "metadata": {},
          "execution_count": 114
        }
      ]
    },
    {
      "cell_type": "markdown",
      "source": [
        "## Model 4 (GRU sloj)\n",
        "\n",
        "U ovom modelu je korištena druga vrsta sloja - `GRU` sloj. GRU je kratica za Gated Recurrent Unit te se ovaj sloj također koristi kod izgradnje arhitektura ponavljajućih neuronskih mreža.\n",
        "\n",
        "GRU sloj funkcionira na sličan način kao i LSTM sloj, samo što ima manje parametara, što možemo vidjeti i u sažetku modela ispod."
      ],
      "metadata": {
        "id": "EDWxJUDiCZnv"
      }
    },
    {
      "cell_type": "code",
      "source": [
        "inputs = tf.keras.Input(shape=(37,))\n",
        "x = layers.Embedding(input_dim=num_words, output_dim=50, input_length=37)(inputs)\n",
        "x = layers.GRU(100, return_sequences=True)(x) # dodan GRU sloj\n",
        "outputs = layers.Dense(num_labels, activation=\"softmax\")(x)\n",
        "\n",
        "model_4 = tf.keras.Model(inputs, outputs)\n",
        "\n",
        "model_4.summary()"
      ],
      "metadata": {
        "colab": {
          "base_uri": "https://localhost:8080/"
        },
        "id": "Ndi8_6QNCZLZ",
        "outputId": "27a5dc1b-6c45-458e-8120-c385d9b1aba8"
      },
      "execution_count": null,
      "outputs": [
        {
          "output_type": "stream",
          "name": "stdout",
          "text": [
            "Model: \"model_9\"\n",
            "_________________________________________________________________\n",
            " Layer (type)                Output Shape              Param #   \n",
            "=================================================================\n",
            " input_11 (InputLayer)       [(None, 37)]              0         \n",
            "                                                                 \n",
            " embedding_10 (Embedding)    (None, 37, 50)            1181150   \n",
            "                                                                 \n",
            " gru_2 (GRU)                 (None, 37, 100)           45600     \n",
            "                                                                 \n",
            " dense_9 (Dense)             (None, 37, 9)             909       \n",
            "                                                                 \n",
            "=================================================================\n",
            "Total params: 1,227,659\n",
            "Trainable params: 1,227,659\n",
            "Non-trainable params: 0\n",
            "_________________________________________________________________\n"
          ]
        }
      ]
    },
    {
      "cell_type": "markdown",
      "source": [
        "Vidimo da GRU sloj ima samo oko 45.000 parametara, za razliku od LSTM slojeva koji su imali oko 60.000 parametara."
      ],
      "metadata": {
        "id": "AEbY7HikrlXt"
      }
    },
    {
      "cell_type": "code",
      "source": [
        "model_4.compile(optimizer=tf.keras.optimizers.Adam(),\n",
        "                loss=\"sparse_categorical_crossentropy\",\n",
        "                metrics=[\"accuracy\"])\n",
        "\n",
        "history_4 = model_4.fit(\n",
        "    x=data_50_percent_array,\n",
        "    y=labels_50_percent_array,\n",
        "    validation_data=(val_sentences_arrays_squeezed,\n",
        "                     val_labels_padded), \n",
        "    epochs=5)\n",
        "\n",
        "plot_results(history_4)"
      ],
      "metadata": {
        "colab": {
          "base_uri": "https://localhost:8080/",
          "height": 767
        },
        "id": "8S_8Ac2-rTug",
        "outputId": "0f60a1d3-b07d-44eb-bfa5-0483bb5b0392"
      },
      "execution_count": null,
      "outputs": [
        {
          "output_type": "stream",
          "name": "stdout",
          "text": [
            "Epoch 1/5\n",
            "220/220 [==============================] - 9s 34ms/step - loss: 0.4337 - accuracy: 0.9318 - val_loss: 0.2899 - val_accuracy: 0.9316\n",
            "Epoch 2/5\n",
            "220/220 [==============================] - 7s 32ms/step - loss: 0.2463 - accuracy: 0.9368 - val_loss: 0.2743 - val_accuracy: 0.9326\n",
            "Epoch 3/5\n",
            "220/220 [==============================] - 7s 32ms/step - loss: 0.2197 - accuracy: 0.9388 - val_loss: 0.2589 - val_accuracy: 0.9338\n",
            "Epoch 4/5\n",
            "220/220 [==============================] - 7s 32ms/step - loss: 0.1877 - accuracy: 0.9455 - val_loss: 0.2389 - val_accuracy: 0.9372\n",
            "Epoch 5/5\n",
            "220/220 [==============================] - 7s 32ms/step - loss: 0.1495 - accuracy: 0.9552 - val_loss: 0.2278 - val_accuracy: 0.9396\n"
          ]
        },
        {
          "output_type": "display_data",
          "data": {
            "text/plain": [
              "<Figure size 432x288 with 1 Axes>"
            ],
            "image/png": "[encoded data removed]"
          },
          "metadata": {
            "needs_background": "light"
          }
        },
        {
          "output_type": "display_data",
          "data": {
            "text/plain": [
              "<Figure size 432x288 with 1 Axes>"
            ],
            "image/png": "[encoded data removed]"
          },
          "metadata": {
            "needs_background": "light"
          }
        }
      ]
    },
    {
      "cell_type": "markdown",
      "source": [
        "Ovaj model ima višu točnost na skupu za validaciju od prvog, do sada najboljeg, modela. No i dalje vidimo izražen problem overfittinga."
      ],
      "metadata": {
        "id": "6qLBaF_qII3l"
      }
    },
    {
      "cell_type": "code",
      "source": [
        "model_4_pred_probs = model_4.predict(val_sentences_arrays_squeezed)\n",
        "model_4_results = calculate_results(true_labels, model_4_pred_probs)\n",
        "model_4_results"
      ],
      "metadata": {
        "colab": {
          "base_uri": "https://localhost:8080/"
        },
        "id": "gQYAzkQXFlc1",
        "outputId": "53c92311-6652-4e83-8afa-08ea3ff0e188"
      },
      "execution_count": null,
      "outputs": [
        {
          "output_type": "execute_result",
          "data": {
            "text/plain": [
              "{'accuracy': 0.9396238343606764,\n",
              " 'f1-score': 0.9275593174407938,\n",
              " 'precision': 0.9230979944985758,\n",
              " 'recall': 0.9396238343606764}"
            ]
          },
          "metadata": {},
          "execution_count": 117
        }
      ]
    },
    {
      "cell_type": "code",
      "source": [
        "class_report(true_labels, model_4_pred_probs, \"Rezultati modela 4\")"
      ],
      "metadata": {
        "colab": {
          "base_uri": "https://localhost:8080/"
        },
        "id": "MB-46mhFGjwt",
        "outputId": "ebc29824-8c84-4906-8365-b4391793b8a5"
      },
      "execution_count": null,
      "outputs": [
        {
          "output_type": "stream",
          "name": "stdout",
          "text": [
            "\t\t\t-------------------\n",
            "\t\t\tRezultati modela 4\n",
            "\t\t\t-------------------\n",
            "\n",
            "              precision    recall  f1-score   support\n",
            "\n",
            "      B-MISC       0.52      0.26      0.35       890\n",
            "       I-LOC       0.25      0.00      0.01       254\n",
            "       B-ORG       0.60      0.35      0.44      1306\n",
            "       B-LOC       0.57      0.29      0.38      1802\n",
            "       I-ORG       0.42      0.24      0.30       724\n",
            "       I-PER       0.45      0.25      0.32      1217\n",
            "       B-PER       0.54      0.21      0.30      1721\n",
            "      I-MISC       0.29      0.01      0.01       329\n",
            "           O       0.95      0.99      0.97    111970\n",
            "\n",
            "    accuracy                           0.94    120213\n",
            "   macro avg       0.51      0.29      0.34    120213\n",
            "weighted avg       0.92      0.94      0.93    120213\n",
            "\n"
          ]
        }
      ]
    },
    {
      "cell_type": "markdown",
      "source": [
        "## Model 5 (GRU + AdamW optimizacijska funkcija)\n",
        "\n",
        "U ovom modelu cilj je ponovno bio pokušati što više smanjiti overfitting.\n",
        "\n",
        "Promjene su sljedeće:\n",
        "\n",
        "* na GRU sloju dodani parametri `dropout=0.4` i `kernel_regularizer=l2(0.001)`\n",
        "* promjena optimizacijske funkcije u `AdamW` (https://www.tensorflow.org/addons/api_docs/python/tfa/optimizers/AdamW)\n",
        "\n",
        "`AdamW` je optimizacijska funkcija slična funkciji `Adam`, uz primjenu regularizacijske tehnike *weight decay* koja nastoji smanjiti overfitting. "
      ],
      "metadata": {
        "id": "uvcWm6QMIdGj"
      }
    },
    {
      "cell_type": "code",
      "source": [
        "!pip install tensorflow_addons # potrebno za AdamW optimizer"
      ],
      "metadata": {
        "id": "x2QH7SlpNu6E",
        "colab": {
          "base_uri": "https://localhost:8080/"
        },
        "outputId": "bab8e446-86f9-4ce7-a9d1-993203bde618"
      },
      "execution_count": null,
      "outputs": [
        {
          "output_type": "stream",
          "name": "stdout",
          "text": [
            "Looking in indexes: https://pypi.org/simple, https://us-python.pkg.dev/colab-wheels/public/simple/\n",
            "Requirement already satisfied: tensorflow_addons in /usr/local/lib/python3.7/dist-packages (0.17.0)\n",
            "Requirement already satisfied: typeguard>=2.7 in /usr/local/lib/python3.7/dist-packages (from tensorflow_addons) (2.7.1)\n",
            "Requirement already satisfied: packaging in /usr/local/lib/python3.7/dist-packages (from tensorflow_addons) (21.3)\n",
            "Requirement already satisfied: pyparsing!=3.0.5,>=2.0.2 in /usr/local/lib/python3.7/dist-packages (from packaging->tensorflow_addons) (3.0.9)\n"
          ]
        }
      ]
    },
    {
      "cell_type": "code",
      "source": [
        "import tensorflow_addons as tfa\n",
        "from keras.regularizers import l2\n",
        "\n",
        "# ovaj dio koda je preuzet sa https://www.tensorflow.org/addons/api_docs/python/tfa/optimizers/AdamW\n",
        "step = tf.Variable(0, trainable=False)\n",
        "schedule = tf.optimizers.schedules.PiecewiseConstantDecay([5000, 10000, 15000], [1e-1, 1e-2, 1e-3, 1e-4])\n",
        "wd = lambda: 1e-4 * schedule(step)\n",
        "\n",
        "inputs = tf.keras.Input(shape=(37,))\n",
        "x = layers.Embedding(input_dim=num_words, output_dim=64, input_length=37)(inputs)\n",
        "x = layers.GRU(100, return_sequences=True, dropout=0.4, kernel_regularizer=l2(0.001))(x) # dodani parametari 'dropout' i 'kernel_regularizer'\n",
        "outputs = layers.Dense(num_labels, activation=\"softmax\")(x)\n",
        "\n",
        "model_5 = tf.keras.Model(inputs, outputs)\n",
        "\n",
        "model_5.compile(optimizer=tfa.optimizers.AdamW(weight_decay=wd), # promjena optimizacijske funkcije\n",
        "                loss=\"sparse_categorical_crossentropy\",\n",
        "                metrics=[\"accuracy\"])\n",
        "\n",
        "history_5 = model_5.fit(\n",
        "    x=data_50_percent_array,\n",
        "    y=labels_50_percent_array,\n",
        "    validation_data=(val_sentences_arrays_squeezed,\n",
        "                     val_labels_padded), \n",
        "    epochs=5)\n",
        "\n",
        "plot_results(history_5)"
      ],
      "metadata": {
        "colab": {
          "base_uri": "https://localhost:8080/",
          "height": 767
        },
        "id": "HZGhyBcgDDZ4",
        "outputId": "4bb59a23-6d3e-4ee6-d454-9adef6cfef5b"
      },
      "execution_count": null,
      "outputs": [
        {
          "output_type": "stream",
          "name": "stdout",
          "text": [
            "Epoch 1/5\n",
            "220/220 [==============================] - 16s 63ms/step - loss: 0.4779 - accuracy: 0.9312 - val_loss: 0.3167 - val_accuracy: 0.9315\n",
            "Epoch 2/5\n",
            "220/220 [==============================] - 14s 66ms/step - loss: 0.2706 - accuracy: 0.9365 - val_loss: 0.2913 - val_accuracy: 0.9317\n",
            "Epoch 3/5\n",
            "220/220 [==============================] - 8s 37ms/step - loss: 0.2471 - accuracy: 0.9366 - val_loss: 0.2803 - val_accuracy: 0.9315\n",
            "Epoch 4/5\n",
            "220/220 [==============================] - 8s 38ms/step - loss: 0.2330 - accuracy: 0.9370 - val_loss: 0.2761 - val_accuracy: 0.9321\n",
            "Epoch 5/5\n",
            "220/220 [==============================] - 8s 35ms/step - loss: 0.2197 - accuracy: 0.9398 - val_loss: 0.2662 - val_accuracy: 0.9340\n"
          ]
        },
        {
          "output_type": "display_data",
          "data": {
            "text/plain": [
              "<Figure size 432x288 with 1 Axes>"
            ],
            "image/png": "[encoded data removed]"
          },
          "metadata": {
            "needs_background": "light"
          }
        },
        {
          "output_type": "display_data",
          "data": {
            "text/plain": [
              "<Figure size 432x288 with 1 Axes>"
            ],
            "image/png": "[encoded data removed]"
          },
          "metadata": {
            "needs_background": "light"
          }
        }
      ]
    },
    {
      "cell_type": "code",
      "source": [
        "model_5_pred_probs = model_5.predict(val_sentences_arrays_squeezed)\n",
        "model_5_results = calculate_results(true_labels, model_5_pred_probs)\n",
        "model_5_results"
      ],
      "metadata": {
        "colab": {
          "base_uri": "https://localhost:8080/"
        },
        "id": "uCD4EY8fG3qv",
        "outputId": "42bb66a1-f435-4ed0-e7ce-457d358814b5"
      },
      "execution_count": null,
      "outputs": [
        {
          "output_type": "stream",
          "name": "stderr",
          "text": [
            "/usr/local/lib/python3.7/dist-packages/sklearn/metrics/_classification.py:1318: UndefinedMetricWarning: Precision and F-score are ill-defined and being set to 0.0 in labels with no predicted samples. Use `zero_division` parameter to control this behavior.\n",
            "  _warn_prf(average, modifier, msg_start, len(result))\n"
          ]
        },
        {
          "output_type": "execute_result",
          "data": {
            "text/plain": [
              "{'accuracy': 0.9340254381805628,\n",
              " 'f1-score': 0.9085352042987328,\n",
              " 'precision': 0.9009032822610726,\n",
              " 'recall': 0.9340254381805628}"
            ]
          },
          "metadata": {},
          "execution_count": 121
        }
      ]
    },
    {
      "cell_type": "code",
      "source": [
        "class_report(true_labels, model_5_pred_probs, \"Rezultati modela 5\")"
      ],
      "metadata": {
        "colab": {
          "base_uri": "https://localhost:8080/"
        },
        "id": "sk9jaDtLG57h",
        "outputId": "1dd15761-6dda-4e16-849f-e589bf349716"
      },
      "execution_count": null,
      "outputs": [
        {
          "output_type": "stream",
          "name": "stdout",
          "text": [
            "\t\t\t-------------------\n",
            "\t\t\tRezultati modela 5\n",
            "\t\t\t-------------------\n",
            "\n",
            "              precision    recall  f1-score   support\n",
            "\n",
            "      B-MISC       0.12      0.01      0.01       890\n",
            "       I-LOC       0.00      0.00      0.00       254\n",
            "       B-ORG       0.44      0.19      0.26      1306\n",
            "       B-LOC       0.63      0.02      0.04      1802\n",
            "       I-ORG       0.08      0.01      0.02       724\n",
            "       I-PER       0.36      0.10      0.15      1217\n",
            "       B-PER       0.42      0.06      0.10      1721\n",
            "      I-MISC       0.00      0.00      0.00       329\n",
            "           O       0.94      1.00      0.97    111970\n",
            "\n",
            "    accuracy                           0.93    120213\n",
            "   macro avg       0.33      0.15      0.17    120213\n",
            "weighted avg       0.90      0.93      0.91    120213\n",
            "\n"
          ]
        },
        {
          "output_type": "stream",
          "name": "stderr",
          "text": [
            "/usr/local/lib/python3.7/dist-packages/sklearn/metrics/_classification.py:1318: UndefinedMetricWarning: Precision and F-score are ill-defined and being set to 0.0 in labels with no predicted samples. Use `zero_division` parameter to control this behavior.\n",
            "  _warn_prf(average, modifier, msg_start, len(result))\n",
            "/usr/local/lib/python3.7/dist-packages/sklearn/metrics/_classification.py:1318: UndefinedMetricWarning: Precision and F-score are ill-defined and being set to 0.0 in labels with no predicted samples. Use `zero_division` parameter to control this behavior.\n",
            "  _warn_prf(average, modifier, msg_start, len(result))\n",
            "/usr/local/lib/python3.7/dist-packages/sklearn/metrics/_classification.py:1318: UndefinedMetricWarning: Precision and F-score are ill-defined and being set to 0.0 in labels with no predicted samples. Use `zero_division` parameter to control this behavior.\n",
            "  _warn_prf(average, modifier, msg_start, len(result))\n"
          ]
        }
      ]
    },
    {
      "cell_type": "markdown",
      "source": [
        "## Model 6 (bidirectional LSTM + AdamW)\n",
        "\n",
        "U ovom modelu je kombinirana `AdamW` optimizacijska funkcija iz prošlog modela sa dvosmjernim LSTM slojem. Dvosmjerni (*Bidirectional*) sloj funkcionira kao omotač oko LSTM sloja i udvostručuje njegov broj parametara."
      ],
      "metadata": {
        "id": "_lv2YF9hg8Gh"
      }
    },
    {
      "cell_type": "code",
      "source": [
        "step = tf.Variable(0, trainable=False)\n",
        "schedule = tf.optimizers.schedules.PiecewiseConstantDecay([5000, 10000, 15000], [1e-1, 1e-2, 1e-3, 1e-4])\n",
        "wd = lambda: 1e-4 * schedule(step)\n",
        "\n",
        "inputs = tf.keras.Input(shape=(37,))\n",
        "x = layers.Embedding(input_dim=num_words, output_dim=64, input_length=37)(inputs)\n",
        "x = layers.Bidirectional(layers.LSTM(64, dropout=0.4, kernel_regularizer=l2(0.001), return_sequences=True))(x) # dodan bidirectional layer\n",
        "outputs = layers.Dense(num_labels, activation=\"softmax\")(x)\n",
        "\n",
        "model_6 = tf.keras.Model(inputs, outputs)\n",
        "\n",
        "model_6.summary()"
      ],
      "metadata": {
        "colab": {
          "base_uri": "https://localhost:8080/"
        },
        "id": "KlTUPPEPfLSt",
        "outputId": "2cb9d4d4-8655-45ae-b0b9-f8cb9ab0cdd1"
      },
      "execution_count": null,
      "outputs": [
        {
          "output_type": "stream",
          "name": "stdout",
          "text": [
            "Model: \"model_11\"\n",
            "_________________________________________________________________\n",
            " Layer (type)                Output Shape              Param #   \n",
            "=================================================================\n",
            " input_13 (InputLayer)       [(None, 37)]              0         \n",
            "                                                                 \n",
            " embedding_12 (Embedding)    (None, 37, 64)            1511872   \n",
            "                                                                 \n",
            " bidirectional_1 (Bidirectio  (None, 37, 128)          66048     \n",
            " nal)                                                            \n",
            "                                                                 \n",
            " dense_11 (Dense)            (None, 37, 9)             1161      \n",
            "                                                                 \n",
            "=================================================================\n",
            "Total params: 1,579,081\n",
            "Trainable params: 1,579,081\n",
            "Non-trainable params: 0\n",
            "_________________________________________________________________\n"
          ]
        }
      ]
    },
    {
      "cell_type": "markdown",
      "source": [
        "LSTM sloj sa 64 neurona uobičajeno ima oko 30.000 parametara, a sada vidimo da ima oko 66.000 parametara zbog Bidirectional sloja."
      ],
      "metadata": {
        "id": "Y9a5LXBltnN_"
      }
    },
    {
      "cell_type": "code",
      "source": [
        "model_6.compile(optimizer=tfa.optimizers.AdamW(weight_decay=wd),\n",
        "                loss=\"sparse_categorical_crossentropy\",\n",
        "                metrics=[\"accuracy\"])\n",
        "\n",
        "history_6 = model_6.fit(\n",
        "    x=data_50_percent_array,\n",
        "    y=labels_50_percent_array,\n",
        "    validation_data=(val_sentences_arrays_squeezed,\n",
        "                     val_labels_padded), \n",
        "    epochs=5)\n",
        "\n",
        "plot_results(history_6)"
      ],
      "metadata": {
        "colab": {
          "base_uri": "https://localhost:8080/",
          "height": 767
        },
        "id": "Rboxucgvtese",
        "outputId": "235e26ed-5954-442f-c610-7a6d95b54c82"
      },
      "execution_count": null,
      "outputs": [
        {
          "output_type": "stream",
          "name": "stdout",
          "text": [
            "Epoch 1/5\n",
            "220/220 [==============================] - 25s 98ms/step - loss: 0.4839 - accuracy: 0.9284 - val_loss: 0.3309 - val_accuracy: 0.9314\n",
            "Epoch 2/5\n",
            "220/220 [==============================] - 12s 54ms/step - loss: 0.2824 - accuracy: 0.9364 - val_loss: 0.3005 - val_accuracy: 0.9313\n",
            "Epoch 3/5\n",
            "220/220 [==============================] - 10s 45ms/step - loss: 0.2569 - accuracy: 0.9364 - val_loss: 0.2882 - val_accuracy: 0.9312\n",
            "Epoch 4/5\n",
            "220/220 [==============================] - 10s 45ms/step - loss: 0.2420 - accuracy: 0.9363 - val_loss: 0.2812 - val_accuracy: 0.9310\n",
            "Epoch 5/5\n",
            "220/220 [==============================] - 10s 44ms/step - loss: 0.2306 - accuracy: 0.9363 - val_loss: 0.2762 - val_accuracy: 0.9305\n"
          ]
        },
        {
          "output_type": "display_data",
          "data": {
            "text/plain": [
              "<Figure size 432x288 with 1 Axes>"
            ],
            "image/png": "[encoded data removed]"
          },
          "metadata": {
            "needs_background": "light"
          }
        },
        {
          "output_type": "display_data",
          "data": {
            "text/plain": [
              "<Figure size 432x288 with 1 Axes>"
            ],
            "image/png": "[encoded data removed]"
          },
          "metadata": {
            "needs_background": "light"
          }
        }
      ]
    },
    {
      "cell_type": "markdown",
      "source": [
        "Točnost na skupu za validaciju pada, što nije dobar znak."
      ],
      "metadata": {
        "id": "VQB1tLnn0pIB"
      }
    },
    {
      "cell_type": "code",
      "source": [
        "model_6_pred_probs = model_6.predict(val_sentences_arrays_squeezed)\n",
        "model_6_results = calculate_results(true_labels, model_6_pred_probs)\n",
        "model_6_results"
      ],
      "metadata": {
        "colab": {
          "base_uri": "https://localhost:8080/"
        },
        "id": "gQ8geDgoHBVV",
        "outputId": "68f494b4-fff5-4ee6-f514-ff85d104296c"
      },
      "execution_count": null,
      "outputs": [
        {
          "output_type": "stream",
          "name": "stderr",
          "text": [
            "/usr/local/lib/python3.7/dist-packages/sklearn/metrics/_classification.py:1318: UndefinedMetricWarning: Precision and F-score are ill-defined and being set to 0.0 in labels with no predicted samples. Use `zero_division` parameter to control this behavior.\n",
            "  _warn_prf(average, modifier, msg_start, len(result))\n"
          ]
        },
        {
          "output_type": "execute_result",
          "data": {
            "text/plain": [
              "{'accuracy': 0.9305482768086646,\n",
              " 'f1-score': 0.900035175071157,\n",
              " 'precision': 0.8805852682760232,\n",
              " 'recall': 0.9305482768086646}"
            ]
          },
          "metadata": {},
          "execution_count": 125
        }
      ]
    },
    {
      "cell_type": "markdown",
      "source": [
        "## Model 7 (GRU + AdamW + Dropout slojevi)\n",
        "\n",
        "Ovaj model je sličan modelu 5, uz par izmjena:\n",
        "\n",
        "* dodana su 2 Dropout sloja\n",
        "* promjena aktivacijske funkcije GRU sloja (iz defaultne `tanh` u `relu`)\n",
        "* dodavanje parametra `kernel_initializer=\"he_normal\"` u GRU sloj"
      ],
      "metadata": {
        "id": "yzMQ0qniYQEH"
      }
    },
    {
      "cell_type": "code",
      "source": [
        "import tensorflow_addons as tfa\n",
        "from keras.regularizers import l2\n",
        "\n",
        "step = tf.Variable(0, trainable=False)\n",
        "schedule = tf.optimizers.schedules.PiecewiseConstantDecay([5000, 10000, 15000], [1e-1, 1e-2, 1e-3, 1e-4])\n",
        "wd = lambda: 1e-4 * schedule(step)\n",
        "\n",
        "inputs = tf.keras.Input(shape=(37,))\n",
        "x = layers.Embedding(input_dim=num_words, output_dim=64, input_length=37)(inputs)\n",
        "x = layers.Dropout(0.2)(x) # dodan layer\n",
        "x = layers.GRU(units=100,\n",
        "               activation=\"relu\", # dodano\n",
        "               return_sequences=True,\n",
        "               dropout=0.4,\n",
        "               kernel_initializer=\"he_normal\", # dodano\n",
        "               kernel_regularizer=l2(0.001))(x)\n",
        "x = layers.Dropout(0.2)(x) # dodan layer\n",
        "outputs = layers.Dense(num_labels, activation=\"softmax\")(x)\n",
        "\n",
        "model_7 = tf.keras.Model(inputs, outputs)\n",
        "\n",
        "model_7.compile(optimizer=tfa.optimizers.AdamW(weight_decay=wd),\n",
        "                loss=\"sparse_categorical_crossentropy\",\n",
        "                metrics=[\"accuracy\"])\n",
        "\n",
        "history_7 = model_7.fit(\n",
        "    x=data_50_percent_array,\n",
        "    y=labels_50_percent_array,\n",
        "    validation_data=(val_sentences_arrays_squeezed,\n",
        "                     val_labels_padded), \n",
        "    epochs=5)\n",
        "\n",
        "plot_results(history_7)"
      ],
      "metadata": {
        "colab": {
          "base_uri": "https://localhost:8080/",
          "height": 767
        },
        "id": "d455NDI6YQ54",
        "outputId": "8fd8b15d-01b0-4de5-85b2-76523b5633bc"
      },
      "execution_count": null,
      "outputs": [
        {
          "output_type": "stream",
          "name": "stdout",
          "text": [
            "Epoch 1/5\n",
            "220/220 [==============================] - 10s 39ms/step - loss: 0.7586 - accuracy: 0.9290 - val_loss: 0.4302 - val_accuracy: 0.9314\n",
            "Epoch 2/5\n",
            "220/220 [==============================] - 8s 36ms/step - loss: 0.3345 - accuracy: 0.9364 - val_loss: 0.3168 - val_accuracy: 0.9314\n",
            "Epoch 3/5\n",
            "220/220 [==============================] - 8s 36ms/step - loss: 0.2663 - accuracy: 0.9364 - val_loss: 0.2844 - val_accuracy: 0.9315\n",
            "Epoch 4/5\n",
            "220/220 [==============================] - 8s 36ms/step - loss: 0.2387 - accuracy: 0.9372 - val_loss: 0.2707 - val_accuracy: 0.9332\n",
            "Epoch 5/5\n",
            "220/220 [==============================] - 8s 36ms/step - loss: 0.2216 - accuracy: 0.9406 - val_loss: 0.2578 - val_accuracy: 0.9364\n"
          ]
        },
        {
          "output_type": "display_data",
          "data": {
            "text/plain": [
              "<Figure size 432x288 with 1 Axes>"
            ],
            "image/png": "[encoded data removed]"
          },
          "metadata": {
            "needs_background": "light"
          }
        },
        {
          "output_type": "display_data",
          "data": {
            "text/plain": [
              "<Figure size 432x288 with 1 Axes>"
            ],
            "image/png": "[encoded data removed]"
          },
          "metadata": {
            "needs_background": "light"
          }
        }
      ]
    },
    {
      "cell_type": "markdown",
      "source": [
        "Sa ovim modelom smo uspjeli djelomično smanjiti overfitting."
      ],
      "metadata": {
        "id": "VElkz29104mA"
      }
    },
    {
      "cell_type": "code",
      "source": [
        "model_7_pred_probs = model_7.predict(val_sentences_arrays_squeezed)\n",
        "model_7_results = calculate_results(true_labels, model_7_pred_probs)\n",
        "model_7_results"
      ],
      "metadata": {
        "colab": {
          "base_uri": "https://localhost:8080/"
        },
        "id": "Gf8yrF9KH5WU",
        "outputId": "d8fe3256-85db-4389-9f10-2786075a22c2"
      },
      "execution_count": null,
      "outputs": [
        {
          "output_type": "stream",
          "name": "stderr",
          "text": [
            "/usr/local/lib/python3.7/dist-packages/sklearn/metrics/_classification.py:1318: UndefinedMetricWarning: Precision and F-score are ill-defined and being set to 0.0 in labels with no predicted samples. Use `zero_division` parameter to control this behavior.\n",
            "  _warn_prf(average, modifier, msg_start, len(result))\n"
          ]
        },
        {
          "output_type": "execute_result",
          "data": {
            "text/plain": [
              "{'accuracy': 0.9363795928892882,\n",
              " 'f1-score': 0.912136276441244,\n",
              " 'precision': 0.9029479109381799,\n",
              " 'recall': 0.9363795928892882}"
            ]
          },
          "metadata": {},
          "execution_count": 127
        }
      ]
    },
    {
      "cell_type": "markdown",
      "source": [
        "## Model 8 (bidirectional GRU + AdamW)\n",
        "\n",
        "Ovaj model ima sličnu arhitekturu kao i prethodni model.\n",
        "\n",
        "Promjene:\n",
        "\n",
        "* GRU sloj zamijenjen sa Bidirectional GRU slojem\n",
        "* dodan još jedan Dense sloj sa 64 neurona"
      ],
      "metadata": {
        "id": "X85FMBpwjGxZ"
      }
    },
    {
      "cell_type": "code",
      "source": [
        "step = tf.Variable(0, trainable=False)\n",
        "schedule = tf.optimizers.schedules.PiecewiseConstantDecay([5000, 10000, 15000], [1e-1, 1e-2, 1e-3, 1e-4])\n",
        "wd = lambda: 1e-4 * schedule(step)\n",
        "\n",
        "inputs = tf.keras.Input(shape=(37,))\n",
        "x = layers.Embedding(input_dim=num_words, output_dim=64, input_length=37)(inputs)\n",
        "x = layers.Dropout(0.2)(x)\n",
        "x = layers.Bidirectional(layers.GRU(units=100,\n",
        "                          activation=\"relu\",\n",
        "                          return_sequences=True,\n",
        "                          dropout=0.4,\n",
        "                          kernel_initializer=\"he_normal\",\n",
        "                          kernel_regularizer=l2(0.001)))(x) # dodan Bidirectional\n",
        "x = layers.Dropout(0.2)(x)\n",
        "x = layers.Dense(64)(x) # dodan layer\n",
        "outputs = layers.Dense(num_labels, activation=\"softmax\")(x)\n",
        "\n",
        "model_8 = tf.keras.Model(inputs, outputs)\n",
        "\n",
        "model_8.compile(optimizer=tfa.optimizers.AdamW(weight_decay=wd),\n",
        "                loss=\"sparse_categorical_crossentropy\",\n",
        "                metrics=[\"accuracy\"])\n",
        "\n",
        "history_8 = model_8.fit(\n",
        "    x=data_50_percent_array,\n",
        "    y=labels_50_percent_array,\n",
        "    validation_data=(val_sentences_arrays_squeezed,\n",
        "                     val_labels_padded), \n",
        "    epochs=5)\n",
        "\n",
        "plot_results(history_8)"
      ],
      "metadata": {
        "colab": {
          "base_uri": "https://localhost:8080/",
          "height": 767
        },
        "id": "vX6riaZJjHvK",
        "outputId": "f059544a-1ec4-4218-83bc-f7a4edab4130"
      },
      "execution_count": null,
      "outputs": [
        {
          "output_type": "stream",
          "name": "stdout",
          "text": [
            "Epoch 1/5\n",
            "220/220 [==============================] - 18s 66ms/step - loss: 0.9451 - accuracy: 0.9281 - val_loss: 0.4905 - val_accuracy: 0.9314\n",
            "Epoch 2/5\n",
            "220/220 [==============================] - 14s 62ms/step - loss: 0.3448 - accuracy: 0.9364 - val_loss: 0.3078 - val_accuracy: 0.9314\n",
            "Epoch 3/5\n",
            "220/220 [==============================] - 14s 61ms/step - loss: 0.2494 - accuracy: 0.9366 - val_loss: 0.2797 - val_accuracy: 0.9318\n",
            "Epoch 4/5\n",
            "220/220 [==============================] - 14s 62ms/step - loss: 0.2201 - accuracy: 0.9407 - val_loss: 0.2638 - val_accuracy: 0.9357\n",
            "Epoch 5/5\n",
            "220/220 [==============================] - 14s 62ms/step - loss: 0.1919 - accuracy: 0.9467 - val_loss: 0.2476 - val_accuracy: 0.9379\n"
          ]
        },
        {
          "output_type": "display_data",
          "data": {
            "text/plain": [
              "<Figure size 432x288 with 1 Axes>"
            ],
            "image/png": "[encoded data removed]"
          },
          "metadata": {
            "needs_background": "light"
          }
        },
        {
          "output_type": "display_data",
          "data": {
            "text/plain": [
              "<Figure size 432x288 with 1 Axes>"
            ],
            "image/png": "[encoded data removed]"
          },
          "metadata": {
            "needs_background": "light"
          }
        }
      ]
    },
    {
      "cell_type": "code",
      "source": [
        "model_8_pred_probs = model_8.predict(val_sentences_arrays_squeezed)\n",
        "model_8_results = calculate_results(true_labels, model_8_pred_probs)\n",
        "model_8_results"
      ],
      "metadata": {
        "colab": {
          "base_uri": "https://localhost:8080/"
        },
        "id": "RaTwM3tJH9KQ",
        "outputId": "75d8be99-f4dd-4e1d-9838-ef4cb6f151e8"
      },
      "execution_count": null,
      "outputs": [
        {
          "output_type": "stream",
          "name": "stderr",
          "text": [
            "/usr/local/lib/python3.7/dist-packages/sklearn/metrics/_classification.py:1318: UndefinedMetricWarning: Precision and F-score are ill-defined and being set to 0.0 in labels with no predicted samples. Use `zero_division` parameter to control this behavior.\n",
            "  _warn_prf(average, modifier, msg_start, len(result))\n"
          ]
        },
        {
          "output_type": "execute_result",
          "data": {
            "text/plain": [
              "{'accuracy': 0.9378602979711013,\n",
              " 'f1-score': 0.920157207395321,\n",
              " 'precision': 0.911683160576041,\n",
              " 'recall': 0.9378602979711013}"
            ]
          },
          "metadata": {},
          "execution_count": 129
        }
      ]
    },
    {
      "cell_type": "markdown",
      "source": [
        "## Model 9 (birectional GRU + AdamW sa LRS)\n",
        "\n",
        "Model 9 je isti kao i model 8, osim što je dodan Learning Rate Scheduler (kod preuzet sa dokumentacije TensorFlow-a: https://www.tensorflow.org/addons/api_docs/python/tfa/optimizers/AdamW).\n",
        "\n",
        "Također, u arhitekturu mreže dodan je još jedan Dropout layer."
      ],
      "metadata": {
        "id": "O6-O8iwBloAR"
      }
    },
    {
      "cell_type": "code",
      "source": [
        "step = tf.Variable(0, trainable=False)\n",
        "schedule = tf.optimizers.schedules.PiecewiseConstantDecay([5000, 10000, 15000], [1e-1, 1e-2, 1e-3, 1e-4])\n",
        "lr = 1e-1 * schedule(step) # dodano\n",
        "wd = lambda: 1e-4 * schedule(step)\n",
        "\n",
        "inputs = tf.keras.Input(shape=(37,))\n",
        "x = layers.Embedding(input_dim=num_words, output_dim=64, input_length=37)(inputs)\n",
        "x = layers.Dropout(0.2)(x)\n",
        "x = layers.Bidirectional(layers.GRU(units=100,\n",
        "                          activation=\"relu\",\n",
        "                          return_sequences=True,\n",
        "                          dropout=0.4,\n",
        "                          kernel_initializer=\"he_normal\",\n",
        "                          kernel_regularizer=l2(0.001)))(x)\n",
        "x = layers.Dropout(0.2)(x)\n",
        "x = layers.Dense(64)(x)\n",
        "x = layers.Dropout(0.4)(x) # dodan dropout\n",
        "outputs = layers.Dense(num_labels, activation=\"softmax\")(x)\n",
        "\n",
        "model_9 = tf.keras.Model(inputs, outputs)\n",
        "\n",
        "model_9.compile(optimizer=tfa.optimizers.AdamW(learning_rate=lr, weight_decay=wd), # promjena\n",
        "                loss=\"sparse_categorical_crossentropy\",\n",
        "                metrics=[\"accuracy\"])\n",
        "\n",
        "history_9 = model_9.fit(\n",
        "    x=data_50_percent_array,\n",
        "    y=labels_50_percent_array,\n",
        "    validation_data=(val_sentences_arrays_squeezed,\n",
        "                     val_labels_padded), \n",
        "    epochs=5)\n",
        "\n",
        "plot_results(history_9)"
      ],
      "metadata": {
        "colab": {
          "base_uri": "https://localhost:8080/",
          "height": 767
        },
        "id": "Hh6aumiUlplw",
        "outputId": "18f29e96-1a15-4d18-d33a-b63ce9426661"
      },
      "execution_count": null,
      "outputs": [
        {
          "output_type": "stream",
          "name": "stdout",
          "text": [
            "Epoch 1/5\n",
            "220/220 [==============================] - 17s 64ms/step - loss: 0.3972 - accuracy: 0.9325 - val_loss: 0.3239 - val_accuracy: 0.9333\n",
            "Epoch 2/5\n",
            "220/220 [==============================] - 14s 63ms/step - loss: 0.2545 - accuracy: 0.9406 - val_loss: 0.2577 - val_accuracy: 0.9371\n",
            "Epoch 3/5\n",
            "220/220 [==============================] - 14s 63ms/step - loss: 0.2028 - accuracy: 0.9470 - val_loss: 0.2312 - val_accuracy: 0.9419\n",
            "Epoch 4/5\n",
            "220/220 [==============================] - 15s 68ms/step - loss: 0.1743 - accuracy: 0.9525 - val_loss: 0.2391 - val_accuracy: 0.9432\n",
            "Epoch 5/5\n",
            "220/220 [==============================] - 14s 63ms/step - loss: 0.1597 - accuracy: 0.9563 - val_loss: 0.2268 - val_accuracy: 0.9447\n"
          ]
        },
        {
          "output_type": "display_data",
          "data": {
            "text/plain": [
              "<Figure size 432x288 with 1 Axes>"
            ],
            "image/png": "[encoded data removed]"
          },
          "metadata": {
            "needs_background": "light"
          }
        },
        {
          "output_type": "display_data",
          "data": {
            "text/plain": [
              "<Figure size 432x288 with 1 Axes>"
            ],
            "image/png": "[encoded data removed]"
          },
          "metadata": {
            "needs_background": "light"
          }
        }
      ]
    },
    {
      "cell_type": "code",
      "source": [
        "model_9_pred_probs = model_9.predict(val_sentences_arrays_squeezed)\n",
        "model_9_results = calculate_results(true_labels, model_9_pred_probs)\n",
        "model_9_results"
      ],
      "metadata": {
        "colab": {
          "base_uri": "https://localhost:8080/"
        },
        "id": "lili5cGCIAiF",
        "outputId": "9690bea5-b378-4e6d-d924-fb9da94cd315"
      },
      "execution_count": null,
      "outputs": [
        {
          "output_type": "execute_result",
          "data": {
            "text/plain": [
              "{'accuracy': 0.9447397536040195,\n",
              " 'f1-score': 0.9323524164392734,\n",
              " 'precision': 0.9335552550266388,\n",
              " 'recall': 0.9447397536040195}"
            ]
          },
          "metadata": {},
          "execution_count": 131
        }
      ]
    },
    {
      "cell_type": "markdown",
      "source": [
        "Sa ovim modelom smo dobili najvišu točnost na skupu za validaciju dosad."
      ],
      "metadata": {
        "id": "9_O8z7Av1WNZ"
      }
    },
    {
      "cell_type": "markdown",
      "source": [
        "# Drugi način pripreme podataka\n",
        "\n",
        "Pokušati ćemo povećati duljinu ulaznih podataka sa 37 na 50 i usporediti rezultate sa prijašnjim modelima."
      ],
      "metadata": {
        "id": "NkxkYlQxSlFX"
      }
    },
    {
      "cell_type": "code",
      "source": [
        "# Što ako povećamo duljinu rečenica sa 37 riječi na 50?\n",
        "\n",
        "from tensorflow.keras.layers import TextVectorization\n",
        "\n",
        "text_vectorizer_50 = TextVectorization(max_tokens=23000,\n",
        "                                       output_sequence_length=50)"
      ],
      "metadata": {
        "id": "9j2JbsvzMOF7"
      },
      "execution_count": null,
      "outputs": []
    },
    {
      "cell_type": "code",
      "source": [
        "text_vectorizer_50.adapt(train_sentences_list)"
      ],
      "metadata": {
        "id": "fyZ9MmCD6af3"
      },
      "execution_count": null,
      "outputs": []
    },
    {
      "cell_type": "code",
      "source": [
        "# Ponovna vektorizacija svih rečenica\n",
        "train_sentences_vectorized_50 = [text_vectorizer_50([x]) for x in train_sentences_list]\n",
        "val_sentences_vectorized_50 = [text_vectorizer_50([x]) for x in val_sentences_list]\n",
        "test_sentences_vectorized_50 = [text_vectorizer_50([x]) for x in test_sentences_list]"
      ],
      "metadata": {
        "id": "bogKZOvh6cmI"
      },
      "execution_count": null,
      "outputs": []
    },
    {
      "cell_type": "code",
      "source": [
        "# Oznake trenutno imaju duljinu pripadajućih rečenica\n",
        "train_labels_tokenized[0]"
      ],
      "metadata": {
        "colab": {
          "base_uri": "https://localhost:8080/"
        },
        "id": "p_IelqUSXbPm",
        "outputId": "f49d63fc-ae4e-4599-86f1-54facffd4368"
      },
      "execution_count": null,
      "outputs": [
        {
          "output_type": "execute_result",
          "data": {
            "text/plain": [
              "[2, 8, 0, 8, 8, 8, 0, 8, 8]"
            ]
          },
          "metadata": {},
          "execution_count": 135
        }
      ]
    },
    {
      "cell_type": "code",
      "source": [
        "# Padding oznaka\n",
        "\n",
        "train_labels_padded_50 = pad_sequences(maxlen=50, # 50 umjesto 37\n",
        "                                        sequences=train_labels_tokenized,\n",
        "                                        padding=\"post\",\n",
        "                                        value=label2idx[\"O\"])\n",
        "\n",
        "val_labels_padded_50 = pad_sequences(maxlen=50,\n",
        "                                      sequences=val_labels_tokenized,\n",
        "                                      padding=\"post\",\n",
        "                                      value=label2idx[\"O\"])\n",
        "\n",
        "test_labels_padded_50 = pad_sequences(maxlen=50,\n",
        "                                      sequences=test_labels_tokenized,\n",
        "                                      padding=\"post\",\n",
        "                                      value=label2idx[\"O\"])"
      ],
      "metadata": {
        "id": "1Qxivsy1XdvE"
      },
      "execution_count": null,
      "outputs": []
    },
    {
      "cell_type": "code",
      "source": [
        "# Pretvaranje rečenica u NumPy arrayove\n",
        "import numpy as np\n",
        "train_sentences_arrays_50 = [np.array(t) for t in train_sentences_vectorized_50]\n",
        "val_sentences_arrays_50 = [np.array(t) for t in val_sentences_vectorized_50]\n",
        "test_sentences_arrays_50 = [np.array(t) for t in test_sentences_vectorized_50]"
      ],
      "metadata": {
        "id": "vkryUwKlXtrt"
      },
      "execution_count": null,
      "outputs": []
    },
    {
      "cell_type": "code",
      "source": [
        "# Smanjivanje dimenzionalosti rečenica - iz (1, 50) u (50,)\n",
        "train_sentences = np.squeeze(train_sentences_arrays_50)\n",
        "val_sentences = np.squeeze(val_sentences_arrays_50)\n",
        "test_sentences = np.squeeze(test_sentences_arrays_50)"
      ],
      "metadata": {
        "id": "fFZcTyXmYKXo"
      },
      "execution_count": null,
      "outputs": []
    },
    {
      "cell_type": "code",
      "source": [
        "type(train_sentences[0]), type(train_labels_padded_50[0])"
      ],
      "metadata": {
        "colab": {
          "base_uri": "https://localhost:8080/"
        },
        "id": "KyLDf73GYdKN",
        "outputId": "d71dcbfb-f67b-434c-a996-1cd67823ea4f"
      },
      "execution_count": null,
      "outputs": [
        {
          "output_type": "execute_result",
          "data": {
            "text/plain": [
              "(numpy.ndarray, numpy.ndarray)"
            ]
          },
          "metadata": {},
          "execution_count": 139
        }
      ]
    },
    {
      "cell_type": "code",
      "source": [
        "print(f\"Oblik rečenica (tipa NumPy array): {train_sentences.shape}\")\n",
        "print(f\"Oblik oznaka (tipa NumPy array): {train_labels_padded_50.shape}\")"
      ],
      "metadata": {
        "colab": {
          "base_uri": "https://localhost:8080/"
        },
        "id": "XdNKG5wpYf8V",
        "outputId": "27dd8ef4-a7f3-4a0a-b05f-a2ae823e1220"
      },
      "execution_count": null,
      "outputs": [
        {
          "output_type": "stream",
          "name": "stdout",
          "text": [
            "Oblik rečenica (tipa NumPy array): (14040, 50)\n",
            "Oblik oznaka (tipa NumPy array): (14040, 50)\n"
          ]
        }
      ]
    },
    {
      "cell_type": "markdown",
      "source": [
        "## Model 10 (dulje rečenice)"
      ],
      "metadata": {
        "id": "vDCkBNn0WqMm"
      }
    },
    {
      "cell_type": "code",
      "source": [
        "# Treniramo samo na 50% podataka\n",
        "\n",
        "X_train, X_50_percent, y_train, y_50_percent = train_test_split(train_sentences,\n",
        "                                                                train_labels_padded_50,\n",
        "                                                                test_size=0.5,\n",
        "                                                                random_state=42)"
      ],
      "metadata": {
        "id": "yIUEMggqYyUe"
      },
      "execution_count": null,
      "outputs": []
    },
    {
      "cell_type": "code",
      "source": [
        "X_50_percent.shape, y_50_percent.shape"
      ],
      "metadata": {
        "colab": {
          "base_uri": "https://localhost:8080/"
        },
        "id": "0_hcAj_0gQAc",
        "outputId": "69314baa-a9bc-4698-c8a4-b5895c8b6f7d"
      },
      "execution_count": null,
      "outputs": [
        {
          "output_type": "execute_result",
          "data": {
            "text/plain": [
              "((7020, 50), (7020, 50))"
            ]
          },
          "metadata": {},
          "execution_count": 142
        }
      ]
    },
    {
      "cell_type": "code",
      "source": [
        "num_words"
      ],
      "metadata": {
        "colab": {
          "base_uri": "https://localhost:8080/"
        },
        "id": "XAtSB9ERhJpN",
        "outputId": "46b829c8-ac2e-4ae6-a3e2-c365c50e74df"
      },
      "execution_count": null,
      "outputs": [
        {
          "output_type": "execute_result",
          "data": {
            "text/plain": [
              "23623"
            ]
          },
          "metadata": {},
          "execution_count": 143
        }
      ]
    },
    {
      "cell_type": "code",
      "source": [
        "# Ista arhitektura kao model_1\n",
        "\n",
        "inputs = tf.keras.Input(shape=(50,)) # input shape je sada 50\n",
        "x = layers.Embedding(input_dim=23000, output_dim=50, input_length=50)(inputs)\n",
        "x = layers.LSTM(100, return_sequences=True)(x)\n",
        "outputs = layers.Dense(num_labels, activation=\"softmax\")(x)\n",
        "\n",
        "model_10 = tf.keras.Model(inputs, outputs)\n",
        "\n",
        "model_10.compile(optimizer=tf.keras.optimizers.Adam(),\n",
        "                  loss=\"sparse_categorical_crossentropy\",\n",
        "                  metrics=[\"accuracy\"])\n",
        "\n",
        "history_10 = model_10.fit(X_50_percent,\n",
        "                          y_50_percent,\n",
        "                          validation_data=(val_sentences,\n",
        "                                          val_labels_padded_50), \n",
        "                          epochs=5)\n",
        "\n",
        "plot_results(history_10)"
      ],
      "metadata": {
        "colab": {
          "base_uri": "https://localhost:8080/",
          "height": 767
        },
        "id": "yayhlRCTWpKm",
        "outputId": "4cda54ac-e2b8-444e-b1c8-7b7269bbd399"
      },
      "execution_count": null,
      "outputs": [
        {
          "output_type": "stream",
          "name": "stdout",
          "text": [
            "Epoch 1/5\n",
            "220/220 [==============================] - 12s 45ms/step - loss: 0.3716 - accuracy: 0.9474 - val_loss: 0.2431 - val_accuracy: 0.9474\n",
            "Epoch 2/5\n",
            "220/220 [==============================] - 10s 44ms/step - loss: 0.1970 - accuracy: 0.9519 - val_loss: 0.2115 - val_accuracy: 0.9480\n",
            "Epoch 3/5\n",
            "220/220 [==============================] - 10s 44ms/step - loss: 0.1716 - accuracy: 0.9523 - val_loss: 0.2019 - val_accuracy: 0.9482\n",
            "Epoch 4/5\n",
            "220/220 [==============================] - 10s 46ms/step - loss: 0.1586 - accuracy: 0.9533 - val_loss: 0.1970 - val_accuracy: 0.9485\n",
            "Epoch 5/5\n",
            "220/220 [==============================] - 10s 44ms/step - loss: 0.1490 - accuracy: 0.9555 - val_loss: 0.1929 - val_accuracy: 0.9493\n"
          ]
        },
        {
          "output_type": "display_data",
          "data": {
            "text/plain": [
              "<Figure size 432x288 with 1 Axes>"
            ],
            "image/png": "[encoded data removed]"
          },
          "metadata": {
            "needs_background": "light"
          }
        },
        {
          "output_type": "display_data",
          "data": {
            "text/plain": [
              "<Figure size 432x288 with 1 Axes>"
            ],
            "image/png": "[encoded data removed]"
          },
          "metadata": {
            "needs_background": "light"
          }
        }
      ]
    },
    {
      "cell_type": "code",
      "source": [
        "# Kreiranje liste sa točnim oznakama\n",
        "true_labels_50 = []\n",
        "\n",
        "for sentence in val_labels_padded_50:\n",
        "  for label in sentence:\n",
        "    true_labels_50.append(label)"
      ],
      "metadata": {
        "id": "Ea1LnTA3iwKv"
      },
      "execution_count": null,
      "outputs": []
    },
    {
      "cell_type": "code",
      "source": [
        "model_10_pred_probs = model_10.predict(val_sentences)\n",
        "model_10_results = calculate_results(true_labels_50, model_10_pred_probs)\n",
        "model_10_results"
      ],
      "metadata": {
        "colab": {
          "base_uri": "https://localhost:8080/"
        },
        "id": "5jSbdfe3Z56E",
        "outputId": "fb4055eb-69fd-458e-e2a3-3d1bdd28167e"
      },
      "execution_count": null,
      "outputs": [
        {
          "output_type": "stream",
          "name": "stderr",
          "text": [
            "/usr/local/lib/python3.7/dist-packages/sklearn/metrics/_classification.py:1318: UndefinedMetricWarning: Precision and F-score are ill-defined and being set to 0.0 in labels with no predicted samples. Use `zero_division` parameter to control this behavior.\n",
            "  _warn_prf(average, modifier, msg_start, len(result))\n"
          ]
        },
        {
          "output_type": "execute_result",
          "data": {
            "text/plain": [
              "{'accuracy': 0.9492520775623269,\n",
              " 'f1-score': 0.9313414052692007,\n",
              " 'precision': 0.9183136071541865,\n",
              " 'recall': 0.9492520775623269}"
            ]
          },
          "metadata": {},
          "execution_count": 146
        }
      ]
    },
    {
      "cell_type": "code",
      "source": [
        "# Usporedba sa prvim modelom\n",
        "model_1_results"
      ],
      "metadata": {
        "colab": {
          "base_uri": "https://localhost:8080/"
        },
        "id": "e4iseBZQeNmS",
        "outputId": "3aec5407-67c3-4466-8ce5-639cb97da019"
      },
      "execution_count": null,
      "outputs": [
        {
          "output_type": "execute_result",
          "data": {
            "text/plain": [
              "{'accuracy': 0.9327776529992596,\n",
              " 'f1-score': 0.9079110727937507,\n",
              " 'precision': 0.8907472253521749,\n",
              " 'recall': 0.9327776529992596}"
            ]
          },
          "metadata": {},
          "execution_count": 147
        }
      ]
    },
    {
      "cell_type": "markdown",
      "source": [
        "Model 10 ima bolji metrike od modela 1. Što ako uzmemo najbolji model koji smo imali s rečenicama duljine 37 i istreniramo ga na rečenicama duljine 50?"
      ],
      "metadata": {
        "id": "q8EGmgXNalWJ"
      }
    },
    {
      "cell_type": "markdown",
      "source": [
        "## Model 11 (isti kao model 9, ali sa duljim rečenicama)"
      ],
      "metadata": {
        "id": "gB4oHgBPcBNZ"
      }
    },
    {
      "cell_type": "code",
      "source": [
        "step = tf.Variable(0, trainable=False)\n",
        "schedule = tf.optimizers.schedules.PiecewiseConstantDecay([5000, 10000, 15000], [1e-1, 1e-2, 1e-3, 1e-4])\n",
        "lr = 1e-1 * schedule(step)\n",
        "wd = lambda: 1e-4 * schedule(step)\n",
        "\n",
        "inputs = tf.keras.Input(shape=(50,)) # input shape je sada 50\n",
        "x = layers.Embedding(input_dim=num_words, output_dim=64, input_length=37)(inputs)\n",
        "x = layers.Dropout(0.2)(x)\n",
        "x = layers.Bidirectional(layers.GRU(units=100,\n",
        "                          activation=\"relu\",\n",
        "                          return_sequences=True,\n",
        "                          dropout=0.4,\n",
        "                          kernel_initializer=\"he_normal\",\n",
        "                          kernel_regularizer=l2(0.001)))(x)\n",
        "x = layers.Dropout(0.2)(x)\n",
        "x = layers.Dense(64)(x)\n",
        "x = layers.Dropout(0.4)(x)\n",
        "outputs = layers.Dense(num_labels, activation=\"softmax\")(x)\n",
        "\n",
        "model_11 = tf.keras.Model(inputs, outputs)\n",
        "\n",
        "model_11.compile(optimizer=tfa.optimizers.AdamW(learning_rate=lr, weight_decay=wd),\n",
        "                loss=\"sparse_categorical_crossentropy\",\n",
        "                metrics=[\"accuracy\"])\n",
        "\n",
        "history_11 = model_11.fit(X_50_percent,\n",
        "                          y_50_percent,\n",
        "                          validation_data=(val_sentences,\n",
        "                                          val_labels_padded_50), \n",
        "                          epochs=5)\n",
        "\n",
        "plot_results(history_11)"
      ],
      "metadata": {
        "colab": {
          "base_uri": "https://localhost:8080/",
          "height": 767
        },
        "id": "gwu_7ZISaw9d",
        "outputId": "d311e091-e88a-4efa-8892-5d3402ccc177"
      },
      "execution_count": null,
      "outputs": [
        {
          "output_type": "stream",
          "name": "stdout",
          "text": [
            "Epoch 1/5\n",
            "220/220 [==============================] - 20s 80ms/step - loss: 0.2904 - accuracy: 0.9477 - val_loss: 0.2042 - val_accuracy: 0.9483\n",
            "Epoch 2/5\n",
            "220/220 [==============================] - 17s 77ms/step - loss: 0.1685 - accuracy: 0.9541 - val_loss: 0.1831 - val_accuracy: 0.9510\n",
            "Epoch 3/5\n",
            "220/220 [==============================] - 17s 77ms/step - loss: 0.1447 - accuracy: 0.9600 - val_loss: 0.1756 - val_accuracy: 0.9554\n",
            "Epoch 4/5\n",
            "220/220 [==============================] - 17s 77ms/step - loss: 0.1260 - accuracy: 0.9655 - val_loss: 0.1710 - val_accuracy: 0.9569\n",
            "Epoch 5/5\n",
            "220/220 [==============================] - 17s 77ms/step - loss: 0.1153 - accuracy: 0.9686 - val_loss: 0.1622 - val_accuracy: 0.9580\n"
          ]
        },
        {
          "output_type": "display_data",
          "data": {
            "text/plain": [
              "<Figure size 432x288 with 1 Axes>"
            ],
            "image/png": "[encoded data removed]"
          },
          "metadata": {
            "needs_background": "light"
          }
        },
        {
          "output_type": "display_data",
          "data": {
            "text/plain": [
              "<Figure size 432x288 with 1 Axes>"
            ],
            "image/png": "[encoded data removed]"
          },
          "metadata": {
            "needs_background": "light"
          }
        }
      ]
    },
    {
      "cell_type": "code",
      "source": [
        "model_11_pred_probs = model_11.predict(val_sentences)\n",
        "model_11_results = calculate_results(true_labels_50, model_11_pred_probs)\n",
        "model_11_results"
      ],
      "metadata": {
        "colab": {
          "base_uri": "https://localhost:8080/"
        },
        "id": "e7k8Qfm6cvsB",
        "outputId": "0ce8eac6-fc70-4f61-cdab-9f5c625dbfb9"
      },
      "execution_count": null,
      "outputs": [
        {
          "output_type": "execute_result",
          "data": {
            "text/plain": [
              "{'accuracy': 0.9580240073868883,\n",
              " 'f1-score': 0.9505383436644911,\n",
              " 'precision': 0.9498855046417278,\n",
              " 'recall': 0.9580240073868883}"
            ]
          },
          "metadata": {},
          "execution_count": 149
        }
      ]
    },
    {
      "cell_type": "code",
      "source": [
        "# Usporedba sa modelom 9\n",
        "model_9_results"
      ],
      "metadata": {
        "colab": {
          "base_uri": "https://localhost:8080/"
        },
        "id": "yq_PlhoccwEQ",
        "outputId": "ee43cfa8-a906-45d6-ae0f-d9698a293620"
      },
      "execution_count": null,
      "outputs": [
        {
          "output_type": "execute_result",
          "data": {
            "text/plain": [
              "{'accuracy': 0.9447397536040195,\n",
              " 'f1-score': 0.9323524164392734,\n",
              " 'precision': 0.9335552550266388,\n",
              " 'recall': 0.9447397536040195}"
            ]
          },
          "metadata": {},
          "execution_count": 150
        }
      ]
    },
    {
      "cell_type": "markdown",
      "source": [
        "Model 11 je model sa najboljim rezultatima dosad, pa sam odlučio njega upotrijebiti u konačnoj verziji projekta. U donjoj ćeliji može se vidjeti detaljno izvješće klasifikacije."
      ],
      "metadata": {
        "id": "uOcZ4mQL1wwQ"
      }
    },
    {
      "cell_type": "code",
      "source": [
        "class_report(true_labels_50, model_11_pred_probs, \"Rezultati modela 11\")"
      ],
      "metadata": {
        "colab": {
          "base_uri": "https://localhost:8080/"
        },
        "id": "LYplVizg19Yw",
        "outputId": "b0ce79a4-a93b-4f7b-f249-f7ea6fe77bc2"
      },
      "execution_count": null,
      "outputs": [
        {
          "output_type": "stream",
          "name": "stdout",
          "text": [
            "\t\t\t-------------------\n",
            "\t\t\tRezultati modela 11\n",
            "\t\t\t-------------------\n",
            "\n",
            "              precision    recall  f1-score   support\n",
            "\n",
            "      B-MISC       0.51      0.40      0.45       918\n",
            "       I-LOC       0.71      0.16      0.27       255\n",
            "       B-ORG       0.72      0.39      0.51      1340\n",
            "       B-LOC       0.63      0.39      0.48      1830\n",
            "       I-ORG       0.63      0.31      0.41       750\n",
            "       I-PER       0.63      0.26      0.37      1257\n",
            "       B-PER       0.58      0.27      0.37      1793\n",
            "      I-MISC       0.82      0.04      0.08       339\n",
            "           O       0.97      0.99      0.98    153968\n",
            "\n",
            "    accuracy                           0.96    162450\n",
            "   macro avg       0.69      0.36      0.44    162450\n",
            "weighted avg       0.95      0.96      0.95    162450\n",
            "\n"
          ]
        }
      ]
    },
    {
      "cell_type": "markdown",
      "source": [
        "# Usporedba rezultata svih modela"
      ],
      "metadata": {
        "id": "RHwhtEAFQiLk"
      }
    },
    {
      "cell_type": "code",
      "source": [
        "import pandas as pd\n",
        "\n",
        "all_model_results = pd.DataFrame({\"model_1\": model_1_results,\n",
        "                                  \"model_2\": model_2_results,\n",
        "                                  \"model_3\": model_3_results,\n",
        "                                  \"model_4\": model_4_results,\n",
        "                                  \"model_5\": model_5_results,\n",
        "                                  \"model_6\": model_6_results,\n",
        "                                  \"model_7\": model_7_results,\n",
        "                                  \"model_8\": model_8_results,\n",
        "                                  \"model_9\": model_9_results,\n",
        "                                  \"model_10\": model_10_results,\n",
        "                                  \"model_11\": model_11_results})"
      ],
      "metadata": {
        "id": "Ruq6ql8zQkBf"
      },
      "execution_count": null,
      "outputs": []
    },
    {
      "cell_type": "code",
      "source": [
        "# Sortirano po f1-scoreu\n",
        "all_model_results.transpose().sort_values(by=\"f1-score\", ascending=False)"
      ],
      "metadata": {
        "colab": {
          "base_uri": "https://localhost:8080/",
          "height": 394
        },
        "id": "CjjSj4gwRRM5",
        "outputId": "df605e40-6af6-48da-bd94-b2e9846dfc57"
      },
      "execution_count": null,
      "outputs": [
        {
          "output_type": "execute_result",
          "data": {
            "text/plain": [
              "          accuracy  precision    recall  f1-score\n",
              "model_11  0.958024   0.949886  0.958024  0.950538\n",
              "model_9   0.944740   0.933555  0.944740  0.932352\n",
              "model_10  0.949252   0.918314  0.949252  0.931341\n",
              "model_4   0.939624   0.923098  0.939624  0.927559\n",
              "model_8   0.937860   0.911683  0.937860  0.920157\n",
              "model_7   0.936380   0.902948  0.936380  0.912136\n",
              "model_2   0.934100   0.897836  0.934100  0.910266\n",
              "model_5   0.934025   0.900903  0.934025  0.908535\n",
              "model_1   0.932778   0.890747  0.932778  0.907911\n",
              "model_3   0.933185   0.908661  0.933185  0.906125\n",
              "model_6   0.930548   0.880585  0.930548  0.900035"
            ],
            "text/html": [
              "\n",
              "  <div id=\"df-6c6ed3d7-b860-4956-aed5-82552492982a\">\n",
              "    <div class=\"colab-df-container\">\n",
              "      <div>\n",
              "<style scoped>\n",
              "    .dataframe tbody tr th:only-of-type {\n",
              "        vertical-align: middle;\n",
              "    }\n",
              "\n",
              "    .dataframe tbody tr th {\n",
              "        vertical-align: top;\n",
              "    }\n",
              "\n",
              "    .dataframe thead th {\n",
              "        text-align: right;\n",
              "    }\n",
              "</style>\n",
              "<table border=\"1\" class=\"dataframe\">\n",
              "  <thead>\n",
              "    <tr style=\"text-align: right;\">\n",
              "      <th></th>\n",
              "      <th>accuracy</th>\n",
              "      <th>precision</th>\n",
              "      <th>recall</th>\n",
              "      <th>f1-score</th>\n",
              "    </tr>\n",
              "  </thead>\n",
              "  <tbody>\n",
              "    <tr>\n",
              "      <th>model_11</th>\n",
              "      <td>0.958024</td>\n",
              "      <td>0.949886</td>\n",
              "      <td>0.958024</td>\n",
              "      <td>0.950538</td>\n",
              "    </tr>\n",
              "    <tr>\n",
              "      <th>model_9</th>\n",
              "      <td>0.944740</td>\n",
              "      <td>0.933555</td>\n",
              "      <td>0.944740</td>\n",
              "      <td>0.932352</td>\n",
              "    </tr>\n",
              "    <tr>\n",
              "      <th>model_10</th>\n",
              "      <td>0.949252</td>\n",
              "      <td>0.918314</td>\n",
              "      <td>0.949252</td>\n",
              "      <td>0.931341</td>\n",
              "    </tr>\n",
              "    <tr>\n",
              "      <th>model_4</th>\n",
              "      <td>0.939624</td>\n",
              "      <td>0.923098</td>\n",
              "      <td>0.939624</td>\n",
              "      <td>0.927559</td>\n",
              "    </tr>\n",
              "    <tr>\n",
              "      <th>model_8</th>\n",
              "      <td>0.937860</td>\n",
              "      <td>0.911683</td>\n",
              "      <td>0.937860</td>\n",
              "      <td>0.920157</td>\n",
              "    </tr>\n",
              "    <tr>\n",
              "      <th>model_7</th>\n",
              "      <td>0.936380</td>\n",
              "      <td>0.902948</td>\n",
              "      <td>0.936380</td>\n",
              "      <td>0.912136</td>\n",
              "    </tr>\n",
              "    <tr>\n",
              "      <th>model_2</th>\n",
              "      <td>0.934100</td>\n",
              "      <td>0.897836</td>\n",
              "      <td>0.934100</td>\n",
              "      <td>0.910266</td>\n",
              "    </tr>\n",
              "    <tr>\n",
              "      <th>model_5</th>\n",
              "      <td>0.934025</td>\n",
              "      <td>0.900903</td>\n",
              "      <td>0.934025</td>\n",
              "      <td>0.908535</td>\n",
              "    </tr>\n",
              "    <tr>\n",
              "      <th>model_1</th>\n",
              "      <td>0.932778</td>\n",
              "      <td>0.890747</td>\n",
              "      <td>0.932778</td>\n",
              "      <td>0.907911</td>\n",
              "    </tr>\n",
              "    <tr>\n",
              "      <th>model_3</th>\n",
              "      <td>0.933185</td>\n",
              "      <td>0.908661</td>\n",
              "      <td>0.933185</td>\n",
              "      <td>0.906125</td>\n",
              "    </tr>\n",
              "    <tr>\n",
              "      <th>model_6</th>\n",
              "      <td>0.930548</td>\n",
              "      <td>0.880585</td>\n",
              "      <td>0.930548</td>\n",
              "      <td>0.900035</td>\n",
              "    </tr>\n",
              "  </tbody>\n",
              "</table>\n",
              "</div>\n",
              "      <button class=\"colab-df-convert\" onclick=\"convertToInteractive('df-6c6ed3d7-b860-4956-aed5-82552492982a')\"\n",
              "              title=\"Convert this dataframe to an interactive table.\"\n",
              "              style=\"display:none;\">\n",
              "        \n",
              "  <svg xmlns=\"http://www.w3.org/2000/svg\" height=\"24px\"viewBox=\"0 0 24 24\"\n",
              "       width=\"24px\">\n",
              "    <path d=\"M0 0h24v24H0V0z\" fill=\"none\"/>\n",
              "    <path d=\"M18.56 5.44l.94 2.06.94-2.06 2.06-.94-2.06-.94-.94-2.06-.94 2.06-2.06.94zm-11 1L8.5 8.5l.94-2.06 2.06-.94-2.06-.94L8.5 2.5l-.94 2.06-2.06.94zm10 10l.94 2.06.94-2.06 2.06-.94-2.06-.94-.94-2.06-.94 2.06-2.06.94z\"/><path d=\"M17.41 7.96l-1.37-1.37c-.4-.4-.92-.59-1.43-.59-.52 0-1.04.2-1.43.59L10.3 9.45l-7.72 7.72c-.78.78-.78 2.05 0 2.83L4 21.41c.39.39.9.59 1.41.59.51 0 1.02-.2 1.41-.59l7.78-7.78 2.81-2.81c.8-.78.8-2.07 0-2.86zM5.41 20L4 18.59l7.72-7.72 1.47 1.35L5.41 20z\"/>\n",
              "  </svg>\n",
              "      </button>\n",
              "      \n",
              "  <style>\n",
              "    .colab-df-container {\n",
              "      display:flex;\n",
              "      flex-wrap:wrap;\n",
              "      gap: 12px;\n",
              "    }\n",
              "\n",
              "    .colab-df-convert {\n",
              "      background-color: #E8F0FE;\n",
              "      border: none;\n",
              "      border-radius: 50%;\n",
              "      cursor: pointer;\n",
              "      display: none;\n",
              "      fill: #1967D2;\n",
              "      height: 32px;\n",
              "      padding: 0 0 0 0;\n",
              "      width: 32px;\n",
              "    }\n",
              "\n",
              "    .colab-df-convert:hover {\n",
              "      background-color: #E2EBFA;\n",
              "      box-shadow: 0px 1px 2px rgba(60, 64, 67, 0.3), 0px 1px 3px 1px rgba(60, 64, 67, 0.15);\n",
              "      fill: #174EA6;\n",
              "    }\n",
              "\n",
              "    [theme=dark] .colab-df-convert {\n",
              "      background-color: #3B4455;\n",
              "      fill: #D2E3FC;\n",
              "    }\n",
              "\n",
              "    [theme=dark] .colab-df-convert:hover {\n",
              "      background-color: #434B5C;\n",
              "      box-shadow: 0px 1px 3px 1px rgba(0, 0, 0, 0.15);\n",
              "      filter: drop-shadow(0px 1px 2px rgba(0, 0, 0, 0.3));\n",
              "      fill: #FFFFFF;\n",
              "    }\n",
              "  </style>\n",
              "\n",
              "      <script>\n",
              "        const buttonEl =\n",
              "          document.querySelector('#df-6c6ed3d7-b860-4956-aed5-82552492982a button.colab-df-convert');\n",
              "        buttonEl.style.display =\n",
              "          google.colab.kernel.accessAllowed ? 'block' : 'none';\n",
              "\n",
              "        async function convertToInteractive(key) {\n",
              "          const element = document.querySelector('#df-6c6ed3d7-b860-4956-aed5-82552492982a');\n",
              "          const dataTable =\n",
              "            await google.colab.kernel.invokeFunction('convertToInteractive',\n",
              "                                                     [key], {});\n",
              "          if (!dataTable) return;\n",
              "\n",
              "          const docLinkHtml = 'Like what you see? Visit the ' +\n",
              "            '<a target=\"_blank\" href=https://colab.research.google.com/notebooks/data_table.ipynb>data table notebook</a>'\n",
              "            + ' to learn more about interactive tables.';\n",
              "          element.innerHTML = '';\n",
              "          dataTable['output_type'] = 'display_data';\n",
              "          await google.colab.output.renderOutput(dataTable, element);\n",
              "          const docLink = document.createElement('div');\n",
              "          docLink.innerHTML = docLinkHtml;\n",
              "          element.appendChild(docLink);\n",
              "        }\n",
              "      </script>\n",
              "    </div>\n",
              "  </div>\n",
              "  "
            ]
          },
          "metadata": {},
          "execution_count": 152
        }
      ]
    }
  ]
}